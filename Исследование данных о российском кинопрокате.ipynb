{
 "cells": [
  {
   "cell_type": "markdown",
   "metadata": {},
   "source": [
    "<h1>Содержание<span class=\"tocSkip\"></span></h1>\n",
    "<div class=\"toc\"><ul class=\"toc-item\"><li><span><a href=\"#Описание-проекта\" data-toc-modified-id=\"Описание-проекта-1\"><span class=\"toc-item-num\">1&nbsp;&nbsp;</span>Описание проекта</a></span></li><li><span><a href=\"#Загрузка-данных\" data-toc-modified-id=\"Загрузка-данных-2\"><span class=\"toc-item-num\">2&nbsp;&nbsp;</span>Загрузка данных</a></span></li><li><span><a href=\"#Предобработка-данных\" data-toc-modified-id=\"Предобработка-данных-3\"><span class=\"toc-item-num\">3&nbsp;&nbsp;</span>Предобработка данных</a></span><ul class=\"toc-item\"><li><span><a href=\"#Замена-типа-данных\" data-toc-modified-id=\"Замена-типа-данных-3.1\"><span class=\"toc-item-num\">3.1&nbsp;&nbsp;</span>Замена типа данных</a></span></li><li><span><a href=\"#Обработка-пропусков\" data-toc-modified-id=\"Обработка-пропусков-3.2\"><span class=\"toc-item-num\">3.2&nbsp;&nbsp;</span>Обработка пропусков</a></span></li><li><span><a href=\"#Обработка-дубликатов\" data-toc-modified-id=\"Обработка-дубликатов-3.3\"><span class=\"toc-item-num\">3.3&nbsp;&nbsp;</span>Обработка дубликатов</a></span></li><li><span><a href=\"#Категориальные-переменные\" data-toc-modified-id=\"Категориальные-переменные-3.4\"><span class=\"toc-item-num\">3.4&nbsp;&nbsp;</span>Категориальные переменные</a></span></li><li><span><a href=\"#Количественные-переменные\" data-toc-modified-id=\"Количественные-переменные-3.5\"><span class=\"toc-item-num\">3.5&nbsp;&nbsp;</span>Количественные переменные</a></span></li><li><span><a href=\"#Обогащение-таблицы\" data-toc-modified-id=\"Обогащение-таблицы-3.6\"><span class=\"toc-item-num\">3.6&nbsp;&nbsp;</span>Обогащение таблицы</a></span></li></ul></li><li><span><a href=\"#Исследовательский-анализ-данных\" data-toc-modified-id=\"Исследовательский-анализ-данных-4\"><span class=\"toc-item-num\">4&nbsp;&nbsp;</span>Исследовательский анализ данных</a></span><ul class=\"toc-item\"><li><span><a href=\"#Анализ-фильмов,-получивших-государственную-поддержку\" data-toc-modified-id=\"Анализ-фильмов,-получивших-государственную-поддержку-4.1\"><span class=\"toc-item-num\">4.1&nbsp;&nbsp;</span>Анализ фильмов, получивших государственную поддержку</a></span></li></ul></li><li><span><a href=\"#Общий-вывод\" data-toc-modified-id=\"Общий-вывод-5\"><span class=\"toc-item-num\">5&nbsp;&nbsp;</span>Общий вывод</a></span></li></ul></div>"
   ]
  },
  {
   "cell_type": "markdown",
   "metadata": {
    "id": "3bSlkCsbgFyL"
   },
   "source": [
    "# Исследование данных о российском кинопрокате\n",
    "## Описание проекта\n",
    "\n",
    "Цель данного исследования - изучение рынка российского кинопроката и выявление текущих трендов, а также анализ фильмов, получивших государственную поддержку.\n",
    "Источник информации - данные, опубликованные на портале открытых данных Министерства культуры Российской Федерации. Набор данных содержит информацию о прокатных удостоверениях, сборах и государственной поддержке фильмов, а также информацию с сайта КиноПоиск.\n",
    "\n",
    "## Загрузка данных\n",
    "\n",
    "Импортируем библиотеки:"
   ]
  },
  {
   "cell_type": "code",
   "execution_count": 101,
   "metadata": {
    "scrolled": false
   },
   "outputs": [],
   "source": [
    "import pandas as pd\n",
    "import matplotlib.pyplot as plt\n",
    "import seaborn as sns\n",
    "import numpy as np\n",
    "import warnings\n",
    "warnings.simplefilter(action='ignore', category=FutureWarning)\n",
    "\n",
    "pd.set_option('display.float_format', '{:,.2f}'.format)"
   ]
  },
  {
   "cell_type": "markdown",
   "metadata": {},
   "source": [
    "Прочитаем файлы из папки /datasets и сохраним их в переменных `df` и `box_office`. Выведем на экран первые 5 строк таблиц:"
   ]
  },
  {
   "cell_type": "code",
   "execution_count": 102,
   "metadata": {},
   "outputs": [
    {
     "data": {
      "text/html": [
       "<div>\n",
       "<style scoped>\n",
       "    .dataframe tbody tr th:only-of-type {\n",
       "        vertical-align: middle;\n",
       "    }\n",
       "\n",
       "    .dataframe tbody tr th {\n",
       "        vertical-align: top;\n",
       "    }\n",
       "\n",
       "    .dataframe thead th {\n",
       "        text-align: right;\n",
       "    }\n",
       "</style>\n",
       "<table border=\"1\" class=\"dataframe\">\n",
       "  <thead>\n",
       "    <tr style=\"text-align: right;\">\n",
       "      <th></th>\n",
       "      <th>title</th>\n",
       "      <th>puNumber</th>\n",
       "      <th>show_start_date</th>\n",
       "      <th>type</th>\n",
       "      <th>film_studio</th>\n",
       "      <th>production_country</th>\n",
       "      <th>director</th>\n",
       "      <th>producer</th>\n",
       "      <th>age_restriction</th>\n",
       "      <th>refundable_support</th>\n",
       "      <th>nonrefundable_support</th>\n",
       "      <th>budget</th>\n",
       "      <th>financing_source</th>\n",
       "      <th>ratings</th>\n",
       "      <th>genres</th>\n",
       "    </tr>\n",
       "  </thead>\n",
       "  <tbody>\n",
       "    <tr>\n",
       "      <th>0</th>\n",
       "      <td>Открытый простор</td>\n",
       "      <td>221048915</td>\n",
       "      <td>2015-11-27T12:00:00.000Z</td>\n",
       "      <td>Художественный</td>\n",
       "      <td>Тачстоун Пикчерз, Кобальт Пикчерз, Бикон Пикче...</td>\n",
       "      <td>США</td>\n",
       "      <td>Кевин Костнер</td>\n",
       "      <td>Дэвид Валдес, Кевин Костнер, Джейк Эбертс</td>\n",
       "      <td>«18+» - запрещено для детей</td>\n",
       "      <td>NaN</td>\n",
       "      <td>NaN</td>\n",
       "      <td>NaN</td>\n",
       "      <td>NaN</td>\n",
       "      <td>7.2</td>\n",
       "      <td>боевик,драма,мелодрама</td>\n",
       "    </tr>\n",
       "    <tr>\n",
       "      <th>1</th>\n",
       "      <td>Особо важное задание</td>\n",
       "      <td>111013716</td>\n",
       "      <td>2016-09-13T12:00:00.000Z</td>\n",
       "      <td>Художественный</td>\n",
       "      <td>Киностудия \"Мосфильм\"</td>\n",
       "      <td>СССР</td>\n",
       "      <td>Е.Матвеев</td>\n",
       "      <td>NaN</td>\n",
       "      <td>«6+» - для детей старше 6 лет</td>\n",
       "      <td>NaN</td>\n",
       "      <td>NaN</td>\n",
       "      <td>NaN</td>\n",
       "      <td>NaN</td>\n",
       "      <td>6.6</td>\n",
       "      <td>драма,военный</td>\n",
       "    </tr>\n",
       "    <tr>\n",
       "      <th>2</th>\n",
       "      <td>Особо опасен</td>\n",
       "      <td>221038416</td>\n",
       "      <td>2016-10-10T12:00:00.000Z</td>\n",
       "      <td>Художественный</td>\n",
       "      <td>Юниверсал Пикчерз, Кикстарт Продакшнз, Марк Пл...</td>\n",
       "      <td>США</td>\n",
       "      <td>Тимур Бекмамбетов</td>\n",
       "      <td>Джим Лемли, Джейсон Нетер, Марк Е.Платт, Яйн Смит</td>\n",
       "      <td>«18+» - запрещено для детей</td>\n",
       "      <td>NaN</td>\n",
       "      <td>NaN</td>\n",
       "      <td>NaN</td>\n",
       "      <td>NaN</td>\n",
       "      <td>6.8</td>\n",
       "      <td>фантастика,боевик,триллер</td>\n",
       "    </tr>\n",
       "    <tr>\n",
       "      <th>3</th>\n",
       "      <td>Особо опасен</td>\n",
       "      <td>221026916</td>\n",
       "      <td>2016-06-10T12:00:00.000Z</td>\n",
       "      <td>Художественный</td>\n",
       "      <td>Юниверсал Пикчерз, Кикстарт Продакшнз, Марк Пл...</td>\n",
       "      <td>США</td>\n",
       "      <td>Тимур Бекмамбетов</td>\n",
       "      <td>Джим Лемли, Джейсон Нетер, Марк Е.Платт, Яйн Смит</td>\n",
       "      <td>«18+» - запрещено для детей</td>\n",
       "      <td>NaN</td>\n",
       "      <td>NaN</td>\n",
       "      <td>NaN</td>\n",
       "      <td>NaN</td>\n",
       "      <td>6.8</td>\n",
       "      <td>фантастика,боевик,триллер</td>\n",
       "    </tr>\n",
       "    <tr>\n",
       "      <th>4</th>\n",
       "      <td>Особо опасен</td>\n",
       "      <td>221030815</td>\n",
       "      <td>2015-07-29T12:00:00.000Z</td>\n",
       "      <td>Художественный</td>\n",
       "      <td>Юниверсал Пикчерз, Кикстарт Продакшнз, Марк Пл...</td>\n",
       "      <td>США</td>\n",
       "      <td>Тимур Бекмамбетов</td>\n",
       "      <td>Джим Лемли, Джейсон Нетер, Марк Е.Платт, Яйн Смит</td>\n",
       "      <td>«18+» - запрещено для детей</td>\n",
       "      <td>NaN</td>\n",
       "      <td>NaN</td>\n",
       "      <td>NaN</td>\n",
       "      <td>NaN</td>\n",
       "      <td>6.8</td>\n",
       "      <td>фантастика,боевик,триллер</td>\n",
       "    </tr>\n",
       "  </tbody>\n",
       "</table>\n",
       "</div>"
      ],
      "text/plain": [
       "                  title   puNumber           show_start_date            type  \\\n",
       "0      Открытый простор  221048915  2015-11-27T12:00:00.000Z  Художественный   \n",
       "1  Особо важное задание  111013716  2016-09-13T12:00:00.000Z  Художественный   \n",
       "2          Особо опасен  221038416  2016-10-10T12:00:00.000Z  Художественный   \n",
       "3          Особо опасен  221026916  2016-06-10T12:00:00.000Z  Художественный   \n",
       "4          Особо опасен  221030815  2015-07-29T12:00:00.000Z  Художественный   \n",
       "\n",
       "                                         film_studio production_country  \\\n",
       "0  Тачстоун Пикчерз, Кобальт Пикчерз, Бикон Пикче...                США   \n",
       "1                              Киностудия \"Мосфильм\"               СССР   \n",
       "2  Юниверсал Пикчерз, Кикстарт Продакшнз, Марк Пл...                США   \n",
       "3  Юниверсал Пикчерз, Кикстарт Продакшнз, Марк Пл...                США   \n",
       "4  Юниверсал Пикчерз, Кикстарт Продакшнз, Марк Пл...                США   \n",
       "\n",
       "            director                                           producer  \\\n",
       "0      Кевин Костнер          Дэвид Валдес, Кевин Костнер, Джейк Эбертс   \n",
       "1          Е.Матвеев                                                NaN   \n",
       "2  Тимур Бекмамбетов  Джим Лемли, Джейсон Нетер, Марк Е.Платт, Яйн Смит   \n",
       "3  Тимур Бекмамбетов  Джим Лемли, Джейсон Нетер, Марк Е.Платт, Яйн Смит   \n",
       "4  Тимур Бекмамбетов  Джим Лемли, Джейсон Нетер, Марк Е.Платт, Яйн Смит   \n",
       "\n",
       "                 age_restriction  refundable_support  nonrefundable_support  \\\n",
       "0    «18+» - запрещено для детей                 NaN                    NaN   \n",
       "1  «6+» - для детей старше 6 лет                 NaN                    NaN   \n",
       "2    «18+» - запрещено для детей                 NaN                    NaN   \n",
       "3    «18+» - запрещено для детей                 NaN                    NaN   \n",
       "4    «18+» - запрещено для детей                 NaN                    NaN   \n",
       "\n",
       "   budget financing_source ratings                     genres  \n",
       "0     NaN              NaN     7.2     боевик,драма,мелодрама  \n",
       "1     NaN              NaN     6.6              драма,военный  \n",
       "2     NaN              NaN     6.8  фантастика,боевик,триллер  \n",
       "3     NaN              NaN     6.8  фантастика,боевик,триллер  \n",
       "4     NaN              NaN     6.8  фантастика,боевик,триллер  "
      ]
     },
     "metadata": {},
     "output_type": "display_data"
    },
    {
     "data": {
      "text/html": [
       "<div>\n",
       "<style scoped>\n",
       "    .dataframe tbody tr th:only-of-type {\n",
       "        vertical-align: middle;\n",
       "    }\n",
       "\n",
       "    .dataframe tbody tr th {\n",
       "        vertical-align: top;\n",
       "    }\n",
       "\n",
       "    .dataframe thead th {\n",
       "        text-align: right;\n",
       "    }\n",
       "</style>\n",
       "<table border=\"1\" class=\"dataframe\">\n",
       "  <thead>\n",
       "    <tr style=\"text-align: right;\">\n",
       "      <th></th>\n",
       "      <th>puNumber</th>\n",
       "      <th>box_office</th>\n",
       "    </tr>\n",
       "  </thead>\n",
       "  <tbody>\n",
       "    <tr>\n",
       "      <th>0</th>\n",
       "      <td>111000113</td>\n",
       "      <td>2,450.00</td>\n",
       "    </tr>\n",
       "    <tr>\n",
       "      <th>1</th>\n",
       "      <td>111000115</td>\n",
       "      <td>61,040.00</td>\n",
       "    </tr>\n",
       "    <tr>\n",
       "      <th>2</th>\n",
       "      <td>111000116</td>\n",
       "      <td>153,030,013.40</td>\n",
       "    </tr>\n",
       "    <tr>\n",
       "      <th>3</th>\n",
       "      <td>111000117</td>\n",
       "      <td>12,260,956.00</td>\n",
       "    </tr>\n",
       "    <tr>\n",
       "      <th>4</th>\n",
       "      <td>111000118</td>\n",
       "      <td>163,684,057.79</td>\n",
       "    </tr>\n",
       "  </tbody>\n",
       "</table>\n",
       "</div>"
      ],
      "text/plain": [
       "    puNumber     box_office\n",
       "0  111000113       2,450.00\n",
       "1  111000115      61,040.00\n",
       "2  111000116 153,030,013.40\n",
       "3  111000117  12,260,956.00\n",
       "4  111000118 163,684,057.79"
      ]
     },
     "metadata": {},
     "output_type": "display_data"
    }
   ],
   "source": [
    "df = pd.read_csv('/datasets/mkrf_movies.csv')\n",
    "box_office = pd.read_csv('/datasets/mkrf_shows.csv')\n",
    "\n",
    "display(df.head())\n",
    "display(box_office.head())"
   ]
  },
  {
   "cell_type": "markdown",
   "metadata": {},
   "source": [
    "Изучим общую информацию о таблицах:"
   ]
  },
  {
   "cell_type": "code",
   "execution_count": 103,
   "metadata": {},
   "outputs": [
    {
     "name": "stdout",
     "output_type": "stream",
     "text": [
      "<class 'pandas.core.frame.DataFrame'>\n",
      "RangeIndex: 7486 entries, 0 to 7485\n",
      "Data columns (total 15 columns):\n",
      " #   Column                 Non-Null Count  Dtype  \n",
      "---  ------                 --------------  -----  \n",
      " 0   title                  7486 non-null   object \n",
      " 1   puNumber               7486 non-null   object \n",
      " 2   show_start_date        7486 non-null   object \n",
      " 3   type                   7486 non-null   object \n",
      " 4   film_studio            7468 non-null   object \n",
      " 5   production_country     7484 non-null   object \n",
      " 6   director               7477 non-null   object \n",
      " 7   producer               6918 non-null   object \n",
      " 8   age_restriction        7486 non-null   object \n",
      " 9   refundable_support     332 non-null    float64\n",
      " 10  nonrefundable_support  332 non-null    float64\n",
      " 11  budget                 332 non-null    float64\n",
      " 12  financing_source       332 non-null    object \n",
      " 13  ratings                6519 non-null   object \n",
      " 14  genres                 6510 non-null   object \n",
      "dtypes: float64(3), object(12)\n",
      "memory usage: 877.4+ KB\n",
      "\n",
      "\n",
      "<class 'pandas.core.frame.DataFrame'>\n",
      "RangeIndex: 3158 entries, 0 to 3157\n",
      "Data columns (total 2 columns):\n",
      " #   Column      Non-Null Count  Dtype  \n",
      "---  ------      --------------  -----  \n",
      " 0   puNumber    3158 non-null   int64  \n",
      " 1   box_office  3158 non-null   float64\n",
      "dtypes: float64(1), int64(1)\n",
      "memory usage: 49.5 KB\n"
     ]
    }
   ],
   "source": [
    "df.info()\n",
    "print('\\n')\n",
    "box_office.info()"
   ]
  },
  {
   "cell_type": "markdown",
   "metadata": {},
   "source": [
    "В таблице `df` 15 столбцов, согласно документации к данным:\n",
    "- `title` — название фильма;\n",
    "- `puNumber` — номер прокатного удостоверения;\n",
    "- `show_start_date` — дата премьеры фильма;\n",
    "- `type` — тип фильма;\n",
    "- `film_studio` — студия-производитель;\n",
    "- `production_country` — страна-производитель;\n",
    "- `director` — режиссёр;\n",
    "- `producer` — продюсер;\n",
    "- `age_restriction` — возрастная категория;\n",
    "- `refundable_support` — объём возвратных средств государственной поддержки;\n",
    "- `nonrefundable_support` — объём невозвратных средств государственной поддержки;\n",
    "- `financing_source` — источник государственного финансирования;\n",
    "- `budget` — общий бюджет фильма;\n",
    "- `ratings` — рейтинг фильма на КиноПоиске;\n",
    "- `genres` — жанр фильма.\n",
    "\n",
    "В таблице `box_office` всего 2 столбца:\n",
    "- `puNumber` — номер прокатного удостоверения;\n",
    "- `box_office` — сборы в рублях.\n",
    "\n",
    "Название столбца `puNumber` не соответсвует единому стилю названий столбцов, исправим его:"
   ]
  },
  {
   "cell_type": "code",
   "execution_count": 104,
   "metadata": {},
   "outputs": [],
   "source": [
    "df = df.rename(columns={'puNumber':'pu_number'})\n",
    "box_office = box_office.rename(columns={'puNumber':'pu_number'})"
   ]
  },
  {
   "cell_type": "markdown",
   "metadata": {
    "id": "ssWwKXsxgFyO"
   },
   "source": [
    "## Предобработка данных\n",
    "\n",
    "### Замена типа данных\n",
    "\n",
    "Первичным ключом, по которому можно объединить две таблицы является номер прокатного удостоверения `pu_number`, но в таблице **df** это поле имеет строчный тип данных. Изменим тип данных на числовой:"
   ]
  },
  {
   "cell_type": "code",
   "execution_count": 105,
   "metadata": {},
   "outputs": [],
   "source": [
    "df['pu_number'] = pd.to_numeric(df['pu_number'], errors='coerce')"
   ]
  },
  {
   "cell_type": "markdown",
   "metadata": {},
   "source": [
    "Теперь объеденим обе таблицы при помощи **merge**:"
   ]
  },
  {
   "cell_type": "code",
   "execution_count": 106,
   "metadata": {},
   "outputs": [],
   "source": [
    "df = df.merge(box_office, on='pu_number', how='left')"
   ]
  },
  {
   "cell_type": "markdown",
   "metadata": {
    "id": "i0MOLbF-gFyP"
   },
   "source": [
    "Теперь данные из двух таблиц объединены в одну.\n",
    "\n",
    "### Обработка пропусков\n",
    "\n",
    "Посчитаем количество и долю пропусков в таблице:"
   ]
  },
  {
   "cell_type": "code",
   "execution_count": 107,
   "metadata": {},
   "outputs": [
    {
     "data": {
      "text/html": [
       "<div>\n",
       "<style scoped>\n",
       "    .dataframe tbody tr th:only-of-type {\n",
       "        vertical-align: middle;\n",
       "    }\n",
       "\n",
       "    .dataframe tbody tr th {\n",
       "        vertical-align: top;\n",
       "    }\n",
       "\n",
       "    .dataframe thead th {\n",
       "        text-align: right;\n",
       "    }\n",
       "</style>\n",
       "<table border=\"1\" class=\"dataframe\">\n",
       "  <thead>\n",
       "    <tr style=\"text-align: right;\">\n",
       "      <th></th>\n",
       "      <th>количество пропусков</th>\n",
       "      <th>доля пропусков</th>\n",
       "    </tr>\n",
       "  </thead>\n",
       "  <tbody>\n",
       "    <tr>\n",
       "      <th>title</th>\n",
       "      <td>0</td>\n",
       "      <td>0.0%</td>\n",
       "    </tr>\n",
       "    <tr>\n",
       "      <th>pu_number</th>\n",
       "      <td>1</td>\n",
       "      <td>0.0%</td>\n",
       "    </tr>\n",
       "    <tr>\n",
       "      <th>show_start_date</th>\n",
       "      <td>0</td>\n",
       "      <td>0.0%</td>\n",
       "    </tr>\n",
       "    <tr>\n",
       "      <th>type</th>\n",
       "      <td>0</td>\n",
       "      <td>0.0%</td>\n",
       "    </tr>\n",
       "    <tr>\n",
       "      <th>film_studio</th>\n",
       "      <td>18</td>\n",
       "      <td>0.2%</td>\n",
       "    </tr>\n",
       "    <tr>\n",
       "      <th>production_country</th>\n",
       "      <td>2</td>\n",
       "      <td>0.0%</td>\n",
       "    </tr>\n",
       "    <tr>\n",
       "      <th>director</th>\n",
       "      <td>9</td>\n",
       "      <td>0.1%</td>\n",
       "    </tr>\n",
       "    <tr>\n",
       "      <th>producer</th>\n",
       "      <td>568</td>\n",
       "      <td>7.6%</td>\n",
       "    </tr>\n",
       "    <tr>\n",
       "      <th>age_restriction</th>\n",
       "      <td>0</td>\n",
       "      <td>0.0%</td>\n",
       "    </tr>\n",
       "    <tr>\n",
       "      <th>refundable_support</th>\n",
       "      <td>7154</td>\n",
       "      <td>95.6%</td>\n",
       "    </tr>\n",
       "    <tr>\n",
       "      <th>nonrefundable_support</th>\n",
       "      <td>7154</td>\n",
       "      <td>95.6%</td>\n",
       "    </tr>\n",
       "    <tr>\n",
       "      <th>budget</th>\n",
       "      <td>7154</td>\n",
       "      <td>95.6%</td>\n",
       "    </tr>\n",
       "    <tr>\n",
       "      <th>financing_source</th>\n",
       "      <td>7154</td>\n",
       "      <td>95.6%</td>\n",
       "    </tr>\n",
       "    <tr>\n",
       "      <th>ratings</th>\n",
       "      <td>967</td>\n",
       "      <td>12.9%</td>\n",
       "    </tr>\n",
       "    <tr>\n",
       "      <th>genres</th>\n",
       "      <td>976</td>\n",
       "      <td>13.0%</td>\n",
       "    </tr>\n",
       "    <tr>\n",
       "      <th>box_office</th>\n",
       "      <td>4328</td>\n",
       "      <td>57.8%</td>\n",
       "    </tr>\n",
       "  </tbody>\n",
       "</table>\n",
       "</div>"
      ],
      "text/plain": [
       "                       количество пропусков доля пропусков\n",
       "title                                     0           0.0%\n",
       "pu_number                                 1           0.0%\n",
       "show_start_date                           0           0.0%\n",
       "type                                      0           0.0%\n",
       "film_studio                              18           0.2%\n",
       "production_country                        2           0.0%\n",
       "director                                  9           0.1%\n",
       "producer                                568           7.6%\n",
       "age_restriction                           0           0.0%\n",
       "refundable_support                     7154          95.6%\n",
       "nonrefundable_support                  7154          95.6%\n",
       "budget                                 7154          95.6%\n",
       "financing_source                       7154          95.6%\n",
       "ratings                                 967          12.9%\n",
       "genres                                  976          13.0%\n",
       "box_office                             4328          57.8%"
      ]
     },
     "execution_count": 107,
     "metadata": {},
     "output_type": "execute_result"
    }
   ],
   "source": [
    "pd.concat([df.isna().sum(), df.isna().mean().apply(lambda x: '{0:.1f}%'.format(x * 100))], \n",
    "          axis=1).rename(columns={0:'количество пропусков', 1:'доля пропусков'})"
   ]
  },
  {
   "cell_type": "markdown",
   "metadata": {},
   "source": [
    "В таблице имеются пропуски, часть столбов практически полностью не заполнена. Релевантные данные для заполнения  пропусков отсутствуют, поэтому оставим их как есть. Проверим, для какого количества фильмов с господдержкой остуствуют данных по сборам:"
   ]
  },
  {
   "cell_type": "code",
   "execution_count": 108,
   "metadata": {},
   "outputs": [
    {
     "data": {
      "text/plain": [
       "14"
      ]
     },
     "execution_count": 108,
     "metadata": {},
     "output_type": "execute_result"
    }
   ],
   "source": [
    "df[df['budget'].notna()]['box_office'].isna().sum()"
   ]
  },
  {
   "cell_type": "markdown",
   "metadata": {
    "id": "4c6k1t9ygFyQ"
   },
   "source": [
    "Таких фильмов не так много.\n",
    "\n",
    "### Обработка дубликатов\n",
    "\n",
    "Посчитаем количество явных дубликатов в таблице:"
   ]
  },
  {
   "cell_type": "code",
   "execution_count": 109,
   "metadata": {},
   "outputs": [
    {
     "name": "stdout",
     "output_type": "stream",
     "text": [
      "Количество дубликатов: 0\n"
     ]
    }
   ],
   "source": [
    "print('Количество дубликатов:', df.duplicated().sum())"
   ]
  },
  {
   "cell_type": "markdown",
   "metadata": {
    "id": "52fOPrEBgFyQ"
   },
   "source": [
    "Явные дубликаты в таблице отсутствуют.\n",
    "\n",
    "### Категориальные переменные\n",
    "\n",
    "Заменим все пропуски в категориальных переменных на 'unknown':"
   ]
  },
  {
   "cell_type": "code",
   "execution_count": 110,
   "metadata": {},
   "outputs": [],
   "source": [
    "columns = ['title', 'type', 'film_studio','production_country', \n",
    "           'director', 'producer', 'age_restriction','financing_source', 'genres',]\n",
    "\n",
    "for column in columns:  #  используем цикл по столбцам\n",
    "    df[columns] = df[columns].fillna('unknown')"
   ]
  },
  {
   "cell_type": "markdown",
   "metadata": {},
   "source": [
    "Более подробно изучим столбцы с категориальными переменными:"
   ]
  },
  {
   "cell_type": "code",
   "execution_count": 111,
   "metadata": {},
   "outputs": [
    {
     "data": {
      "text/html": [
       "<div>\n",
       "<style scoped>\n",
       "    .dataframe tbody tr th:only-of-type {\n",
       "        vertical-align: middle;\n",
       "    }\n",
       "\n",
       "    .dataframe tbody tr th {\n",
       "        vertical-align: top;\n",
       "    }\n",
       "\n",
       "    .dataframe thead th {\n",
       "        text-align: right;\n",
       "    }\n",
       "</style>\n",
       "<table border=\"1\" class=\"dataframe\">\n",
       "  <thead>\n",
       "    <tr style=\"text-align: right;\">\n",
       "      <th></th>\n",
       "      <th>type</th>\n",
       "    </tr>\n",
       "  </thead>\n",
       "  <tbody>\n",
       "    <tr>\n",
       "      <th>Художественный</th>\n",
       "      <td>4520</td>\n",
       "    </tr>\n",
       "    <tr>\n",
       "      <th>Художественный</th>\n",
       "      <td>1389</td>\n",
       "    </tr>\n",
       "    <tr>\n",
       "      <th>Анимационный</th>\n",
       "      <td>828</td>\n",
       "    </tr>\n",
       "    <tr>\n",
       "      <th>Прочие</th>\n",
       "      <td>406</td>\n",
       "    </tr>\n",
       "    <tr>\n",
       "      <th>Документальный</th>\n",
       "      <td>288</td>\n",
       "    </tr>\n",
       "  </tbody>\n",
       "</table>\n",
       "</div>"
      ],
      "text/plain": [
       "                 type\n",
       "Художественный   4520\n",
       " Художественный  1389\n",
       "Анимационный      828\n",
       "Прочие            406\n",
       "Документальный    288"
      ]
     },
     "metadata": {},
     "output_type": "display_data"
    },
    {
     "data": {
      "text/html": [
       "<div>\n",
       "<style scoped>\n",
       "    .dataframe tbody tr th:only-of-type {\n",
       "        vertical-align: middle;\n",
       "    }\n",
       "\n",
       "    .dataframe tbody tr th {\n",
       "        vertical-align: top;\n",
       "    }\n",
       "\n",
       "    .dataframe thead th {\n",
       "        text-align: right;\n",
       "    }\n",
       "</style>\n",
       "<table border=\"1\" class=\"dataframe\">\n",
       "  <thead>\n",
       "    <tr style=\"text-align: right;\">\n",
       "      <th></th>\n",
       "      <th>production_country</th>\n",
       "    </tr>\n",
       "  </thead>\n",
       "  <tbody>\n",
       "    <tr>\n",
       "      <th>США</th>\n",
       "      <td>2172</td>\n",
       "    </tr>\n",
       "    <tr>\n",
       "      <th>Россия</th>\n",
       "      <td>1821</td>\n",
       "    </tr>\n",
       "    <tr>\n",
       "      <th>СССР</th>\n",
       "      <td>347</td>\n",
       "    </tr>\n",
       "    <tr>\n",
       "      <th>Франция</th>\n",
       "      <td>301</td>\n",
       "    </tr>\n",
       "    <tr>\n",
       "      <th>Великобритания</th>\n",
       "      <td>257</td>\n",
       "    </tr>\n",
       "  </tbody>\n",
       "</table>\n",
       "</div>"
      ],
      "text/plain": [
       "                production_country\n",
       "США                           2172\n",
       "Россия                        1821\n",
       "СССР                           347\n",
       "Франция                        301\n",
       "Великобритания                 257"
      ]
     },
     "metadata": {},
     "output_type": "display_data"
    },
    {
     "data": {
      "text/html": [
       "<div>\n",
       "<style scoped>\n",
       "    .dataframe tbody tr th:only-of-type {\n",
       "        vertical-align: middle;\n",
       "    }\n",
       "\n",
       "    .dataframe tbody tr th {\n",
       "        vertical-align: top;\n",
       "    }\n",
       "\n",
       "    .dataframe thead th {\n",
       "        text-align: right;\n",
       "    }\n",
       "</style>\n",
       "<table border=\"1\" class=\"dataframe\">\n",
       "  <thead>\n",
       "    <tr style=\"text-align: right;\">\n",
       "      <th></th>\n",
       "      <th>director</th>\n",
       "    </tr>\n",
       "  </thead>\n",
       "  <tbody>\n",
       "    <tr>\n",
       "      <th>О.Семёнова</th>\n",
       "      <td>47</td>\n",
       "    </tr>\n",
       "    <tr>\n",
       "      <th>Стивен Содерберг</th>\n",
       "      <td>17</td>\n",
       "    </tr>\n",
       "    <tr>\n",
       "      <th>Д.Червяцов</th>\n",
       "      <td>17</td>\n",
       "    </tr>\n",
       "    <tr>\n",
       "      <th>Ридли Скотт</th>\n",
       "      <td>16</td>\n",
       "    </tr>\n",
       "    <tr>\n",
       "      <th>Тиль Швайгер</th>\n",
       "      <td>14</td>\n",
       "    </tr>\n",
       "  </tbody>\n",
       "</table>\n",
       "</div>"
      ],
      "text/plain": [
       "                  director\n",
       "О.Семёнова              47\n",
       "Стивен Содерберг        17\n",
       "Д.Червяцов              17\n",
       "Ридли Скотт             16\n",
       "Тиль Швайгер            14"
      ]
     },
     "metadata": {},
     "output_type": "display_data"
    },
    {
     "data": {
      "text/html": [
       "<div>\n",
       "<style scoped>\n",
       "    .dataframe tbody tr th:only-of-type {\n",
       "        vertical-align: middle;\n",
       "    }\n",
       "\n",
       "    .dataframe tbody tr th {\n",
       "        vertical-align: top;\n",
       "    }\n",
       "\n",
       "    .dataframe thead th {\n",
       "        text-align: right;\n",
       "    }\n",
       "</style>\n",
       "<table border=\"1\" class=\"dataframe\">\n",
       "  <thead>\n",
       "    <tr style=\"text-align: right;\">\n",
       "      <th></th>\n",
       "      <th>producer</th>\n",
       "    </tr>\n",
       "  </thead>\n",
       "  <tbody>\n",
       "    <tr>\n",
       "      <th>unknown</th>\n",
       "      <td>568</td>\n",
       "    </tr>\n",
       "    <tr>\n",
       "      <th>П.Смирнов</th>\n",
       "      <td>67</td>\n",
       "    </tr>\n",
       "    <tr>\n",
       "      <th>Олег Кузовков, Дмитрий Ловейко, Марина Ратина</th>\n",
       "      <td>28</td>\n",
       "    </tr>\n",
       "    <tr>\n",
       "      <th>С.Сельянов</th>\n",
       "      <td>18</td>\n",
       "    </tr>\n",
       "    <tr>\n",
       "      <th>Д.Ловейко, О.Кузовков</th>\n",
       "      <td>17</td>\n",
       "    </tr>\n",
       "  </tbody>\n",
       "</table>\n",
       "</div>"
      ],
      "text/plain": [
       "                                               producer\n",
       "unknown                                             568\n",
       "П.Смирнов                                            67\n",
       "Олег Кузовков, Дмитрий Ловейко, Марина Ратина        28\n",
       "С.Сельянов                                           18\n",
       "Д.Ловейко, О.Кузовков                                17"
      ]
     },
     "metadata": {},
     "output_type": "display_data"
    },
    {
     "data": {
      "text/html": [
       "<div>\n",
       "<style scoped>\n",
       "    .dataframe tbody tr th:only-of-type {\n",
       "        vertical-align: middle;\n",
       "    }\n",
       "\n",
       "    .dataframe tbody tr th {\n",
       "        vertical-align: top;\n",
       "    }\n",
       "\n",
       "    .dataframe thead th {\n",
       "        text-align: right;\n",
       "    }\n",
       "</style>\n",
       "<table border=\"1\" class=\"dataframe\">\n",
       "  <thead>\n",
       "    <tr style=\"text-align: right;\">\n",
       "      <th></th>\n",
       "      <th>age_restriction</th>\n",
       "    </tr>\n",
       "  </thead>\n",
       "  <tbody>\n",
       "    <tr>\n",
       "      <th>«16+» - для детей старше 16 лет</th>\n",
       "      <td>2851</td>\n",
       "    </tr>\n",
       "    <tr>\n",
       "      <th>«18+» - запрещено для детей</th>\n",
       "      <td>1605</td>\n",
       "    </tr>\n",
       "    <tr>\n",
       "      <th>«12+» - для детей старше 12 лет</th>\n",
       "      <td>1593</td>\n",
       "    </tr>\n",
       "    <tr>\n",
       "      <th>«0+» - для любой зрительской аудитории</th>\n",
       "      <td>811</td>\n",
       "    </tr>\n",
       "    <tr>\n",
       "      <th>«6+» - для детей старше 6 лет</th>\n",
       "      <td>626</td>\n",
       "    </tr>\n",
       "  </tbody>\n",
       "</table>\n",
       "</div>"
      ],
      "text/plain": [
       "                                        age_restriction\n",
       "«16+» - для детей старше 16 лет                    2851\n",
       "«18+» - запрещено для детей                        1605\n",
       "«12+» - для детей старше 12 лет                    1593\n",
       "«0+» - для любой зрительской аудитории              811\n",
       "«6+» - для детей старше 6 лет                       626"
      ]
     },
     "metadata": {},
     "output_type": "display_data"
    },
    {
     "data": {
      "text/html": [
       "<div>\n",
       "<style scoped>\n",
       "    .dataframe tbody tr th:only-of-type {\n",
       "        vertical-align: middle;\n",
       "    }\n",
       "\n",
       "    .dataframe tbody tr th {\n",
       "        vertical-align: top;\n",
       "    }\n",
       "\n",
       "    .dataframe thead th {\n",
       "        text-align: right;\n",
       "    }\n",
       "</style>\n",
       "<table border=\"1\" class=\"dataframe\">\n",
       "  <thead>\n",
       "    <tr style=\"text-align: right;\">\n",
       "      <th></th>\n",
       "      <th>financing_source</th>\n",
       "    </tr>\n",
       "  </thead>\n",
       "  <tbody>\n",
       "    <tr>\n",
       "      <th>unknown</th>\n",
       "      <td>7154</td>\n",
       "    </tr>\n",
       "    <tr>\n",
       "      <th>Министерство культуры</th>\n",
       "      <td>164</td>\n",
       "    </tr>\n",
       "    <tr>\n",
       "      <th>Фонд кино</th>\n",
       "      <td>146</td>\n",
       "    </tr>\n",
       "    <tr>\n",
       "      <th>Министерство культуры, Фонд кино</th>\n",
       "      <td>22</td>\n",
       "    </tr>\n",
       "  </tbody>\n",
       "</table>\n",
       "</div>"
      ],
      "text/plain": [
       "                                  financing_source\n",
       "unknown                                       7154\n",
       "Министерство культуры                          164\n",
       "Фонд кино                                      146\n",
       "Министерство культуры, Фонд кино                22"
      ]
     },
     "metadata": {},
     "output_type": "display_data"
    },
    {
     "data": {
      "text/html": [
       "<div>\n",
       "<style scoped>\n",
       "    .dataframe tbody tr th:only-of-type {\n",
       "        vertical-align: middle;\n",
       "    }\n",
       "\n",
       "    .dataframe tbody tr th {\n",
       "        vertical-align: top;\n",
       "    }\n",
       "\n",
       "    .dataframe thead th {\n",
       "        text-align: right;\n",
       "    }\n",
       "</style>\n",
       "<table border=\"1\" class=\"dataframe\">\n",
       "  <thead>\n",
       "    <tr style=\"text-align: right;\">\n",
       "      <th></th>\n",
       "      <th>genres</th>\n",
       "    </tr>\n",
       "  </thead>\n",
       "  <tbody>\n",
       "    <tr>\n",
       "      <th>unknown</th>\n",
       "      <td>976</td>\n",
       "    </tr>\n",
       "    <tr>\n",
       "      <th>драма</th>\n",
       "      <td>476</td>\n",
       "    </tr>\n",
       "    <tr>\n",
       "      <th>комедия</th>\n",
       "      <td>352</td>\n",
       "    </tr>\n",
       "    <tr>\n",
       "      <th>мелодрама,комедия</th>\n",
       "      <td>222</td>\n",
       "    </tr>\n",
       "    <tr>\n",
       "      <th>драма,мелодрама,комедия</th>\n",
       "      <td>189</td>\n",
       "    </tr>\n",
       "  </tbody>\n",
       "</table>\n",
       "</div>"
      ],
      "text/plain": [
       "                         genres\n",
       "unknown                     976\n",
       "драма                       476\n",
       "комедия                     352\n",
       "мелодрама,комедия           222\n",
       "драма,мелодрама,комедия     189"
      ]
     },
     "metadata": {},
     "output_type": "display_data"
    }
   ],
   "source": [
    "columns = ['type','production_country', \n",
    "           'director', 'producer', 'age_restriction',\n",
    "           'financing_source', 'genres']\n",
    "\n",
    "for column in columns:  #  используем цикл по столбцам\n",
    "    display(pd.DataFrame(df[column].value_counts().head(5)))"
   ]
  },
  {
   "cell_type": "markdown",
   "metadata": {},
   "source": [
    "В столбце `type` видны дублирующиеся наименования типов фильмов:"
   ]
  },
  {
   "cell_type": "code",
   "execution_count": 112,
   "metadata": {},
   "outputs": [
    {
     "data": {
      "text/plain": [
       "array(['Художественный', 'Анимационный', 'Прочие', 'Документальный',\n",
       "       'Научно-популярный', ' Художественный', ' Анимационный',\n",
       "       'Музыкально-развлекательный'], dtype=object)"
      ]
     },
     "execution_count": 112,
     "metadata": {},
     "output_type": "execute_result"
    }
   ],
   "source": [
    "df['type'].unique()"
   ]
  },
  {
   "cell_type": "markdown",
   "metadata": {},
   "source": [
    "Для приведения наименований в единый формат уберем все лишние пробелы в начале и в конце строки: "
   ]
  },
  {
   "cell_type": "code",
   "execution_count": 113,
   "metadata": {
    "scrolled": true
   },
   "outputs": [],
   "source": [
    "for column in columns:\n",
    "    df[column] = df[column].str.strip()"
   ]
  },
  {
   "cell_type": "markdown",
   "metadata": {
    "id": "XFSN5lrEgFyR"
   },
   "source": [
    "### Количественные переменные\n",
    "\n",
    "Изучим столбцы с количественными переменными:"
   ]
  },
  {
   "cell_type": "code",
   "execution_count": 114,
   "metadata": {
    "scrolled": false
   },
   "outputs": [
    {
     "data": {
      "image/png": "[encoded data removed]",
      "text/plain": [
       "<Figure size 1152x864 with 4 Axes>"
      ]
     },
     "metadata": {
      "needs_background": "light"
     },
     "output_type": "display_data"
    }
   ],
   "source": [
    "columns=['refundable_support', 'nonrefundable_support', 'budget', 'box_office']\n",
    "name={'refundable_support':'Возвратные средста', 'nonrefundable_support':'Невозвратные средства',\n",
    "      'budget':'Общий бюджет', 'box_office':'Сборы'}\n",
    "\n",
    "counter = 0\n",
    "plt.figure(figsize=(16,12))\n",
    "for column in columns:\n",
    "    counter += 1\n",
    "    plt.subplot(2, 2, counter)\n",
    "    plt.hist(df[column]/10**6, bins=30)\n",
    "    plt.xlabel('млн руб.')\n",
    "    plt.ylabel('Количество')\n",
    "    plt.title(name[column])\n",
    "    sns.despine()"
   ]
  },
  {
   "cell_type": "markdown",
   "metadata": {},
   "source": [
    "В количественных переменных наблюдается 1 выраженный пик и небольшое количество выбросов.\n",
    "В столбце с данными об общем бюджете фильма есть нулевые значения, что является ошибкой, т.к. согласно документации к данным столбец `budget` включает в себя общий бюджет фильма:"
   ]
  },
  {
   "cell_type": "code",
   "execution_count": 115,
   "metadata": {},
   "outputs": [
    {
     "data": {
      "text/html": [
       "<div>\n",
       "<style scoped>\n",
       "    .dataframe tbody tr th:only-of-type {\n",
       "        vertical-align: middle;\n",
       "    }\n",
       "\n",
       "    .dataframe tbody tr th {\n",
       "        vertical-align: top;\n",
       "    }\n",
       "\n",
       "    .dataframe thead th {\n",
       "        text-align: right;\n",
       "    }\n",
       "</style>\n",
       "<table border=\"1\" class=\"dataframe\">\n",
       "  <thead>\n",
       "    <tr style=\"text-align: right;\">\n",
       "      <th></th>\n",
       "      <th>title</th>\n",
       "      <th>budget</th>\n",
       "      <th>refundable_support</th>\n",
       "      <th>nonrefundable_support</th>\n",
       "    </tr>\n",
       "  </thead>\n",
       "  <tbody>\n",
       "    <tr>\n",
       "      <th>0</th>\n",
       "      <td>14+</td>\n",
       "      <td>0.00</td>\n",
       "      <td>0.00</td>\n",
       "      <td>23,000,000.00</td>\n",
       "    </tr>\n",
       "    <tr>\n",
       "      <th>1</th>\n",
       "      <td>Дуxless 2</td>\n",
       "      <td>0.00</td>\n",
       "      <td>0.00</td>\n",
       "      <td>75,000,000.00</td>\n",
       "    </tr>\n",
       "    <tr>\n",
       "      <th>2</th>\n",
       "      <td>Воин (2015)</td>\n",
       "      <td>0.00</td>\n",
       "      <td>10,000,000.00</td>\n",
       "      <td>70,000,000.00</td>\n",
       "    </tr>\n",
       "    <tr>\n",
       "      <th>3</th>\n",
       "      <td>Бармен.</td>\n",
       "      <td>0.00</td>\n",
       "      <td>20,000,000.00</td>\n",
       "      <td>0.00</td>\n",
       "    </tr>\n",
       "    <tr>\n",
       "      <th>4</th>\n",
       "      <td>Савва. Сердце воина</td>\n",
       "      <td>0.00</td>\n",
       "      <td>60,000,000.00</td>\n",
       "      <td>100,000,000.00</td>\n",
       "    </tr>\n",
       "    <tr>\n",
       "      <th>5</th>\n",
       "      <td>Тряпичный союз</td>\n",
       "      <td>0.00</td>\n",
       "      <td>0.00</td>\n",
       "      <td>59,000,000.00</td>\n",
       "    </tr>\n",
       "    <tr>\n",
       "      <th>6</th>\n",
       "      <td>Срочно выйду замуж</td>\n",
       "      <td>0.00</td>\n",
       "      <td>0.00</td>\n",
       "      <td>35,000,000.00</td>\n",
       "    </tr>\n",
       "    <tr>\n",
       "      <th>7</th>\n",
       "      <td>Помню - не помню!</td>\n",
       "      <td>0.00</td>\n",
       "      <td>0.00</td>\n",
       "      <td>6,000,000.00</td>\n",
       "    </tr>\n",
       "    <tr>\n",
       "      <th>8</th>\n",
       "      <td>Любовь с ограничениями</td>\n",
       "      <td>0.00</td>\n",
       "      <td>19,000,000.00</td>\n",
       "      <td>51,000,000.00</td>\n",
       "    </tr>\n",
       "    <tr>\n",
       "      <th>9</th>\n",
       "      <td>Притяжение (2016)</td>\n",
       "      <td>0.00</td>\n",
       "      <td>0.00</td>\n",
       "      <td>250,000,000.00</td>\n",
       "    </tr>\n",
       "    <tr>\n",
       "      <th>10</th>\n",
       "      <td>Чудо-юдо</td>\n",
       "      <td>0.00</td>\n",
       "      <td>20,000,000.00</td>\n",
       "      <td>20,000,000.00</td>\n",
       "    </tr>\n",
       "    <tr>\n",
       "      <th>11</th>\n",
       "      <td>Мифы</td>\n",
       "      <td>0.00</td>\n",
       "      <td>25,000,000.00</td>\n",
       "      <td>20,000,000.00</td>\n",
       "    </tr>\n",
       "    <tr>\n",
       "      <th>12</th>\n",
       "      <td>Селфи</td>\n",
       "      <td>0.00</td>\n",
       "      <td>20,000,000.00</td>\n",
       "      <td>40,000,000.00</td>\n",
       "    </tr>\n",
       "    <tr>\n",
       "      <th>13</th>\n",
       "      <td>Два хвоста</td>\n",
       "      <td>0.00</td>\n",
       "      <td>10,000,000.00</td>\n",
       "      <td>60,000,000.00</td>\n",
       "    </tr>\n",
       "    <tr>\n",
       "      <th>14</th>\n",
       "      <td>Принцесса и дракон</td>\n",
       "      <td>0.00</td>\n",
       "      <td>40,000,000.00</td>\n",
       "      <td>40,000,000.00</td>\n",
       "    </tr>\n",
       "    <tr>\n",
       "      <th>15</th>\n",
       "      <td>Баба Яга</td>\n",
       "      <td>0.00</td>\n",
       "      <td>0.00</td>\n",
       "      <td>138,969,465.00</td>\n",
       "    </tr>\n",
       "    <tr>\n",
       "      <th>16</th>\n",
       "      <td>Большое путешествие</td>\n",
       "      <td>0.00</td>\n",
       "      <td>60,000,000.00</td>\n",
       "      <td>120,000,000.00</td>\n",
       "    </tr>\n",
       "  </tbody>\n",
       "</table>\n",
       "</div>"
      ],
      "text/plain": [
       "                     title  budget  refundable_support  nonrefundable_support\n",
       "0                      14+    0.00                0.00          23,000,000.00\n",
       "1                Дуxless 2    0.00                0.00          75,000,000.00\n",
       "2              Воин (2015)    0.00       10,000,000.00          70,000,000.00\n",
       "3                  Бармен.    0.00       20,000,000.00                   0.00\n",
       "4      Савва. Сердце воина    0.00       60,000,000.00         100,000,000.00\n",
       "5           Тряпичный союз    0.00                0.00          59,000,000.00\n",
       "6       Срочно выйду замуж    0.00                0.00          35,000,000.00\n",
       "7        Помню - не помню!    0.00                0.00           6,000,000.00\n",
       "8   Любовь с ограничениями    0.00       19,000,000.00          51,000,000.00\n",
       "9        Притяжение (2016)    0.00                0.00         250,000,000.00\n",
       "10                Чудо-юдо    0.00       20,000,000.00          20,000,000.00\n",
       "11                    Мифы    0.00       25,000,000.00          20,000,000.00\n",
       "12                   Селфи    0.00       20,000,000.00          40,000,000.00\n",
       "13              Два хвоста    0.00       10,000,000.00          60,000,000.00\n",
       "14      Принцесса и дракон    0.00       40,000,000.00          40,000,000.00\n",
       "15                Баба Яга    0.00                0.00         138,969,465.00\n",
       "16     Большое путешествие    0.00       60,000,000.00         120,000,000.00"
      ]
     },
     "execution_count": 115,
     "metadata": {},
     "output_type": "execute_result"
    }
   ],
   "source": [
    "pd.DataFrame(df[df['budget'] == 0][['title','budget','refundable_support','nonrefundable_support']]).reset_index(drop=True)"
   ]
  },
  {
   "cell_type": "markdown",
   "metadata": {},
   "source": [
    "Изучим более подробно рейтинги:"
   ]
  },
  {
   "cell_type": "code",
   "execution_count": 116,
   "metadata": {},
   "outputs": [
    {
     "data": {
      "text/plain": [
       "6.6    312\n",
       "6.7    308\n",
       "6.8    261\n",
       "7.2    252\n",
       "6.2    243\n",
       "      ... \n",
       "19%      1\n",
       "90%      1\n",
       "62%      1\n",
       "64%      1\n",
       "9.1      1\n",
       "Name: ratings, Length: 94, dtype: int64"
      ]
     },
     "execution_count": 116,
     "metadata": {},
     "output_type": "execute_result"
    }
   ],
   "source": [
    "df['ratings'].value_counts()"
   ]
  },
  {
   "cell_type": "markdown",
   "metadata": {},
   "source": [
    "В столбце данные записаны в разных форматах, в числовом и в процентном. На КиноПоиске рейтинг в процентном формате это рейтинг ожидания. Приведем данные в единый формат:"
   ]
  },
  {
   "cell_type": "code",
   "execution_count": 117,
   "metadata": {},
   "outputs": [],
   "source": [
    "df['ratings'] = np.where(df['ratings'].str.contains('%', na=False), \n",
    "                         df['ratings'].str.strip('%').astype('float') / 10, df['ratings'])\n",
    "df['ratings'] = df['ratings'].astype(float)"
   ]
  },
  {
   "cell_type": "markdown",
   "metadata": {},
   "source": [
    "Изучим распределение рейтинга фильмов:"
   ]
  },
  {
   "cell_type": "code",
   "execution_count": 118,
   "metadata": {},
   "outputs": [
    {
     "data": {
      "image/png": "[encoded data removed]",
      "text/plain": [
       "<Figure size 1080x360 with 1 Axes>"
      ]
     },
     "metadata": {
      "needs_background": "light"
     },
     "output_type": "display_data"
    }
   ],
   "source": [
    "plt.figure(figsize=(15, 5))\n",
    "plt.hist(df['ratings'], bins=40)\n",
    "plt.axvline(x=df['ratings'].median(), linewidth=3, color='r', linestyle='--', label='медиана', alpha=1)\n",
    "plt.title('Распределение рейтинга', fontsize=14, pad=20)   \n",
    "plt.xlabel('рейтинг')\n",
    "plt.ylabel('количество')\n",
    "plt.xticks(np.arange(0, 11, 1))\n",
    "plt.legend(prop={'size':12})\n",
    "sns.despine()"
   ]
  },
  {
   "cell_type": "markdown",
   "metadata": {},
   "source": [
    "Медианным значением рейтинга является 6,5.\n",
    "\n",
    "### Обогащение таблицы\n",
    "\n",
    "Добавим в таблицу столбец `year_release` с информацией о годе выхода фильма в прокат, предварительно скорректировав тип данных в столбце `show_start_date` в формат даты:"
   ]
  },
  {
   "cell_type": "code",
   "execution_count": 119,
   "metadata": {},
   "outputs": [],
   "source": [
    "df['show_start_date'] = pd.to_datetime(df['show_start_date'], format='%Y-%m-%dT%H:%M:%S')\n",
    "df['year_release'] = df['show_start_date'].dt.year"
   ]
  },
  {
   "cell_type": "markdown",
   "metadata": {},
   "source": [
    "Создадим столбец `first_director` с именем и фамилией главного режиссёра фильма и столбец `main_genre` с основным жанром фильма:"
   ]
  },
  {
   "cell_type": "code",
   "execution_count": 120,
   "metadata": {
    "id": "LSbRZKbMgFyU"
   },
   "outputs": [],
   "source": [
    "df['first_director'] = df['director'].str.split(',').str[0]\n",
    "df['main_genre'] = df['genres'].str.split(',').str[0]"
   ]
  },
  {
   "cell_type": "markdown",
   "metadata": {},
   "source": [
    "## Исследовательский анализ данных\n",
    "\n",
    "Добавим столбец `roi` с окупаемостью фильма:"
   ]
  },
  {
   "cell_type": "code",
   "execution_count": 121,
   "metadata": {},
   "outputs": [],
   "source": [
    "pd.set_option('chained_assignment', None)\n",
    "df['roi'] = (df['box_office'] - df['budget']) / df['budget']"
   ]
  },
  {
   "cell_type": "markdown",
   "metadata": {},
   "source": [
    "Рассчитаем долю окупившихся от общего числа вышедших в прокат фильмов в разбивке по году выхода:"
   ]
  },
  {
   "cell_type": "code",
   "execution_count": 122,
   "metadata": {},
   "outputs": [
    {
     "data": {
      "text/html": [
       "<div>\n",
       "<style scoped>\n",
       "    .dataframe tbody tr th:only-of-type {\n",
       "        vertical-align: middle;\n",
       "    }\n",
       "\n",
       "    .dataframe tbody tr th {\n",
       "        vertical-align: top;\n",
       "    }\n",
       "\n",
       "    .dataframe thead th {\n",
       "        text-align: right;\n",
       "    }\n",
       "</style>\n",
       "<table border=\"1\" class=\"dataframe\">\n",
       "  <thead>\n",
       "    <tr style=\"text-align: right;\">\n",
       "      <th></th>\n",
       "      <th>год</th>\n",
       "      <th>доля окупившихся фильмов</th>\n",
       "    </tr>\n",
       "  </thead>\n",
       "  <tbody>\n",
       "    <tr>\n",
       "      <th>0</th>\n",
       "      <td>2013</td>\n",
       "      <td>0.0%</td>\n",
       "    </tr>\n",
       "    <tr>\n",
       "      <th>1</th>\n",
       "      <td>2014</td>\n",
       "      <td>20.0%</td>\n",
       "    </tr>\n",
       "    <tr>\n",
       "      <th>2</th>\n",
       "      <td>2015</td>\n",
       "      <td>16.5%</td>\n",
       "    </tr>\n",
       "    <tr>\n",
       "      <th>3</th>\n",
       "      <td>2016</td>\n",
       "      <td>15.8%</td>\n",
       "    </tr>\n",
       "    <tr>\n",
       "      <th>4</th>\n",
       "      <td>2017</td>\n",
       "      <td>35.1%</td>\n",
       "    </tr>\n",
       "    <tr>\n",
       "      <th>5</th>\n",
       "      <td>2018</td>\n",
       "      <td>32.7%</td>\n",
       "    </tr>\n",
       "    <tr>\n",
       "      <th>6</th>\n",
       "      <td>2019</td>\n",
       "      <td>18.6%</td>\n",
       "    </tr>\n",
       "  </tbody>\n",
       "</table>\n",
       "</div>"
      ],
      "text/plain": [
       "    год доля окупившихся фильмов\n",
       "0  2013                     0.0%\n",
       "1  2014                    20.0%\n",
       "2  2015                    16.5%\n",
       "3  2016                    15.8%\n",
       "4  2017                    35.1%\n",
       "5  2018                    32.7%\n",
       "6  2019                    18.6%"
      ]
     },
     "execution_count": 122,
     "metadata": {},
     "output_type": "execute_result"
    }
   ],
   "source": [
    "def roi_positive(row):\n",
    "    if row['roi'] > 0:\n",
    "        return 1\n",
    "    else:\n",
    "        return 0\n",
    "    \n",
    "df['roi_positive'] = df.apply(roi_positive, axis=1)\n",
    "\n",
    "report = df[(df['budget'].notna()) & (df['budget'] > 0) & (df['box_office'].notna())]\n",
    "\n",
    "(\n",
    "pd.DataFrame(report.groupby('year_release')['roi_positive'].mean().apply(lambda x: '{0:.1f}%'.format(x * 100))\n",
    "             .reset_index()).sort_values(by='year_release', ascending=True).head(10)\n",
    "    .rename(columns={'year_release':'год', 'roi_positive':'доля окупившихся фильмов'})    \n",
    ")"
   ]
  },
  {
   "cell_type": "markdown",
   "metadata": {},
   "source": [
    "Изучим, какое количество фильмов выходило в прокат в различные годы:"
   ]
  },
  {
   "cell_type": "code",
   "execution_count": 123,
   "metadata": {},
   "outputs": [
    {
     "data": {
      "image/png": "[encoded data removed]",
      "text/plain": [
       "<Figure size 1080x360 with 1 Axes>"
      ]
     },
     "metadata": {
      "needs_background": "light"
     },
     "output_type": "display_data"
    }
   ],
   "source": [
    "report = (\n",
    "df.pivot_table(index='year_release', values='title', aggfunc='count').sort_values(by='year_release')\n",
    "    .reset_index().rename(columns={'year_release':'год','title':'кол-во'})\n",
    ")\n",
    "    \n",
    "plt.figure(figsize=(15, 5))\n",
    "ax = sns.barplot(x='год', y='кол-во', data=report, color='steelblue')\n",
    "plt.title('Год проката и количество фильмов', fontsize=14, pad=20)   \n",
    "plt.xlabel('год')\n",
    "plt.ylabel('количество')\n",
    "ax.set_ylim([0, 1200])\n",
    "\n",
    "patches = ax.patches\n",
    "for i in range(len(patches)):\n",
    "    x = patches[i].get_x() + patches[i].get_width()/2\n",
    "    y = patches[i].get_height() + 40\n",
    "    ax.annotate('{:.0f}'.format(report.iloc[i, 1]), (x, y), ha='center')\n",
    "\n",
    "sns.despine()"
   ]
  },
  {
   "cell_type": "markdown",
   "metadata": {},
   "source": [
    "Наибольшее количество фильмов приходится на 2010 год - в этот год в прокат вышло 985 фильмов.\n",
    "\n",
    "Изучим распределение фильмов по жанрам:"
   ]
  },
  {
   "cell_type": "code",
   "execution_count": 124,
   "metadata": {},
   "outputs": [
    {
     "data": {
      "image/png": "[encoded data removed]",
      "text/plain": [
       "<Figure size 1080x360 with 1 Axes>"
      ]
     },
     "metadata": {
      "needs_background": "light"
     },
     "output_type": "display_data"
    }
   ],
   "source": [
    "report = (\n",
    "df[df['main_genre'] != 'unknown'].pivot_table(index='main_genre', values='title', aggfunc='count').head(10)\n",
    "    .sort_values(by='title', ascending=False).reset_index().rename(columns={'main_genre':'жанр','title':'количество'})\n",
    ")\n",
    "    \n",
    "plt.figure(figsize=(15, 5))\n",
    "ax = sns.barplot(x='жанр', y='количество', data=report, color='steelblue')\n",
    "plt.title('Топ-10 жанров', fontsize=14, pad=20)   \n",
    "plt.xlabel('жанр')\n",
    "plt.ylabel('количество')\n",
    "ax.set_ylim([0, 1800])\n",
    "\n",
    "patches = ax.patches\n",
    "for i in range(len(patches)):\n",
    "    x = patches[i].get_x() + patches[i].get_width()/2\n",
    "    y = patches[i].get_height() + 40\n",
    "    ax.annotate('{:.0f}'.format(report.iloc[i, 1]), (x, y), ha='center')\n",
    "\n",
    "sns.despine()"
   ]
  },
  {
   "cell_type": "markdown",
   "metadata": {},
   "source": [
    "Самым крупным жанром по количеству фильмов, выходивших в прокат, является \"Драма\", далее идет \"Боевик\".\n",
    "\n",
    "Далее проанализируем какие жанры имеют самые высокий рейтинг:"
   ]
  },
  {
   "cell_type": "code",
   "execution_count": 125,
   "metadata": {},
   "outputs": [
    {
     "data": {
      "text/html": [
       "<div>\n",
       "<style scoped>\n",
       "    .dataframe tbody tr th:only-of-type {\n",
       "        vertical-align: middle;\n",
       "    }\n",
       "\n",
       "    .dataframe tbody tr th {\n",
       "        vertical-align: top;\n",
       "    }\n",
       "\n",
       "    .dataframe thead th {\n",
       "        text-align: right;\n",
       "    }\n",
       "</style>\n",
       "<table border=\"1\" class=\"dataframe\">\n",
       "  <thead>\n",
       "    <tr style=\"text-align: right;\">\n",
       "      <th></th>\n",
       "      <th>жанр</th>\n",
       "      <th>рейтинг</th>\n",
       "    </tr>\n",
       "  </thead>\n",
       "  <tbody>\n",
       "    <tr>\n",
       "      <th>0</th>\n",
       "      <td>фильм-нуар</td>\n",
       "      <td>7.60</td>\n",
       "    </tr>\n",
       "    <tr>\n",
       "      <th>1</th>\n",
       "      <td>аниме</td>\n",
       "      <td>7.48</td>\n",
       "    </tr>\n",
       "    <tr>\n",
       "      <th>2</th>\n",
       "      <td>музыка</td>\n",
       "      <td>7.37</td>\n",
       "    </tr>\n",
       "    <tr>\n",
       "      <th>3</th>\n",
       "      <td>вестерн</td>\n",
       "      <td>7.30</td>\n",
       "    </tr>\n",
       "    <tr>\n",
       "      <th>4</th>\n",
       "      <td>документальный</td>\n",
       "      <td>7.24</td>\n",
       "    </tr>\n",
       "    <tr>\n",
       "      <th>5</th>\n",
       "      <td>спорт</td>\n",
       "      <td>7.14</td>\n",
       "    </tr>\n",
       "    <tr>\n",
       "      <th>6</th>\n",
       "      <td>биография</td>\n",
       "      <td>7.01</td>\n",
       "    </tr>\n",
       "    <tr>\n",
       "      <th>7</th>\n",
       "      <td>концерт</td>\n",
       "      <td>6.92</td>\n",
       "    </tr>\n",
       "    <tr>\n",
       "      <th>8</th>\n",
       "      <td>мюзикл</td>\n",
       "      <td>6.90</td>\n",
       "    </tr>\n",
       "    <tr>\n",
       "      <th>9</th>\n",
       "      <td>драма</td>\n",
       "      <td>6.77</td>\n",
       "    </tr>\n",
       "  </tbody>\n",
       "</table>\n",
       "</div>"
      ],
      "text/plain": [
       "             жанр  рейтинг\n",
       "0      фильм-нуар     7.60\n",
       "1           аниме     7.48\n",
       "2          музыка     7.37\n",
       "3         вестерн     7.30\n",
       "4  документальный     7.24\n",
       "5           спорт     7.14\n",
       "6       биография     7.01\n",
       "7         концерт     6.92\n",
       "8          мюзикл     6.90\n",
       "9           драма     6.77"
      ]
     },
     "execution_count": 125,
     "metadata": {},
     "output_type": "execute_result"
    }
   ],
   "source": [
    "pd.DataFrame(df.pivot_table(index='main_genre', values='ratings', aggfunc='mean').\n",
    "             sort_values(by='ratings', ascending=False).head(10)\n",
    ".reset_index().rename(columns={'main_genre':'жанр', 'ratings':'рейтинг'})).fillna('')"
   ]
  },
  {
   "cell_type": "markdown",
   "metadata": {},
   "source": [
    "Самые высокие рейтинги наблюдаются у жанров фильм-нуар и аниме.\n",
    "\n",
    "Изучим топ-10 фильмов с самым высоким рейтингом:"
   ]
  },
  {
   "cell_type": "code",
   "execution_count": 126,
   "metadata": {},
   "outputs": [
    {
     "data": {
      "text/html": [
       "<div>\n",
       "<style scoped>\n",
       "    .dataframe tbody tr th:only-of-type {\n",
       "        vertical-align: middle;\n",
       "    }\n",
       "\n",
       "    .dataframe tbody tr th {\n",
       "        vertical-align: top;\n",
       "    }\n",
       "\n",
       "    .dataframe thead th {\n",
       "        text-align: right;\n",
       "    }\n",
       "</style>\n",
       "<table border=\"1\" class=\"dataframe\">\n",
       "  <thead>\n",
       "    <tr style=\"text-align: right;\">\n",
       "      <th></th>\n",
       "      <th>фильм</th>\n",
       "      <th>страна</th>\n",
       "      <th>жанр</th>\n",
       "      <th>рейтинг</th>\n",
       "    </tr>\n",
       "  </thead>\n",
       "  <tbody>\n",
       "    <tr>\n",
       "      <th>0</th>\n",
       "      <td>Спираль.</td>\n",
       "      <td>Россия</td>\n",
       "      <td>аниме</td>\n",
       "      <td>9.90</td>\n",
       "    </tr>\n",
       "    <tr>\n",
       "      <th>1</th>\n",
       "      <td>Прошлое</td>\n",
       "      <td>Аргентина - Бразилия</td>\n",
       "      <td>ужасы</td>\n",
       "      <td>9.90</td>\n",
       "    </tr>\n",
       "    <tr>\n",
       "      <th>2</th>\n",
       "      <td>Животные рядом со Святыми</td>\n",
       "      <td>Россия</td>\n",
       "      <td>криминал</td>\n",
       "      <td>9.90</td>\n",
       "    </tr>\n",
       "    <tr>\n",
       "      <th>3</th>\n",
       "      <td>Сказка о добре и Вре</td>\n",
       "      <td>Россия</td>\n",
       "      <td>триллер</td>\n",
       "      <td>9.90</td>\n",
       "    </tr>\n",
       "    <tr>\n",
       "      <th>4</th>\n",
       "      <td>Колесо времени</td>\n",
       "      <td>Россия</td>\n",
       "      <td>фэнтези</td>\n",
       "      <td>9.80</td>\n",
       "    </tr>\n",
       "    <tr>\n",
       "      <th>5</th>\n",
       "      <td>ОТ ВОЙНЫ ДО НАШИХ ДНЕЙ</td>\n",
       "      <td>Россия</td>\n",
       "      <td>фантастика</td>\n",
       "      <td>9.80</td>\n",
       "    </tr>\n",
       "    <tr>\n",
       "      <th>6</th>\n",
       "      <td>Круиз.</td>\n",
       "      <td>Россия</td>\n",
       "      <td>приключения</td>\n",
       "      <td>9.70</td>\n",
       "    </tr>\n",
       "    <tr>\n",
       "      <th>7</th>\n",
       "      <td>Машины Страшилки. Серия \"Жутчайшая повесть о п...</td>\n",
       "      <td>Россия, Республика Кипр</td>\n",
       "      <td>мультфильм</td>\n",
       "      <td>9.70</td>\n",
       "    </tr>\n",
       "    <tr>\n",
       "      <th>8</th>\n",
       "      <td>Песочный человек</td>\n",
       "      <td>Швейцария</td>\n",
       "      <td>ужасы</td>\n",
       "      <td>9.70</td>\n",
       "    </tr>\n",
       "    <tr>\n",
       "      <th>9</th>\n",
       "      <td>Свинья</td>\n",
       "      <td>Иран</td>\n",
       "      <td>триллер</td>\n",
       "      <td>9.40</td>\n",
       "    </tr>\n",
       "  </tbody>\n",
       "</table>\n",
       "</div>"
      ],
      "text/plain": [
       "                                               фильм                   страна  \\\n",
       "0                                           Спираль.                   Россия   \n",
       "1                                            Прошлое     Аргентина - Бразилия   \n",
       "2                          Животные рядом со Святыми                   Россия   \n",
       "3                               Сказка о добре и Вре                   Россия   \n",
       "4                                     Колесо времени                   Россия   \n",
       "5                             ОТ ВОЙНЫ ДО НАШИХ ДНЕЙ                   Россия   \n",
       "6                                             Круиз.                   Россия   \n",
       "7  Машины Страшилки. Серия \"Жутчайшая повесть о п...  Россия, Республика Кипр   \n",
       "8                                   Песочный человек                Швейцария   \n",
       "9                                             Свинья                     Иран   \n",
       "\n",
       "          жанр  рейтинг  \n",
       "0        аниме     9.90  \n",
       "1        ужасы     9.90  \n",
       "2     криминал     9.90  \n",
       "3      триллер     9.90  \n",
       "4      фэнтези     9.80  \n",
       "5   фантастика     9.80  \n",
       "6  приключения     9.70  \n",
       "7   мультфильм     9.70  \n",
       "8        ужасы     9.70  \n",
       "9      триллер     9.40  "
      ]
     },
     "execution_count": 126,
     "metadata": {},
     "output_type": "execute_result"
    }
   ],
   "source": [
    "(\n",
    "pd.DataFrame(df.pivot_table(index=['title','production_country','main_genre'], values='ratings', \n",
    "                            aggfunc='mean').sort_values(by='ratings', ascending=False).head(10).reset_index().\n",
    "             rename(columns=\n",
    "                      {'title':'фильм', 'production_country':'страна','main_genre':'жанр', 'ratings':'рейтинг'})).fillna('')\n",
    ")"
   ]
  },
  {
   "cell_type": "markdown",
   "metadata": {},
   "source": [
    "Сфорируем список топ-10 фильмов с самым низким рейтингом:"
   ]
  },
  {
   "cell_type": "code",
   "execution_count": 127,
   "metadata": {},
   "outputs": [
    {
     "data": {
      "text/html": [
       "<div>\n",
       "<style scoped>\n",
       "    .dataframe tbody tr th:only-of-type {\n",
       "        vertical-align: middle;\n",
       "    }\n",
       "\n",
       "    .dataframe tbody tr th {\n",
       "        vertical-align: top;\n",
       "    }\n",
       "\n",
       "    .dataframe thead th {\n",
       "        text-align: right;\n",
       "    }\n",
       "</style>\n",
       "<table border=\"1\" class=\"dataframe\">\n",
       "  <thead>\n",
       "    <tr style=\"text-align: right;\">\n",
       "      <th></th>\n",
       "      <th>фильм</th>\n",
       "      <th>страна</th>\n",
       "      <th>жанр</th>\n",
       "      <th>рейтинг</th>\n",
       "    </tr>\n",
       "  </thead>\n",
       "  <tbody>\n",
       "    <tr>\n",
       "      <th>0</th>\n",
       "      <td>Взломать блогеров</td>\n",
       "      <td>Россия</td>\n",
       "      <td>комедия</td>\n",
       "      <td>1.00</td>\n",
       "    </tr>\n",
       "    <tr>\n",
       "      <th>1</th>\n",
       "      <td>Кавказ.</td>\n",
       "      <td>Азербайджан-Россия</td>\n",
       "      <td>комедия</td>\n",
       "      <td>1.10</td>\n",
       "    </tr>\n",
       "    <tr>\n",
       "      <th>2</th>\n",
       "      <td>Мантикора.</td>\n",
       "      <td>Россия</td>\n",
       "      <td>триллер</td>\n",
       "      <td>1.10</td>\n",
       "    </tr>\n",
       "    <tr>\n",
       "      <th>3</th>\n",
       "      <td>Приключения в тридесятом царстве.</td>\n",
       "      <td>Россия</td>\n",
       "      <td>детский</td>\n",
       "      <td>1.20</td>\n",
       "    </tr>\n",
       "    <tr>\n",
       "      <th>4</th>\n",
       "      <td>Кукарача 3D</td>\n",
       "      <td>Россия</td>\n",
       "      <td>мультфильм</td>\n",
       "      <td>1.30</td>\n",
       "    </tr>\n",
       "    <tr>\n",
       "      <th>5</th>\n",
       "      <td>Сказка. Есть</td>\n",
       "      <td>Россия</td>\n",
       "      <td>фэнтези</td>\n",
       "      <td>1.40</td>\n",
       "    </tr>\n",
       "    <tr>\n",
       "      <th>6</th>\n",
       "      <td>Большая Ржака</td>\n",
       "      <td>Россия</td>\n",
       "      <td>комедия</td>\n",
       "      <td>1.40</td>\n",
       "    </tr>\n",
       "    <tr>\n",
       "      <th>7</th>\n",
       "      <td>Зомби каникулы</td>\n",
       "      <td>Россия</td>\n",
       "      <td>ужасы</td>\n",
       "      <td>1.50</td>\n",
       "    </tr>\n",
       "    <tr>\n",
       "      <th>8</th>\n",
       "      <td>Черная роза</td>\n",
       "      <td>Россия</td>\n",
       "      <td>детектив</td>\n",
       "      <td>1.50</td>\n",
       "    </tr>\n",
       "    <tr>\n",
       "      <th>9</th>\n",
       "      <td>Дизлайк</td>\n",
       "      <td>Россия</td>\n",
       "      <td>ужасы</td>\n",
       "      <td>1.50</td>\n",
       "    </tr>\n",
       "  </tbody>\n",
       "</table>\n",
       "</div>"
      ],
      "text/plain": [
       "                               фильм              страна        жанр  рейтинг\n",
       "0                  Взломать блогеров              Россия     комедия     1.00\n",
       "1                            Кавказ.  Азербайджан-Россия     комедия     1.10\n",
       "2                         Мантикора.              Россия     триллер     1.10\n",
       "3  Приключения в тридесятом царстве.              Россия     детский     1.20\n",
       "4                        Кукарача 3D              Россия  мультфильм     1.30\n",
       "5                       Сказка. Есть              Россия     фэнтези     1.40\n",
       "6                      Большая Ржака              Россия     комедия     1.40\n",
       "7                     Зомби каникулы              Россия       ужасы     1.50\n",
       "8                        Черная роза              Россия    детектив     1.50\n",
       "9                            Дизлайк              Россия       ужасы     1.50"
      ]
     },
     "execution_count": 127,
     "metadata": {},
     "output_type": "execute_result"
    }
   ],
   "source": [
    "(\n",
    "pd.DataFrame(df.pivot_table(index=['title','production_country','main_genre'], values='ratings', \n",
    "                            aggfunc='mean').sort_values(by='ratings', ascending=True).head(10).reset_index().\n",
    "             rename(columns=\n",
    "                    {'title':'фильм', 'production_country':'страна','main_genre':'жанр', 'ratings':'рейтинг'})).fillna('')\n",
    ")"
   ]
  },
  {
   "cell_type": "markdown",
   "metadata": {},
   "source": [
    "Почти все фильмы из топ-10 худших по рейтингу были сняты в России.\n",
    "\n",
    "Изучим динамику сборов по годам:"
   ]
  },
  {
   "cell_type": "code",
   "execution_count": 128,
   "metadata": {},
   "outputs": [
    {
     "data": {
      "text/html": [
       "<div>\n",
       "<style scoped>\n",
       "    .dataframe tbody tr th:only-of-type {\n",
       "        vertical-align: middle;\n",
       "    }\n",
       "\n",
       "    .dataframe tbody tr th {\n",
       "        vertical-align: top;\n",
       "    }\n",
       "\n",
       "    .dataframe thead th {\n",
       "        text-align: right;\n",
       "    }\n",
       "</style>\n",
       "<table border=\"1\" class=\"dataframe\">\n",
       "  <thead>\n",
       "    <tr style=\"text-align: right;\">\n",
       "      <th></th>\n",
       "      <th>год</th>\n",
       "      <th>сборы</th>\n",
       "    </tr>\n",
       "  </thead>\n",
       "  <tbody>\n",
       "    <tr>\n",
       "      <th>0</th>\n",
       "      <td>2010</td>\n",
       "      <td>2,428,654.00</td>\n",
       "    </tr>\n",
       "    <tr>\n",
       "      <th>1</th>\n",
       "      <td>2011</td>\n",
       "      <td>14,102,765.00</td>\n",
       "    </tr>\n",
       "    <tr>\n",
       "      <th>2</th>\n",
       "      <td>2012</td>\n",
       "      <td>6,955,423.00</td>\n",
       "    </tr>\n",
       "    <tr>\n",
       "      <th>3</th>\n",
       "      <td>2013</td>\n",
       "      <td>29,799,706.20</td>\n",
       "    </tr>\n",
       "    <tr>\n",
       "      <th>4</th>\n",
       "      <td>2014</td>\n",
       "      <td>7,444,951,859.20</td>\n",
       "    </tr>\n",
       "    <tr>\n",
       "      <th>5</th>\n",
       "      <td>2015</td>\n",
       "      <td>39,497,365,196.40</td>\n",
       "    </tr>\n",
       "    <tr>\n",
       "      <th>6</th>\n",
       "      <td>2016</td>\n",
       "      <td>47,866,299,741.91</td>\n",
       "    </tr>\n",
       "    <tr>\n",
       "      <th>7</th>\n",
       "      <td>2017</td>\n",
       "      <td>48,563,707,217.51</td>\n",
       "    </tr>\n",
       "    <tr>\n",
       "      <th>8</th>\n",
       "      <td>2018</td>\n",
       "      <td>49,668,403,134.32</td>\n",
       "    </tr>\n",
       "    <tr>\n",
       "      <th>9</th>\n",
       "      <td>2019</td>\n",
       "      <td>48,425,708,779.59</td>\n",
       "    </tr>\n",
       "  </tbody>\n",
       "</table>\n",
       "</div>"
      ],
      "text/plain": [
       "    год             сборы\n",
       "0  2010      2,428,654.00\n",
       "1  2011     14,102,765.00\n",
       "2  2012      6,955,423.00\n",
       "3  2013     29,799,706.20\n",
       "4  2014  7,444,951,859.20\n",
       "5  2015 39,497,365,196.40\n",
       "6  2016 47,866,299,741.91\n",
       "7  2017 48,563,707,217.51\n",
       "8  2018 49,668,403,134.32\n",
       "9  2019 48,425,708,779.59"
      ]
     },
     "execution_count": 128,
     "metadata": {},
     "output_type": "execute_result"
    },
    {
     "data": {
      "image/png": "[encoded data removed]",
      "text/plain": [
       "<Figure size 1080x360 with 1 Axes>"
      ]
     },
     "metadata": {
      "needs_background": "light"
     },
     "output_type": "display_data"
    }
   ],
   "source": [
    "report = (\n",
    "df.pivot_table(index='year_release', values='box_office', aggfunc='sum').sort_values(by='year_release')\n",
    "    .reset_index().rename(columns={'year_release':'год','box_office':'сборы'})    \n",
    ")\n",
    "\n",
    "report['сборы'] = report['сборы'].apply(lambda x: x/10**9)\n",
    "report = report[(report['год'] >= 2014) & (report['год'] <= 2019)]\n",
    "\n",
    "\n",
    "plt.figure(figsize=(15, 5))\n",
    "ax = sns.barplot(x='год', y='сборы', data=report, color='steelblue')\n",
    "plt.title('Год проката и сборы', fontsize=14, pad=20)   \n",
    "plt.xlabel('год')\n",
    "plt.ylabel('млрд руб')\n",
    "\n",
    "\n",
    "patches = ax.patches\n",
    "for i in range(len(patches)):\n",
    "    x = patches[i].get_x() + patches[i].get_width()/2\n",
    "    y = patches[i].get_height() + 2\n",
    "    ax.annotate('{:.1f}'.format(report.iloc[i, 1]), (x, y), ha='center')\n",
    "\n",
    "sns.despine()\n",
    "\n",
    "\n",
    "pd.DataFrame(df.pivot_table(index='year_release', values='box_office', aggfunc='sum').sort_values(by='year_release')\n",
    ".reset_index().rename(columns={'year_release':'год','box_office':'сборы'}))"
   ]
  },
  {
   "cell_type": "markdown",
   "metadata": {},
   "source": [
    "Минимальные сборы были зафиксированы в 2014 г., а максимальные в 2018 г.\n",
    "\n",
    "Вычислим среднюю и медианную сумму сборов по каждому году:"
   ]
  },
  {
   "cell_type": "code",
   "execution_count": 129,
   "metadata": {
    "id": "jmp-rgg9gFyY"
   },
   "outputs": [
    {
     "data": {
      "text/html": [
       "<div>\n",
       "<style scoped>\n",
       "    .dataframe tbody tr th:only-of-type {\n",
       "        vertical-align: middle;\n",
       "    }\n",
       "\n",
       "    .dataframe tbody tr th {\n",
       "        vertical-align: top;\n",
       "    }\n",
       "\n",
       "    .dataframe thead th {\n",
       "        text-align: right;\n",
       "    }\n",
       "</style>\n",
       "<table border=\"1\" class=\"dataframe\">\n",
       "  <thead>\n",
       "    <tr style=\"text-align: right;\">\n",
       "      <th></th>\n",
       "      <th>год</th>\n",
       "      <th>средняя</th>\n",
       "      <th>медиана</th>\n",
       "    </tr>\n",
       "  </thead>\n",
       "  <tbody>\n",
       "    <tr>\n",
       "      <th>0</th>\n",
       "      <td>2010</td>\n",
       "      <td>23,130.04</td>\n",
       "      <td>1,700.00</td>\n",
       "    </tr>\n",
       "    <tr>\n",
       "      <th>1</th>\n",
       "      <td>2011</td>\n",
       "      <td>129,383.17</td>\n",
       "      <td>3,000.00</td>\n",
       "    </tr>\n",
       "    <tr>\n",
       "      <th>2</th>\n",
       "      <td>2012</td>\n",
       "      <td>54,339.24</td>\n",
       "      <td>5,660.00</td>\n",
       "    </tr>\n",
       "    <tr>\n",
       "      <th>3</th>\n",
       "      <td>2013</td>\n",
       "      <td>161,954.92</td>\n",
       "      <td>3,522.50</td>\n",
       "    </tr>\n",
       "    <tr>\n",
       "      <th>4</th>\n",
       "      <td>2014</td>\n",
       "      <td>26,684,415.27</td>\n",
       "      <td>18,160.00</td>\n",
       "    </tr>\n",
       "    <tr>\n",
       "      <th>5</th>\n",
       "      <td>2015</td>\n",
       "      <td>84,940,570.31</td>\n",
       "      <td>4,920,933.00</td>\n",
       "    </tr>\n",
       "    <tr>\n",
       "      <th>6</th>\n",
       "      <td>2016</td>\n",
       "      <td>91,000,569.85</td>\n",
       "      <td>3,846,679.41</td>\n",
       "    </tr>\n",
       "    <tr>\n",
       "      <th>7</th>\n",
       "      <td>2017</td>\n",
       "      <td>136,032,793.33</td>\n",
       "      <td>9,968,340.00</td>\n",
       "    </tr>\n",
       "    <tr>\n",
       "      <th>8</th>\n",
       "      <td>2018</td>\n",
       "      <td>104,565,059.23</td>\n",
       "      <td>8,891,102.21</td>\n",
       "    </tr>\n",
       "    <tr>\n",
       "      <th>9</th>\n",
       "      <td>2019</td>\n",
       "      <td>91,369,261.85</td>\n",
       "      <td>4,627,798.34</td>\n",
       "    </tr>\n",
       "  </tbody>\n",
       "</table>\n",
       "</div>"
      ],
      "text/plain": [
       "    год        средняя      медиана\n",
       "0  2010      23,130.04     1,700.00\n",
       "1  2011     129,383.17     3,000.00\n",
       "2  2012      54,339.24     5,660.00\n",
       "3  2013     161,954.92     3,522.50\n",
       "4  2014  26,684,415.27    18,160.00\n",
       "5  2015  84,940,570.31 4,920,933.00\n",
       "6  2016  91,000,569.85 3,846,679.41\n",
       "7  2017 136,032,793.33 9,968,340.00\n",
       "8  2018 104,565,059.23 8,891,102.21\n",
       "9  2019  91,369,261.85 4,627,798.34"
      ]
     },
     "metadata": {},
     "output_type": "display_data"
    }
   ],
   "source": [
    "report = pd.DataFrame(df.pivot_table(index='year_release', values='box_office', \n",
    "                                     aggfunc=['mean','median']).sort_values(by='year_release').reset_index())\n",
    "\n",
    "report.columns = ['год','средняя','медиана']\n",
    "display(report)"
   ]
  },
  {
   "cell_type": "markdown",
   "metadata": {},
   "source": [
    "Наибольшие средние и медианные сборы были в 2017 году. \n",
    "\n",
    "Определим, влияет ли возрастное ограничение аудитории на сборы фильма:"
   ]
  },
  {
   "cell_type": "code",
   "execution_count": 130,
   "metadata": {},
   "outputs": [
    {
     "data": {
      "text/html": [
       "<div>\n",
       "<style scoped>\n",
       "    .dataframe tbody tr th:only-of-type {\n",
       "        vertical-align: middle;\n",
       "    }\n",
       "\n",
       "    .dataframe tbody tr th {\n",
       "        vertical-align: top;\n",
       "    }\n",
       "\n",
       "    .dataframe thead th {\n",
       "        text-align: right;\n",
       "    }\n",
       "</style>\n",
       "<table border=\"1\" class=\"dataframe\">\n",
       "  <thead>\n",
       "    <tr style=\"text-align: right;\">\n",
       "      <th>year_release</th>\n",
       "      <th>возрастное ограничение</th>\n",
       "      <th>2015</th>\n",
       "      <th>2016</th>\n",
       "      <th>2017</th>\n",
       "      <th>2018</th>\n",
       "      <th>2019</th>\n",
       "    </tr>\n",
       "  </thead>\n",
       "  <tbody>\n",
       "    <tr>\n",
       "      <th>0</th>\n",
       "      <td>«0+» - для любой зрительской аудитории</td>\n",
       "      <td>379,054,578.37</td>\n",
       "      <td>150,228,848.67</td>\n",
       "      <td>229,598,930.00</td>\n",
       "      <td>32,449,002.11</td>\n",
       "      <td>17,746,066.82</td>\n",
       "    </tr>\n",
       "    <tr>\n",
       "      <th>1</th>\n",
       "      <td>«12+» - для детей старше 12 лет</td>\n",
       "      <td>13,616,082,008.91</td>\n",
       "      <td>12,204,446,524.39</td>\n",
       "      <td>7,851,427,660.67</td>\n",
       "      <td>14,267,291,660.69</td>\n",
       "      <td>12,680,198,773.67</td>\n",
       "    </tr>\n",
       "    <tr>\n",
       "      <th>2</th>\n",
       "      <td>«16+» - для детей старше 16 лет</td>\n",
       "      <td>11,368,120,870.27</td>\n",
       "      <td>16,664,548,541.74</td>\n",
       "      <td>18,745,042,900.06</td>\n",
       "      <td>16,503,602,346.96</td>\n",
       "      <td>12,753,418,984.60</td>\n",
       "    </tr>\n",
       "    <tr>\n",
       "      <th>3</th>\n",
       "      <td>«18+» - запрещено для детей</td>\n",
       "      <td>5,432,308,367.44</td>\n",
       "      <td>6,793,929,818.87</td>\n",
       "      <td>9,651,495,581.02</td>\n",
       "      <td>8,760,085,501.15</td>\n",
       "      <td>10,121,796,303.64</td>\n",
       "    </tr>\n",
       "    <tr>\n",
       "      <th>4</th>\n",
       "      <td>«6+» - для детей старше 6 лет</td>\n",
       "      <td>8,701,799,371.41</td>\n",
       "      <td>12,053,146,008.24</td>\n",
       "      <td>12,086,142,145.76</td>\n",
       "      <td>10,104,974,623.41</td>\n",
       "      <td>12,852,548,650.86</td>\n",
       "    </tr>\n",
       "  </tbody>\n",
       "</table>\n",
       "</div>"
      ],
      "text/plain": [
       "year_release                  возрастное ограничение              2015  \\\n",
       "0             «0+» - для любой зрительской аудитории    379,054,578.37   \n",
       "1                    «12+» - для детей старше 12 лет 13,616,082,008.91   \n",
       "2                    «16+» - для детей старше 16 лет 11,368,120,870.27   \n",
       "3                        «18+» - запрещено для детей  5,432,308,367.44   \n",
       "4                      «6+» - для детей старше 6 лет  8,701,799,371.41   \n",
       "\n",
       "year_release              2016              2017              2018  \\\n",
       "0               150,228,848.67    229,598,930.00     32,449,002.11   \n",
       "1            12,204,446,524.39  7,851,427,660.67 14,267,291,660.69   \n",
       "2            16,664,548,541.74 18,745,042,900.06 16,503,602,346.96   \n",
       "3             6,793,929,818.87  9,651,495,581.02  8,760,085,501.15   \n",
       "4            12,053,146,008.24 12,086,142,145.76 10,104,974,623.41   \n",
       "\n",
       "year_release              2019  \n",
       "0                17,746,066.82  \n",
       "1            12,680,198,773.67  \n",
       "2            12,753,418,984.60  \n",
       "3            10,121,796,303.64  \n",
       "4            12,852,548,650.86  "
      ]
     },
     "execution_count": 130,
     "metadata": {},
     "output_type": "execute_result"
    },
    {
     "data": {
      "image/png": "[encoded data removed]",
      "text/plain": [
       "<Figure size 1080x360 with 1 Axes>"
      ]
     },
     "metadata": {
      "needs_background": "light"
     },
     "output_type": "display_data"
    }
   ],
   "source": [
    "report = df[(df['year_release'] >= 2015) & (df['year_release'] <= 2019)]\n",
    "report['box_office'] = report['box_office'].apply(lambda x: x/10**9)\n",
    "\n",
    "plt.figure(figsize=(15,5))\n",
    "ax = sns.barplot(x='year_release', y='box_office', hue='age_restriction', data=report, estimator=sum, palette='Blues', ci=None)\n",
    "plt.title('Сборы и возрастное ограничение', fontsize=14, pad=20)  \n",
    "plt.xlabel('год')\n",
    "plt.ylabel('млрд руб.')\n",
    "ax.set_ylim([0, 25])\n",
    "plt.legend(loc=2)\n",
    "sns.despine()\n",
    "\n",
    "(\n",
    "pd.DataFrame(df[(df['year_release'] >= 2015) & (df['year_release'] <= 2019)].pivot_table(index='age_restriction', \n",
    "columns='year_release', values='box_office', aggfunc='sum').reset_index().\n",
    "             rename(columns={'age_restriction':'возрастное ограничение','All':'Итого'}))\n",
    ")"
   ]
  },
  {
   "cell_type": "markdown",
   "metadata": {
    "id": "l_Kg6Ku4gFya"
   },
   "source": [
    "Больше всего в прокате за период 2015-2019 г. собирали фильмы для возрастной аудитории «16+».\n",
    "\n",
    "Изучим более подробно топ-10 самых прибыльных фильмов:"
   ]
  },
  {
   "cell_type": "code",
   "execution_count": 131,
   "metadata": {},
   "outputs": [
    {
     "data": {
      "text/html": [
       "<div>\n",
       "<style scoped>\n",
       "    .dataframe tbody tr th:only-of-type {\n",
       "        vertical-align: middle;\n",
       "    }\n",
       "\n",
       "    .dataframe tbody tr th {\n",
       "        vertical-align: top;\n",
       "    }\n",
       "\n",
       "    .dataframe thead th {\n",
       "        text-align: right;\n",
       "    }\n",
       "</style>\n",
       "<table border=\"1\" class=\"dataframe\">\n",
       "  <thead>\n",
       "    <tr style=\"text-align: right;\">\n",
       "      <th></th>\n",
       "      <th>фильм</th>\n",
       "      <th>год</th>\n",
       "      <th>рейтинг</th>\n",
       "      <th>roi</th>\n",
       "      <th>сборы</th>\n",
       "    </tr>\n",
       "  </thead>\n",
       "  <tbody>\n",
       "    <tr>\n",
       "      <th>0</th>\n",
       "      <td>Холоп</td>\n",
       "      <td>2019</td>\n",
       "      <td>6.80</td>\n",
       "      <td>18.21</td>\n",
       "      <td>3,073,568,690.79</td>\n",
       "    </tr>\n",
       "    <tr>\n",
       "      <th>1</th>\n",
       "      <td>Я худею</td>\n",
       "      <td>2018</td>\n",
       "      <td>6.90</td>\n",
       "      <td>6.23</td>\n",
       "      <td>633,462,266.74</td>\n",
       "    </tr>\n",
       "    <tr>\n",
       "      <th>2</th>\n",
       "      <td>Гуляй, Вася !</td>\n",
       "      <td>2016</td>\n",
       "      <td>6.50</td>\n",
       "      <td>5.64</td>\n",
       "      <td>259,099,078.00</td>\n",
       "    </tr>\n",
       "    <tr>\n",
       "      <th>3</th>\n",
       "      <td>Самый Лучший День</td>\n",
       "      <td>2015</td>\n",
       "      <td>4.70</td>\n",
       "      <td>4.23</td>\n",
       "      <td>683,029,061.40</td>\n",
       "    </tr>\n",
       "    <tr>\n",
       "      <th>4</th>\n",
       "      <td>8 новых свиданий</td>\n",
       "      <td>2014</td>\n",
       "      <td>6.00</td>\n",
       "      <td>4.08</td>\n",
       "      <td>393,344,626.30</td>\n",
       "    </tr>\n",
       "    <tr>\n",
       "      <th>5</th>\n",
       "      <td>Ёлки Новые</td>\n",
       "      <td>2017</td>\n",
       "      <td>5.80</td>\n",
       "      <td>3.91</td>\n",
       "      <td>855,451,052.00</td>\n",
       "    </tr>\n",
       "    <tr>\n",
       "      <th>6</th>\n",
       "      <td>Непрощенный</td>\n",
       "      <td>2018</td>\n",
       "      <td>6.70</td>\n",
       "      <td>3.77</td>\n",
       "      <td>393,279,629.43</td>\n",
       "    </tr>\n",
       "    <tr>\n",
       "      <th>7</th>\n",
       "      <td>Движение вверх</td>\n",
       "      <td>2017</td>\n",
       "      <td>7.50</td>\n",
       "      <td>3.71</td>\n",
       "      <td>2,779,686,144.00</td>\n",
       "    </tr>\n",
       "    <tr>\n",
       "      <th>8</th>\n",
       "      <td>Последний богатырь</td>\n",
       "      <td>2017</td>\n",
       "      <td>6.80</td>\n",
       "      <td>3.70</td>\n",
       "      <td>1,655,037,688.00</td>\n",
       "    </tr>\n",
       "    <tr>\n",
       "      <th>9</th>\n",
       "      <td>Три богатыря и принцесса Египта</td>\n",
       "      <td>2017</td>\n",
       "      <td>5.50</td>\n",
       "      <td>3.35</td>\n",
       "      <td>759,226,773.00</td>\n",
       "    </tr>\n",
       "  </tbody>\n",
       "</table>\n",
       "</div>"
      ],
      "text/plain": [
       "                             фильм   год  рейтинг   roi            сборы\n",
       "0                            Холоп  2019     6.80 18.21 3,073,568,690.79\n",
       "1                          Я худею  2018     6.90  6.23   633,462,266.74\n",
       "2                    Гуляй, Вася !  2016     6.50  5.64   259,099,078.00\n",
       "3                Самый Лучший День  2015     4.70  4.23   683,029,061.40\n",
       "4                 8 новых свиданий  2014     6.00  4.08   393,344,626.30\n",
       "5                       Ёлки Новые  2017     5.80  3.91   855,451,052.00\n",
       "6                      Непрощенный  2018     6.70  3.77   393,279,629.43\n",
       "7                   Движение вверх  2017     7.50  3.71 2,779,686,144.00\n",
       "8               Последний богатырь  2017     6.80  3.70 1,655,037,688.00\n",
       "9  Три богатыря и принцесса Египта  2017     5.50  3.35   759,226,773.00"
      ]
     },
     "metadata": {},
     "output_type": "display_data"
    }
   ],
   "source": [
    "report = df[(df['budget'].notna()) & (df['budget'] > 0) & (df['box_office'].notna())]\n",
    "\n",
    "report = (\n",
    "    pd.DataFrame(report.groupby(['title','year_release','ratings'])[['roi','box_office']].sum().sort_values(by='roi', \n",
    "    ascending=False).reset_index().rename(columns={'title':'фильм', 'year_release':'год', 'ratings':'рейтинг', \n",
    "                                                   'box_office':'сборы'}))\n",
    ")\n",
    "\n",
    "display(report.head(10))"
   ]
  },
  {
   "cell_type": "markdown",
   "metadata": {},
   "source": [
    "Самым прибыльным оказался фильм 2019 года \"Холоп\", собравший в прокате более 3 млрд руб.\n",
    "\n",
    "Рассмотрим 10 наиболее убыточных фильмов:"
   ]
  },
  {
   "cell_type": "code",
   "execution_count": 132,
   "metadata": {},
   "outputs": [
    {
     "data": {
      "text/html": [
       "<div>\n",
       "<style scoped>\n",
       "    .dataframe tbody tr th:only-of-type {\n",
       "        vertical-align: middle;\n",
       "    }\n",
       "\n",
       "    .dataframe tbody tr th {\n",
       "        vertical-align: top;\n",
       "    }\n",
       "\n",
       "    .dataframe thead th {\n",
       "        text-align: right;\n",
       "    }\n",
       "</style>\n",
       "<table border=\"1\" class=\"dataframe\">\n",
       "  <thead>\n",
       "    <tr style=\"text-align: right;\">\n",
       "      <th></th>\n",
       "      <th>фильм</th>\n",
       "      <th>год</th>\n",
       "      <th>рейтинг</th>\n",
       "      <th>roi</th>\n",
       "      <th>сборы</th>\n",
       "    </tr>\n",
       "  </thead>\n",
       "  <tbody>\n",
       "    <tr>\n",
       "      <th>277</th>\n",
       "      <td>Экспириенс</td>\n",
       "      <td>2015</td>\n",
       "      <td>4.70</td>\n",
       "      <td>-1.00</td>\n",
       "      <td>36,550.00</td>\n",
       "    </tr>\n",
       "    <tr>\n",
       "      <th>278</th>\n",
       "      <td>Трагедия в бухте Роджерс</td>\n",
       "      <td>2015</td>\n",
       "      <td>6.10</td>\n",
       "      <td>-1.00</td>\n",
       "      <td>40,050.00</td>\n",
       "    </tr>\n",
       "    <tr>\n",
       "      <th>279</th>\n",
       "      <td>Память осени</td>\n",
       "      <td>2016</td>\n",
       "      <td>5.70</td>\n",
       "      <td>-1.00</td>\n",
       "      <td>58,500.00</td>\n",
       "    </tr>\n",
       "    <tr>\n",
       "      <th>280</th>\n",
       "      <td>Сдается дом со всеми неудобствами</td>\n",
       "      <td>2016</td>\n",
       "      <td>5.80</td>\n",
       "      <td>-1.00</td>\n",
       "      <td>55,800.00</td>\n",
       "    </tr>\n",
       "    <tr>\n",
       "      <th>281</th>\n",
       "      <td>ВСЯ НАША НАДЕЖДА...</td>\n",
       "      <td>2016</td>\n",
       "      <td>7.20</td>\n",
       "      <td>-1.00</td>\n",
       "      <td>35,897.00</td>\n",
       "    </tr>\n",
       "    <tr>\n",
       "      <th>282</th>\n",
       "      <td>Простая история .</td>\n",
       "      <td>2016</td>\n",
       "      <td>7.80</td>\n",
       "      <td>-1.00</td>\n",
       "      <td>58,720.00</td>\n",
       "    </tr>\n",
       "    <tr>\n",
       "      <th>283</th>\n",
       "      <td>Вдвоем на льдине.</td>\n",
       "      <td>2015</td>\n",
       "      <td>6.60</td>\n",
       "      <td>-1.00</td>\n",
       "      <td>4,450.00</td>\n",
       "    </tr>\n",
       "    <tr>\n",
       "      <th>284</th>\n",
       "      <td>Битва с экстрасенсами</td>\n",
       "      <td>2015</td>\n",
       "      <td>5.40</td>\n",
       "      <td>-1.00</td>\n",
       "      <td>6,000.00</td>\n",
       "    </tr>\n",
       "    <tr>\n",
       "      <th>285</th>\n",
       "      <td>День До</td>\n",
       "      <td>2016</td>\n",
       "      <td>4.80</td>\n",
       "      <td>-1.00</td>\n",
       "      <td>9,000.00</td>\n",
       "    </tr>\n",
       "    <tr>\n",
       "      <th>286</th>\n",
       "      <td>Я-Учитель</td>\n",
       "      <td>2015</td>\n",
       "      <td>7.40</td>\n",
       "      <td>-1.00</td>\n",
       "      <td>1,550.00</td>\n",
       "    </tr>\n",
       "  </tbody>\n",
       "</table>\n",
       "</div>"
      ],
      "text/plain": [
       "                                 фильм   год  рейтинг   roi     сборы\n",
       "277                         Экспириенс  2015     4.70 -1.00 36,550.00\n",
       "278           Трагедия в бухте Роджерс  2015     6.10 -1.00 40,050.00\n",
       "279                       Память осени  2016     5.70 -1.00 58,500.00\n",
       "280  Сдается дом со всеми неудобствами  2016     5.80 -1.00 55,800.00\n",
       "281                ВСЯ НАША НАДЕЖДА...  2016     7.20 -1.00 35,897.00\n",
       "282                  Простая история .  2016     7.80 -1.00 58,720.00\n",
       "283                  Вдвоем на льдине.  2015     6.60 -1.00  4,450.00\n",
       "284              Битва с экстрасенсами  2015     5.40 -1.00  6,000.00\n",
       "285                            День До  2016     4.80 -1.00  9,000.00\n",
       "286                          Я-Учитель  2015     7.40 -1.00  1,550.00"
      ]
     },
     "metadata": {},
     "output_type": "display_data"
    }
   ],
   "source": [
    "display(report.tail(10))"
   ]
  },
  {
   "cell_type": "markdown",
   "metadata": {},
   "source": [
    "Самый убыточный фильм собрал в прокате лишь 1550 руб.\n",
    "\n",
    "Рассмотрим самые кассовые фильмы года:"
   ]
  },
  {
   "cell_type": "code",
   "execution_count": 133,
   "metadata": {},
   "outputs": [
    {
     "data": {
      "text/html": [
       "<div>\n",
       "<style scoped>\n",
       "    .dataframe tbody tr th:only-of-type {\n",
       "        vertical-align: middle;\n",
       "    }\n",
       "\n",
       "    .dataframe tbody tr th {\n",
       "        vertical-align: top;\n",
       "    }\n",
       "\n",
       "    .dataframe thead th {\n",
       "        text-align: right;\n",
       "    }\n",
       "</style>\n",
       "<table border=\"1\" class=\"dataframe\">\n",
       "  <thead>\n",
       "    <tr style=\"text-align: right;\">\n",
       "      <th></th>\n",
       "      <th>год</th>\n",
       "      <th>фильм</th>\n",
       "      <th>рейтинг</th>\n",
       "      <th>сборы</th>\n",
       "    </tr>\n",
       "  </thead>\n",
       "  <tbody>\n",
       "    <tr>\n",
       "      <th>4</th>\n",
       "      <td>2014</td>\n",
       "      <td>Седьмой сын</td>\n",
       "      <td>5.80</td>\n",
       "      <td>1,016,410,635.30</td>\n",
       "    </tr>\n",
       "    <tr>\n",
       "      <th>5</th>\n",
       "      <td>2015</td>\n",
       "      <td>Звёздные войны: Пробуждение силы</td>\n",
       "      <td>7.10</td>\n",
       "      <td>1,658,861,425.50</td>\n",
       "    </tr>\n",
       "    <tr>\n",
       "      <th>6</th>\n",
       "      <td>2016</td>\n",
       "      <td>Зверополис</td>\n",
       "      <td>8.30</td>\n",
       "      <td>2,048,126,108.00</td>\n",
       "    </tr>\n",
       "    <tr>\n",
       "      <th>7</th>\n",
       "      <td>2017</td>\n",
       "      <td>Движение вверх</td>\n",
       "      <td>7.50</td>\n",
       "      <td>2,779,686,144.00</td>\n",
       "    </tr>\n",
       "    <tr>\n",
       "      <th>8</th>\n",
       "      <td>2018</td>\n",
       "      <td>Т-34</td>\n",
       "      <td>6.50</td>\n",
       "      <td>2,271,754,004.52</td>\n",
       "    </tr>\n",
       "    <tr>\n",
       "      <th>9</th>\n",
       "      <td>2019</td>\n",
       "      <td>Холоп</td>\n",
       "      <td>6.80</td>\n",
       "      <td>3,073,568,690.79</td>\n",
       "    </tr>\n",
       "  </tbody>\n",
       "</table>\n",
       "</div>"
      ],
      "text/plain": [
       "    год                             фильм  рейтинг            сборы\n",
       "4  2014                       Седьмой сын     5.80 1,016,410,635.30\n",
       "5  2015  Звёздные войны: Пробуждение силы     7.10 1,658,861,425.50\n",
       "6  2016                        Зверополис     8.30 2,048,126,108.00\n",
       "7  2017                    Движение вверх     7.50 2,779,686,144.00\n",
       "8  2018                              Т-34     6.50 2,271,754,004.52\n",
       "9  2019                             Холоп     6.80 3,073,568,690.79"
      ]
     },
     "metadata": {},
     "output_type": "display_data"
    }
   ],
   "source": [
    "report = (\n",
    "pd.DataFrame(df.loc[df.groupby('year_release')['box_office'].idxmax()][['year_release', 'title', 'ratings', 'box_office']]).\n",
    "    reset_index(drop=True).rename(columns=\n",
    "                                  {'year_release':'год', 'title':'фильм', 'ratings':'рейтинг', 'box_office':'сборы'})  \n",
    ")\n",
    "\n",
    "display(report.tail(6))"
   ]
  },
  {
   "cell_type": "markdown",
   "metadata": {},
   "source": [
    "Рассчитаем окупаемость фильмов в разбивке по году выхода в прокат:"
   ]
  },
  {
   "cell_type": "code",
   "execution_count": 134,
   "metadata": {},
   "outputs": [
    {
     "data": {
      "text/html": [
       "<div>\n",
       "<style scoped>\n",
       "    .dataframe tbody tr th:only-of-type {\n",
       "        vertical-align: middle;\n",
       "    }\n",
       "\n",
       "    .dataframe tbody tr th {\n",
       "        vertical-align: top;\n",
       "    }\n",
       "\n",
       "    .dataframe thead th {\n",
       "        text-align: right;\n",
       "    }\n",
       "</style>\n",
       "<table border=\"1\" class=\"dataframe\">\n",
       "  <thead>\n",
       "    <tr style=\"text-align: right;\">\n",
       "      <th></th>\n",
       "      <th>год</th>\n",
       "      <th>roi</th>\n",
       "    </tr>\n",
       "  </thead>\n",
       "  <tbody>\n",
       "    <tr>\n",
       "      <th>0</th>\n",
       "      <td>2013</td>\n",
       "      <td>-0.92</td>\n",
       "    </tr>\n",
       "    <tr>\n",
       "      <th>1</th>\n",
       "      <td>2014</td>\n",
       "      <td>-0.21</td>\n",
       "    </tr>\n",
       "    <tr>\n",
       "      <th>2</th>\n",
       "      <td>2015</td>\n",
       "      <td>-0.34</td>\n",
       "    </tr>\n",
       "    <tr>\n",
       "      <th>3</th>\n",
       "      <td>2016</td>\n",
       "      <td>-0.31</td>\n",
       "    </tr>\n",
       "    <tr>\n",
       "      <th>4</th>\n",
       "      <td>2017</td>\n",
       "      <td>0.57</td>\n",
       "    </tr>\n",
       "    <tr>\n",
       "      <th>5</th>\n",
       "      <td>2018</td>\n",
       "      <td>0.43</td>\n",
       "    </tr>\n",
       "    <tr>\n",
       "      <th>6</th>\n",
       "      <td>2019</td>\n",
       "      <td>-0.25</td>\n",
       "    </tr>\n",
       "  </tbody>\n",
       "</table>\n",
       "</div>"
      ],
      "text/plain": [
       "    год   roi\n",
       "0  2013 -0.92\n",
       "1  2014 -0.21\n",
       "2  2015 -0.34\n",
       "3  2016 -0.31\n",
       "4  2017  0.57\n",
       "5  2018  0.43\n",
       "6  2019 -0.25"
      ]
     },
     "execution_count": 134,
     "metadata": {},
     "output_type": "execute_result"
    }
   ],
   "source": [
    "report = df[(df['budget'].notna()) & (df['budget'] > 0) & (df['box_office'].notna())]\n",
    "\n",
    "def roi(row):\n",
    "    return ((row['box_office'].sum() - row['budget'].sum()) / row['budget'].sum())\n",
    "\n",
    "pd.DataFrame(report.groupby('year_release').apply(roi).reset_index().rename(columns={'year_release':'год', 0:'roi'}))"
   ]
  },
  {
   "cell_type": "markdown",
   "metadata": {},
   "source": [
    "Наиболее успешным с точки зрениям окупаемости был период 2017-2018 гг. Фильмы, выходившие в прокат до или после, совокупно не окупились.\n",
    "\n",
    "### Анализ фильмов, получивших государственную поддержку\n",
    "\n",
    "Добавим столбец `is_funded` с информацией о наличии господдержки:"
   ]
  },
  {
   "cell_type": "code",
   "execution_count": 135,
   "metadata": {},
   "outputs": [],
   "source": [
    "def is_funded(row):  \n",
    "    total_support = row['refundable_support'] + row['nonrefundable_support'] \n",
    "    \n",
    "    if total_support > 0:\n",
    "        return 'с господдержкой'\n",
    "    else:\n",
    "        return 'без господдержки'\n",
    "\n",
    "df['is_funded'] = df.apply(is_funded, axis=1)"
   ]
  },
  {
   "cell_type": "markdown",
   "metadata": {},
   "source": [
    "Изучим, какую долю от общего бюджета фильма составляет государственная поддержка, построив гистограмму:"
   ]
  },
  {
   "cell_type": "code",
   "execution_count": 136,
   "metadata": {},
   "outputs": [
    {
     "data": {
      "image/png": "[encoded data removed]",
      "text/plain": [
       "<Figure size 1080x360 with 1 Axes>"
      ]
     },
     "metadata": {
      "needs_background": "light"
     },
     "output_type": "display_data"
    }
   ],
   "source": [
    "report = df[df['budget'].notna() & df['budget'] > 0 & (df['is_funded'] == 'с господдержкой')]\n",
    "report['support_share'] = (report['refundable_support'] + report['nonrefundable_support']) / report['budget']\n",
    "\n",
    "plt.figure(figsize=(15, 5))\n",
    "plt.hist(report['support_share'], bins=50)\n",
    "plt.axvline(x=report['support_share'].median(), linewidth=3, color='r', linestyle='--', label='медиана', alpha=1)\n",
    "plt.title('Доля господдержки', fontsize=14, pad=20)   \n",
    "plt.xlabel('доля')\n",
    "plt.ylabel('количество')\n",
    "plt.legend(prop={'size':12})\n",
    "sns.despine()"
   ]
  },
  {
   "cell_type": "markdown",
   "metadata": {},
   "source": [
    "Медианное значение доли господдержки в общем бюджете фильма составляет около 60%.\n",
    "\n"
   ]
  },
  {
   "cell_type": "code",
   "execution_count": 137,
   "metadata": {},
   "outputs": [
    {
     "name": "stdout",
     "output_type": "stream",
     "text": [
      "Доля окупившихся фильмов от общего числа вышедших в прокат фильмов составляет: 21.0 %\n"
     ]
    }
   ],
   "source": [
    "print('Доля окупившихся фильмов от общего числа вышедших в прокат фильмов составляет:', \n",
    "     round(report['roi_positive'].mean()*100, 1),'%')"
   ]
  },
  {
   "cell_type": "markdown",
   "metadata": {},
   "source": [
    "В среднем только каждый 5-ый фильм с господдержкой окупается.\n",
    "\n",
    "Проанализируем основные источники финансирования:"
   ]
  },
  {
   "cell_type": "code",
   "execution_count": 138,
   "metadata": {},
   "outputs": [
    {
     "data": {
      "text/html": [
       "<div>\n",
       "<style scoped>\n",
       "    .dataframe tbody tr th:only-of-type {\n",
       "        vertical-align: middle;\n",
       "    }\n",
       "\n",
       "    .dataframe tbody tr th {\n",
       "        vertical-align: top;\n",
       "    }\n",
       "\n",
       "    .dataframe thead th {\n",
       "        text-align: right;\n",
       "    }\n",
       "</style>\n",
       "<table border=\"1\" class=\"dataframe\">\n",
       "  <thead>\n",
       "    <tr style=\"text-align: right;\">\n",
       "      <th>financing_source</th>\n",
       "      <th>год</th>\n",
       "      <th>Министерство культуры</th>\n",
       "      <th>Министерство культуры, Фонд кино</th>\n",
       "      <th>Фонд кино</th>\n",
       "    </tr>\n",
       "  </thead>\n",
       "  <tbody>\n",
       "    <tr>\n",
       "      <th>0</th>\n",
       "      <td>2013</td>\n",
       "      <td>26,500,000.00</td>\n",
       "      <td></td>\n",
       "      <td>107,847,945.00</td>\n",
       "    </tr>\n",
       "    <tr>\n",
       "      <th>1</th>\n",
       "      <td>2014</td>\n",
       "      <td>211,500,000.00</td>\n",
       "      <td>136,502,299.00</td>\n",
       "      <td>201,000,000.00</td>\n",
       "    </tr>\n",
       "    <tr>\n",
       "      <th>2</th>\n",
       "      <td>2015</td>\n",
       "      <td>1,100,810,000.00</td>\n",
       "      <td>319,382,174.00</td>\n",
       "      <td>1,807,049,285.00</td>\n",
       "    </tr>\n",
       "    <tr>\n",
       "      <th>3</th>\n",
       "      <td>2016</td>\n",
       "      <td>743,851,000.00</td>\n",
       "      <td>469,200,000.00</td>\n",
       "      <td>2,764,104,482.00</td>\n",
       "    </tr>\n",
       "    <tr>\n",
       "      <th>4</th>\n",
       "      <td>2017</td>\n",
       "      <td>351,000,000.00</td>\n",
       "      <td>64,346,881.00</td>\n",
       "      <td>2,683,624,781.00</td>\n",
       "    </tr>\n",
       "    <tr>\n",
       "      <th>5</th>\n",
       "      <td>2018</td>\n",
       "      <td>926,000,000.00</td>\n",
       "      <td>55,000,000.00</td>\n",
       "      <td>2,117,000,000.00</td>\n",
       "    </tr>\n",
       "    <tr>\n",
       "      <th>6</th>\n",
       "      <td>2019</td>\n",
       "      <td>1,471,000,000.00</td>\n",
       "      <td>118,000,000.00</td>\n",
       "      <td>3,135,000,000.00</td>\n",
       "    </tr>\n",
       "  </tbody>\n",
       "</table>\n",
       "</div>"
      ],
      "text/plain": [
       "financing_source   год  Министерство культуры  \\\n",
       "0                 2013          26,500,000.00   \n",
       "1                 2014         211,500,000.00   \n",
       "2                 2015       1,100,810,000.00   \n",
       "3                 2016         743,851,000.00   \n",
       "4                 2017         351,000,000.00   \n",
       "5                 2018         926,000,000.00   \n",
       "6                 2019       1,471,000,000.00   \n",
       "\n",
       "financing_source Министерство культуры, Фонд кино        Фонд кино  \n",
       "0                                                   107,847,945.00  \n",
       "1                                  136,502,299.00   201,000,000.00  \n",
       "2                                  319,382,174.00 1,807,049,285.00  \n",
       "3                                  469,200,000.00 2,764,104,482.00  \n",
       "4                                   64,346,881.00 2,683,624,781.00  \n",
       "5                                   55,000,000.00 2,117,000,000.00  \n",
       "6                                  118,000,000.00 3,135,000,000.00  "
      ]
     },
     "execution_count": 138,
     "metadata": {},
     "output_type": "execute_result"
    }
   ],
   "source": [
    "report['total_support'] = report['refundable_support'] + report['nonrefundable_support']\n",
    "\n",
    "pd.DataFrame(\n",
    "report.pivot_table(index='year_release', columns='financing_source', values='total_support', aggfunc='sum')\n",
    "    .reset_index().rename(columns={'year_release':'год','title':'кол-во'}).fillna('')\n",
    ")"
   ]
  },
  {
   "cell_type": "markdown",
   "metadata": {},
   "source": [
    "Основное финансирование для фильмов предоставляет Фонд кино.\n",
    "\n",
    "Сравним средний рейтинг фильмов с господдержкой и без:"
   ]
  },
  {
   "cell_type": "code",
   "execution_count": 139,
   "metadata": {
    "scrolled": false
   },
   "outputs": [
    {
     "data": {
      "image/png": "[encoded data removed]",
      "text/plain": [
       "<Figure size 1080x360 with 1 Axes>"
      ]
     },
     "metadata": {
      "needs_background": "light"
     },
     "output_type": "display_data"
    }
   ],
   "source": [
    "plt.figure(figsize=(15,5))\n",
    "ax = sns.barplot(x='year_release', y='ratings', hue='is_funded', \n",
    "                 data=df[(df['year_release'] >= 2013) & (df['year_release'] <= 2019)], palette='Blues', ci=None)\n",
    "plt.title('Средний рейтинг фильма по году выпуска', fontsize=14, pad=20)  \n",
    "plt.xlabel('год')\n",
    "plt.ylabel('млрд руб.')\n",
    "ax.set_ylim([5, 7])\n",
    "plt.legend(loc=1)\n",
    "sns.despine()"
   ]
  },
  {
   "cell_type": "markdown",
   "metadata": {},
   "source": [
    "Средний рейтинг фильмов без господержки почти всегда выше, чем у фильмов с господдержкой.\n",
    "\n",
    "Проанализирем, на какие жанры чаще всего выделялась господдержка:"
   ]
  },
  {
   "cell_type": "code",
   "execution_count": 140,
   "metadata": {},
   "outputs": [
    {
     "data": {
      "text/html": [
       "<div>\n",
       "<style scoped>\n",
       "    .dataframe tbody tr th:only-of-type {\n",
       "        vertical-align: middle;\n",
       "    }\n",
       "\n",
       "    .dataframe tbody tr th {\n",
       "        vertical-align: top;\n",
       "    }\n",
       "\n",
       "    .dataframe thead th {\n",
       "        text-align: right;\n",
       "    }\n",
       "</style>\n",
       "<table border=\"1\" class=\"dataframe\">\n",
       "  <thead>\n",
       "    <tr style=\"text-align: right;\">\n",
       "      <th></th>\n",
       "      <th>жанр</th>\n",
       "      <th>количество</th>\n",
       "      <th>доля</th>\n",
       "    </tr>\n",
       "  </thead>\n",
       "  <tbody>\n",
       "    <tr>\n",
       "      <th>0</th>\n",
       "      <td>драма</td>\n",
       "      <td>93</td>\n",
       "      <td>29.4%</td>\n",
       "    </tr>\n",
       "    <tr>\n",
       "      <th>1</th>\n",
       "      <td>комедия</td>\n",
       "      <td>74</td>\n",
       "      <td>23.4%</td>\n",
       "    </tr>\n",
       "    <tr>\n",
       "      <th>2</th>\n",
       "      <td>мультфильм</td>\n",
       "      <td>31</td>\n",
       "      <td>9.8%</td>\n",
       "    </tr>\n",
       "    <tr>\n",
       "      <th>3</th>\n",
       "      <td>триллер</td>\n",
       "      <td>15</td>\n",
       "      <td>4.7%</td>\n",
       "    </tr>\n",
       "    <tr>\n",
       "      <th>4</th>\n",
       "      <td>мелодрама</td>\n",
       "      <td>15</td>\n",
       "      <td>4.7%</td>\n",
       "    </tr>\n",
       "    <tr>\n",
       "      <th>5</th>\n",
       "      <td>фантастика</td>\n",
       "      <td>11</td>\n",
       "      <td>3.5%</td>\n",
       "    </tr>\n",
       "    <tr>\n",
       "      <th>6</th>\n",
       "      <td>фэнтези</td>\n",
       "      <td>11</td>\n",
       "      <td>3.5%</td>\n",
       "    </tr>\n",
       "    <tr>\n",
       "      <th>7</th>\n",
       "      <td>ужасы</td>\n",
       "      <td>10</td>\n",
       "      <td>3.2%</td>\n",
       "    </tr>\n",
       "    <tr>\n",
       "      <th>8</th>\n",
       "      <td>военный</td>\n",
       "      <td>9</td>\n",
       "      <td>2.8%</td>\n",
       "    </tr>\n",
       "    <tr>\n",
       "      <th>9</th>\n",
       "      <td>приключения</td>\n",
       "      <td>7</td>\n",
       "      <td>2.2%</td>\n",
       "    </tr>\n",
       "    <tr>\n",
       "      <th>10</th>\n",
       "      <td>семейный</td>\n",
       "      <td>7</td>\n",
       "      <td>2.2%</td>\n",
       "    </tr>\n",
       "    <tr>\n",
       "      <th>11</th>\n",
       "      <td>боевик</td>\n",
       "      <td>6</td>\n",
       "      <td>1.9%</td>\n",
       "    </tr>\n",
       "    <tr>\n",
       "      <th>12</th>\n",
       "      <td>детектив</td>\n",
       "      <td>5</td>\n",
       "      <td>1.6%</td>\n",
       "    </tr>\n",
       "    <tr>\n",
       "      <th>13</th>\n",
       "      <td>история</td>\n",
       "      <td>4</td>\n",
       "      <td>1.3%</td>\n",
       "    </tr>\n",
       "    <tr>\n",
       "      <th>14</th>\n",
       "      <td>детский</td>\n",
       "      <td>4</td>\n",
       "      <td>1.3%</td>\n",
       "    </tr>\n",
       "    <tr>\n",
       "      <th>15</th>\n",
       "      <td>мюзикл</td>\n",
       "      <td>4</td>\n",
       "      <td>1.3%</td>\n",
       "    </tr>\n",
       "    <tr>\n",
       "      <th>16</th>\n",
       "      <td>криминал</td>\n",
       "      <td>3</td>\n",
       "      <td>0.9%</td>\n",
       "    </tr>\n",
       "    <tr>\n",
       "      <th>17</th>\n",
       "      <td>спорт</td>\n",
       "      <td>3</td>\n",
       "      <td>0.9%</td>\n",
       "    </tr>\n",
       "    <tr>\n",
       "      <th>18</th>\n",
       "      <td>биография</td>\n",
       "      <td>3</td>\n",
       "      <td>0.9%</td>\n",
       "    </tr>\n",
       "    <tr>\n",
       "      <th>19</th>\n",
       "      <td>реальное ТВ</td>\n",
       "      <td>1</td>\n",
       "      <td>0.3%</td>\n",
       "    </tr>\n",
       "  </tbody>\n",
       "</table>\n",
       "</div>"
      ],
      "text/plain": [
       "           жанр  количество   доля\n",
       "0         драма          93  29.4%\n",
       "1       комедия          74  23.4%\n",
       "2    мультфильм          31   9.8%\n",
       "3       триллер          15   4.7%\n",
       "4     мелодрама          15   4.7%\n",
       "5    фантастика          11   3.5%\n",
       "6       фэнтези          11   3.5%\n",
       "7         ужасы          10   3.2%\n",
       "8       военный           9   2.8%\n",
       "9   приключения           7   2.2%\n",
       "10     семейный           7   2.2%\n",
       "11       боевик           6   1.9%\n",
       "12     детектив           5   1.6%\n",
       "13      история           4   1.3%\n",
       "14      детский           4   1.3%\n",
       "15       мюзикл           4   1.3%\n",
       "16     криминал           3   0.9%\n",
       "17        спорт           3   0.9%\n",
       "18    биография           3   0.9%\n",
       "19  реальное ТВ           1   0.3%"
      ]
     },
     "metadata": {},
     "output_type": "display_data"
    }
   ],
   "source": [
    "report = (\n",
    "df[(df['is_funded'] == 'с господдержкой') & (df['main_genre'] != 'unknown')].groupby('main_genre')['title'].count()\n",
    "    .sort_values(ascending=False).reset_index().rename(columns={'title':'количество', 'main_genre':'жанр'})\n",
    ")\n",
    "\n",
    "report['доля'] = (report['количество']/report['количество'].sum()).apply(lambda x: '{0:.1f}%'.format(x * 100))\n",
    "display(report)"
   ]
  },
  {
   "cell_type": "markdown",
   "metadata": {},
   "source": [
    "Чаще всего господдержка выделялась на фильмы в жанрах \"Драма\" и \"Комедия\".\n"
   ]
  },
  {
   "cell_type": "markdown",
   "metadata": {
    "id": "V2gYwMcPgFyd"
   },
   "source": [
    "## Общий вывод\n",
    "\n",
    "В рамках данного исследования был проанализирован рынок российского кинопроката. В процессе предобработки данных были изменены типы данных, категориальные переменные приведены к единому стилю. \n",
    "\n",
    "В среднем в год выходило в прокат около 800 фильмов. В большинстве случаев, доля господдержки в общем бюджете соствляет около 60%. Минимальные сборы были зафиксированы в 2014 г., а максимальные в 2018 г. Больше всего в прокате собрали фильмы для возрастной аудитории «16+». Также было проведено сравнение рейтингов фильмов с господдержкой и без. Фильмы без господдержки имеют былее высокий рейтнг. В среднем только каждый 5-й фильм с господдержкой окупается. Самые высокие рейтинги наблюдаются у жанров фильм-нуар и аниме. Большинство фильмов из топ-10 с самыми высокими и самыми низкими рейтингами были сняты в России."
   ]
  }
 ],
 "metadata": {
  "ExecuteTimeLog": [
   {
    "duration": 537,
    "start_time": "2021-07-07T10:12:08.634Z"
   },
   {
    "duration": 206,
    "start_time": "2021-07-07T10:12:30.191Z"
   },
   {
    "duration": 227,
    "start_time": "2021-07-07T10:12:33.078Z"
   },
   {
    "duration": 153,
    "start_time": "2021-07-07T10:13:42.146Z"
   },
   {
    "duration": 233,
    "start_time": "2021-07-07T10:30:09.252Z"
   },
   {
    "duration": 19,
    "start_time": "2021-07-07T10:30:15.577Z"
   },
   {
    "duration": 18,
    "start_time": "2021-07-07T10:30:57.348Z"
   },
   {
    "duration": 19,
    "start_time": "2021-07-07T10:31:17.452Z"
   },
   {
    "duration": 21,
    "start_time": "2021-07-07T10:31:32.227Z"
   },
   {
    "duration": 27,
    "start_time": "2021-07-07T10:32:06.588Z"
   },
   {
    "duration": 23,
    "start_time": "2021-07-07T10:32:43.645Z"
   },
   {
    "duration": 24,
    "start_time": "2021-07-07T10:33:06.948Z"
   },
   {
    "duration": 7,
    "start_time": "2021-07-07T10:33:28.558Z"
   },
   {
    "duration": 23,
    "start_time": "2021-07-07T10:33:43.761Z"
   },
   {
    "duration": 28,
    "start_time": "2021-07-07T10:34:13.466Z"
   },
   {
    "duration": 23,
    "start_time": "2021-07-07T10:35:56.187Z"
   },
   {
    "duration": 6,
    "start_time": "2021-07-07T10:36:48.182Z"
   },
   {
    "duration": 14,
    "start_time": "2021-07-07T10:37:49.641Z"
   },
   {
    "duration": 6,
    "start_time": "2021-07-07T10:38:06.694Z"
   },
   {
    "duration": 6,
    "start_time": "2021-07-07T10:38:13.493Z"
   },
   {
    "duration": 19,
    "start_time": "2021-07-07T10:38:44.056Z"
   },
   {
    "duration": 186,
    "start_time": "2021-07-07T10:48:35.618Z"
   },
   {
    "duration": 24,
    "start_time": "2021-07-07T10:48:51.498Z"
   },
   {
    "duration": 20,
    "start_time": "2021-07-07T10:48:59.415Z"
   },
   {
    "duration": 20,
    "start_time": "2021-07-07T10:53:02.195Z"
   },
   {
    "duration": 188,
    "start_time": "2021-07-07T10:54:40.486Z"
   },
   {
    "duration": 115,
    "start_time": "2021-07-07T10:54:52.552Z"
   },
   {
    "duration": 214,
    "start_time": "2021-07-07T10:54:56.354Z"
   },
   {
    "duration": 47,
    "start_time": "2021-07-07T10:54:58.282Z"
   },
   {
    "duration": 217,
    "start_time": "2021-07-07T10:59:16.075Z"
   },
   {
    "duration": 51,
    "start_time": "2021-07-07T10:59:16.243Z"
   },
   {
    "duration": 578,
    "start_time": "2021-07-07T10:59:18.774Z"
   },
   {
    "duration": 161,
    "start_time": "2021-07-07T10:59:21.238Z"
   },
   {
    "duration": 59,
    "start_time": "2021-07-07T10:59:21.453Z"
   },
   {
    "duration": 3,
    "start_time": "2021-07-07T11:02:10.786Z"
   },
   {
    "duration": 13,
    "start_time": "2021-07-07T11:07:07.722Z"
   },
   {
    "duration": 26,
    "start_time": "2021-07-07T11:07:17.958Z"
   },
   {
    "duration": 22,
    "start_time": "2021-07-07T11:08:17.939Z"
   },
   {
    "duration": 212,
    "start_time": "2021-07-07T11:08:19.665Z"
   },
   {
    "duration": 21,
    "start_time": "2021-07-07T11:08:29.945Z"
   },
   {
    "duration": 31,
    "start_time": "2021-07-07T11:08:38.899Z"
   },
   {
    "duration": 23,
    "start_time": "2021-07-07T11:08:54.527Z"
   },
   {
    "duration": 8,
    "start_time": "2021-07-07T11:18:55.974Z"
   },
   {
    "duration": 7,
    "start_time": "2021-07-07T11:19:03.639Z"
   },
   {
    "duration": 7,
    "start_time": "2021-07-07T11:19:06.444Z"
   },
   {
    "duration": 578,
    "start_time": "2021-07-07T12:09:59.576Z"
   },
   {
    "duration": 195,
    "start_time": "2021-07-07T12:10:00.156Z"
   },
   {
    "duration": 115,
    "start_time": "2021-07-07T12:10:00.353Z"
   },
   {
    "duration": 3,
    "start_time": "2021-07-07T12:10:00.470Z"
   },
   {
    "duration": 32,
    "start_time": "2021-07-07T12:10:00.474Z"
   },
   {
    "duration": 23,
    "start_time": "2021-07-07T12:10:00.508Z"
   },
   {
    "duration": 19,
    "start_time": "2021-07-07T12:10:00.533Z"
   },
   {
    "duration": 44,
    "start_time": "2021-07-07T12:10:00.553Z"
   },
   {
    "duration": 7,
    "start_time": "2021-07-07T12:10:00.600Z"
   },
   {
    "duration": 7,
    "start_time": "2021-07-07T12:19:45.761Z"
   },
   {
    "duration": 21,
    "start_time": "2021-07-07T12:21:35.482Z"
   },
   {
    "duration": 21,
    "start_time": "2021-07-07T12:29:23.569Z"
   },
   {
    "duration": 525,
    "start_time": "2021-07-07T12:29:44.542Z"
   },
   {
    "duration": 214,
    "start_time": "2021-07-07T12:29:45.069Z"
   },
   {
    "duration": 92,
    "start_time": "2021-07-07T12:29:45.285Z"
   },
   {
    "duration": 3,
    "start_time": "2021-07-07T12:29:45.379Z"
   },
   {
    "duration": 28,
    "start_time": "2021-07-07T12:29:45.384Z"
   },
   {
    "duration": 23,
    "start_time": "2021-07-07T12:29:45.413Z"
   },
   {
    "duration": 21,
    "start_time": "2021-07-07T12:29:45.437Z"
   },
   {
    "duration": 41,
    "start_time": "2021-07-07T12:29:45.460Z"
   },
   {
    "duration": 7,
    "start_time": "2021-07-07T12:29:45.502Z"
   },
   {
    "duration": 20,
    "start_time": "2021-07-07T12:29:45.511Z"
   },
   {
    "duration": 12,
    "start_time": "2021-07-07T12:34:02.800Z"
   },
   {
    "duration": 7,
    "start_time": "2021-07-07T12:35:10.479Z"
   },
   {
    "duration": 8,
    "start_time": "2021-07-07T12:35:22.440Z"
   },
   {
    "duration": 6,
    "start_time": "2021-07-07T12:35:35.649Z"
   },
   {
    "duration": 6,
    "start_time": "2021-07-07T12:35:43.107Z"
   },
   {
    "duration": 22,
    "start_time": "2021-07-07T12:38:03.029Z"
   },
   {
    "duration": 10,
    "start_time": "2021-07-07T12:38:06.592Z"
   },
   {
    "duration": 563,
    "start_time": "2021-07-07T12:38:46.493Z"
   },
   {
    "duration": 265,
    "start_time": "2021-07-07T12:38:47.058Z"
   },
   {
    "duration": 94,
    "start_time": "2021-07-07T12:38:47.325Z"
   },
   {
    "duration": 3,
    "start_time": "2021-07-07T12:38:47.422Z"
   },
   {
    "duration": 30,
    "start_time": "2021-07-07T12:38:47.427Z"
   },
   {
    "duration": 16,
    "start_time": "2021-07-07T12:38:53.305Z"
   },
   {
    "duration": 10,
    "start_time": "2021-07-07T12:38:53.499Z"
   },
   {
    "duration": 8,
    "start_time": "2021-07-07T12:39:48.161Z"
   },
   {
    "duration": 27,
    "start_time": "2021-07-07T12:41:17.629Z"
   },
   {
    "duration": 17,
    "start_time": "2021-07-07T12:41:17.867Z"
   },
   {
    "duration": 21,
    "start_time": "2021-07-07T12:41:19.310Z"
   },
   {
    "duration": 7,
    "start_time": "2021-07-07T12:41:19.544Z"
   },
   {
    "duration": 20,
    "start_time": "2021-07-07T12:41:20.504Z"
   },
   {
    "duration": 554,
    "start_time": "2021-07-07T12:56:23.696Z"
   },
   {
    "duration": 200,
    "start_time": "2021-07-07T12:56:25.234Z"
   },
   {
    "duration": 119,
    "start_time": "2021-07-07T12:56:25.480Z"
   },
   {
    "duration": 4,
    "start_time": "2021-07-07T12:56:25.762Z"
   },
   {
    "duration": 26,
    "start_time": "2021-07-07T12:56:27.172Z"
   },
   {
    "duration": 12,
    "start_time": "2021-07-07T12:56:29.051Z"
   },
   {
    "duration": 10,
    "start_time": "2021-07-07T12:56:29.291Z"
   },
   {
    "duration": 8,
    "start_time": "2021-07-07T12:56:29.623Z"
   },
   {
    "duration": 28,
    "start_time": "2021-07-07T12:56:32.137Z"
   },
   {
    "duration": 19,
    "start_time": "2021-07-07T12:56:39.785Z"
   },
   {
    "duration": 20,
    "start_time": "2021-07-07T12:56:44.297Z"
   },
   {
    "duration": 7,
    "start_time": "2021-07-07T12:56:45.392Z"
   },
   {
    "duration": 23,
    "start_time": "2021-07-07T12:56:46.615Z"
   },
   {
    "duration": 4,
    "start_time": "2021-07-07T12:57:06.625Z"
   },
   {
    "duration": 32,
    "start_time": "2021-07-07T12:57:36.690Z"
   },
   {
    "duration": 18,
    "start_time": "2021-07-07T12:58:00.149Z"
   },
   {
    "duration": 15,
    "start_time": "2021-07-07T12:59:16.793Z"
   },
   {
    "duration": 7,
    "start_time": "2021-07-07T13:19:22.624Z"
   },
   {
    "duration": 6,
    "start_time": "2021-07-07T14:17:33.527Z"
   },
   {
    "duration": 9,
    "start_time": "2021-07-07T14:17:48.409Z"
   },
   {
    "duration": 8,
    "start_time": "2021-07-07T14:20:13.060Z"
   },
   {
    "duration": 8,
    "start_time": "2021-07-07T14:20:37.957Z"
   },
   {
    "duration": 8,
    "start_time": "2021-07-07T14:20:47.470Z"
   },
   {
    "duration": 9,
    "start_time": "2021-07-07T14:20:54.503Z"
   },
   {
    "duration": 10,
    "start_time": "2021-07-07T14:28:57.763Z"
   },
   {
    "duration": 3,
    "start_time": "2021-07-07T14:30:23.377Z"
   },
   {
    "duration": 3,
    "start_time": "2021-07-07T14:30:36.489Z"
   },
   {
    "duration": 103,
    "start_time": "2021-07-07T14:30:52.351Z"
   },
   {
    "duration": 8,
    "start_time": "2021-07-07T14:30:54.763Z"
   },
   {
    "duration": 8,
    "start_time": "2021-07-07T14:31:29.301Z"
   },
   {
    "duration": 13,
    "start_time": "2021-07-07T14:31:44.516Z"
   },
   {
    "duration": 7,
    "start_time": "2021-07-07T14:33:10.972Z"
   },
   {
    "duration": 11,
    "start_time": "2021-07-07T14:33:27.780Z"
   },
   {
    "duration": 8,
    "start_time": "2021-07-07T14:34:44.588Z"
   },
   {
    "duration": 57,
    "start_time": "2021-07-07T14:35:59.042Z"
   },
   {
    "duration": 3,
    "start_time": "2021-07-07T14:36:28.168Z"
   },
   {
    "duration": 5,
    "start_time": "2021-07-07T14:36:46.254Z"
   },
   {
    "duration": 4,
    "start_time": "2021-07-07T14:36:52.714Z"
   },
   {
    "duration": 3,
    "start_time": "2021-07-07T14:36:56.612Z"
   },
   {
    "duration": 4,
    "start_time": "2021-07-07T14:36:57.049Z"
   },
   {
    "duration": 3,
    "start_time": "2021-07-07T14:39:21.214Z"
   },
   {
    "duration": 7,
    "start_time": "2021-07-07T14:39:52.406Z"
   },
   {
    "duration": 11,
    "start_time": "2021-07-07T14:39:58.576Z"
   },
   {
    "duration": 9,
    "start_time": "2021-07-07T14:40:26.301Z"
   },
   {
    "duration": 10,
    "start_time": "2021-07-07T14:40:31.704Z"
   },
   {
    "duration": 11,
    "start_time": "2021-07-07T14:40:36.249Z"
   },
   {
    "duration": 10,
    "start_time": "2021-07-07T14:40:39.783Z"
   },
   {
    "duration": 9,
    "start_time": "2021-07-07T14:40:48.558Z"
   },
   {
    "duration": 10,
    "start_time": "2021-07-07T14:40:57.143Z"
   },
   {
    "duration": 9,
    "start_time": "2021-07-07T14:41:06.074Z"
   },
   {
    "duration": 4324,
    "start_time": "2021-07-07T14:41:22.004Z"
   },
   {
    "duration": 11,
    "start_time": "2021-07-07T14:41:33.392Z"
   },
   {
    "duration": 9,
    "start_time": "2021-07-07T14:41:39.288Z"
   },
   {
    "duration": 569,
    "start_time": "2021-07-07T14:42:14.387Z"
   },
   {
    "duration": 197,
    "start_time": "2021-07-07T14:42:14.959Z"
   },
   {
    "duration": 84,
    "start_time": "2021-07-07T14:42:16.052Z"
   },
   {
    "duration": 4,
    "start_time": "2021-07-07T14:42:16.900Z"
   },
   {
    "duration": 27,
    "start_time": "2021-07-07T14:42:19.898Z"
   },
   {
    "duration": 12,
    "start_time": "2021-07-07T14:42:21.577Z"
   },
   {
    "duration": 9,
    "start_time": "2021-07-07T14:42:21.813Z"
   },
   {
    "duration": 9,
    "start_time": "2021-07-07T14:42:22.569Z"
   },
   {
    "duration": 29,
    "start_time": "2021-07-07T14:42:25.837Z"
   },
   {
    "duration": 20,
    "start_time": "2021-07-07T14:42:27.003Z"
   },
   {
    "duration": 21,
    "start_time": "2021-07-07T14:42:28.767Z"
   },
   {
    "duration": 7,
    "start_time": "2021-07-07T14:42:29.838Z"
   },
   {
    "duration": 4,
    "start_time": "2021-07-07T14:43:25.493Z"
   },
   {
    "duration": 7,
    "start_time": "2021-07-07T14:43:26.573Z"
   },
   {
    "duration": 10,
    "start_time": "2021-07-07T14:43:31.639Z"
   },
   {
    "duration": 9,
    "start_time": "2021-07-07T14:43:32.046Z"
   },
   {
    "duration": 10,
    "start_time": "2021-07-07T14:43:33.301Z"
   },
   {
    "duration": 12,
    "start_time": "2021-07-07T14:43:33.658Z"
   },
   {
    "duration": 8,
    "start_time": "2021-07-07T14:43:34.552Z"
   },
   {
    "duration": 9,
    "start_time": "2021-07-07T14:43:35.058Z"
   },
   {
    "duration": 12,
    "start_time": "2021-07-07T14:43:35.914Z"
   },
   {
    "duration": 17,
    "start_time": "2021-07-07T14:45:34.368Z"
   },
   {
    "duration": 512,
    "start_time": "2021-07-07T14:51:58.236Z"
   },
   {
    "duration": 223,
    "start_time": "2021-07-07T14:51:58.750Z"
   },
   {
    "duration": 93,
    "start_time": "2021-07-07T14:51:58.977Z"
   },
   {
    "duration": 4,
    "start_time": "2021-07-07T14:51:59.071Z"
   },
   {
    "duration": 37,
    "start_time": "2021-07-07T14:51:59.077Z"
   },
   {
    "duration": 18,
    "start_time": "2021-07-07T14:51:59.116Z"
   },
   {
    "duration": 10,
    "start_time": "2021-07-07T14:51:59.137Z"
   },
   {
    "duration": 8,
    "start_time": "2021-07-07T14:51:59.149Z"
   },
   {
    "duration": 54,
    "start_time": "2021-07-07T14:51:59.158Z"
   },
   {
    "duration": 18,
    "start_time": "2021-07-07T14:51:59.213Z"
   },
   {
    "duration": 22,
    "start_time": "2021-07-07T14:51:59.232Z"
   },
   {
    "duration": 36,
    "start_time": "2021-07-07T14:51:59.255Z"
   },
   {
    "duration": 7,
    "start_time": "2021-07-07T14:51:59.293Z"
   },
   {
    "duration": 10,
    "start_time": "2021-07-07T14:51:59.302Z"
   },
   {
    "duration": 9,
    "start_time": "2021-07-07T14:51:59.313Z"
   },
   {
    "duration": 11,
    "start_time": "2021-07-07T14:51:59.324Z"
   },
   {
    "duration": 8,
    "start_time": "2021-07-07T14:51:59.337Z"
   },
   {
    "duration": 46,
    "start_time": "2021-07-07T14:51:59.347Z"
   },
   {
    "duration": 22,
    "start_time": "2021-07-07T14:51:59.395Z"
   },
   {
    "duration": 24,
    "start_time": "2021-07-07T14:57:32.911Z"
   },
   {
    "duration": 7,
    "start_time": "2021-07-07T14:58:22.070Z"
   },
   {
    "duration": 4,
    "start_time": "2021-07-07T14:59:11.239Z"
   },
   {
    "duration": 25,
    "start_time": "2021-07-07T15:07:22.208Z"
   },
   {
    "duration": 16,
    "start_time": "2021-07-07T15:08:25.560Z"
   },
   {
    "duration": 15,
    "start_time": "2021-07-07T15:08:40.647Z"
   },
   {
    "duration": 14,
    "start_time": "2021-07-07T15:08:46.669Z"
   },
   {
    "duration": 533,
    "start_time": "2021-07-07T15:18:07.440Z"
   },
   {
    "duration": 173,
    "start_time": "2021-07-07T15:18:07.974Z"
   },
   {
    "duration": 84,
    "start_time": "2021-07-07T15:18:08.149Z"
   },
   {
    "duration": 3,
    "start_time": "2021-07-07T15:18:08.235Z"
   },
   {
    "duration": 30,
    "start_time": "2021-07-07T15:18:08.240Z"
   },
   {
    "duration": 22,
    "start_time": "2021-07-07T15:18:08.272Z"
   },
   {
    "duration": 11,
    "start_time": "2021-07-07T15:18:08.295Z"
   },
   {
    "duration": 11,
    "start_time": "2021-07-07T15:18:08.309Z"
   },
   {
    "duration": 40,
    "start_time": "2021-07-07T15:18:08.322Z"
   },
   {
    "duration": 42,
    "start_time": "2021-07-07T15:18:08.364Z"
   },
   {
    "duration": 22,
    "start_time": "2021-07-07T15:18:08.408Z"
   },
   {
    "duration": 5,
    "start_time": "2021-07-07T15:18:08.432Z"
   },
   {
    "duration": 13,
    "start_time": "2021-07-07T15:18:08.439Z"
   },
   {
    "duration": 9,
    "start_time": "2021-07-07T15:18:08.454Z"
   },
   {
    "duration": 32,
    "start_time": "2021-07-07T15:18:08.465Z"
   },
   {
    "duration": 10,
    "start_time": "2021-07-07T15:18:08.501Z"
   },
   {
    "duration": 7,
    "start_time": "2021-07-07T15:18:08.513Z"
   },
   {
    "duration": 11,
    "start_time": "2021-07-07T15:18:08.521Z"
   },
   {
    "duration": 17,
    "start_time": "2021-07-07T15:18:08.534Z"
   },
   {
    "duration": 44,
    "start_time": "2021-07-07T15:18:08.553Z"
   },
   {
    "duration": 22,
    "start_time": "2021-07-07T15:18:08.599Z"
   },
   {
    "duration": 61,
    "start_time": "2021-07-07T15:18:08.622Z"
   },
   {
    "duration": 7,
    "start_time": "2021-07-07T15:18:39.457Z"
   },
   {
    "duration": 5,
    "start_time": "2021-07-07T16:05:17.020Z"
   },
   {
    "duration": 5,
    "start_time": "2021-07-07T16:51:28.794Z"
   },
   {
    "duration": 546,
    "start_time": "2021-07-07T16:52:26.306Z"
   },
   {
    "duration": 203,
    "start_time": "2021-07-07T16:52:27.523Z"
   },
   {
    "duration": 85,
    "start_time": "2021-07-07T16:52:27.736Z"
   },
   {
    "duration": 4,
    "start_time": "2021-07-07T16:52:27.899Z"
   },
   {
    "duration": 25,
    "start_time": "2021-07-07T16:52:28.674Z"
   },
   {
    "duration": 8,
    "start_time": "2021-07-07T16:52:32.956Z"
   },
   {
    "duration": 18,
    "start_time": "2021-07-07T16:52:35.616Z"
   },
   {
    "duration": 6,
    "start_time": "2021-07-07T16:52:36.913Z"
   },
   {
    "duration": 11,
    "start_time": "2021-07-07T16:52:40.258Z"
   },
   {
    "duration": 10,
    "start_time": "2021-07-07T16:52:46.251Z"
   },
   {
    "duration": 8,
    "start_time": "2021-07-07T16:52:47.182Z"
   },
   {
    "duration": 27,
    "start_time": "2021-07-07T16:53:20.391Z"
   },
   {
    "duration": 20,
    "start_time": "2021-07-07T16:53:22.022Z"
   },
   {
    "duration": 23,
    "start_time": "2021-07-07T16:53:23.690Z"
   },
   {
    "duration": 8,
    "start_time": "2021-07-07T16:53:24.261Z"
   },
   {
    "duration": 4,
    "start_time": "2021-07-07T16:53:38.733Z"
   },
   {
    "duration": 7,
    "start_time": "2021-07-07T16:53:40.445Z"
   },
   {
    "duration": 11,
    "start_time": "2021-07-07T16:53:41.348Z"
   },
   {
    "duration": 13,
    "start_time": "2021-07-07T16:53:45.250Z"
   },
   {
    "duration": 12,
    "start_time": "2021-07-07T16:53:45.467Z"
   },
   {
    "duration": 4,
    "start_time": "2021-07-07T16:55:32.704Z"
   },
   {
    "duration": 12,
    "start_time": "2021-07-07T16:55:49.012Z"
   },
   {
    "duration": 18,
    "start_time": "2021-07-07T16:55:49.547Z"
   },
   {
    "duration": 611,
    "start_time": "2021-07-07T16:58:35.156Z"
   },
   {
    "duration": 200,
    "start_time": "2021-07-07T16:58:35.770Z"
   },
   {
    "duration": 86,
    "start_time": "2021-07-07T16:58:35.972Z"
   },
   {
    "duration": 3,
    "start_time": "2021-07-07T16:58:36.060Z"
   },
   {
    "duration": 27,
    "start_time": "2021-07-07T16:58:36.065Z"
   },
   {
    "duration": 8,
    "start_time": "2021-07-07T16:58:36.094Z"
   },
   {
    "duration": 17,
    "start_time": "2021-07-07T16:58:36.103Z"
   },
   {
    "duration": 5,
    "start_time": "2021-07-07T16:58:36.123Z"
   },
   {
    "duration": 11,
    "start_time": "2021-07-07T16:58:36.130Z"
   },
   {
    "duration": 7,
    "start_time": "2021-07-07T16:58:36.143Z"
   },
   {
    "duration": 37,
    "start_time": "2021-07-07T16:58:36.152Z"
   },
   {
    "duration": 27,
    "start_time": "2021-07-07T16:58:36.191Z"
   },
   {
    "duration": 19,
    "start_time": "2021-07-07T16:58:36.219Z"
   },
   {
    "duration": 49,
    "start_time": "2021-07-07T16:58:36.240Z"
   },
   {
    "duration": 6,
    "start_time": "2021-07-07T16:58:36.291Z"
   },
   {
    "duration": 3,
    "start_time": "2021-07-07T16:58:36.299Z"
   },
   {
    "duration": 13,
    "start_time": "2021-07-07T16:58:36.304Z"
   },
   {
    "duration": 10,
    "start_time": "2021-07-07T16:58:36.319Z"
   },
   {
    "duration": 10,
    "start_time": "2021-07-07T16:58:36.331Z"
   },
   {
    "duration": 44,
    "start_time": "2021-07-07T16:58:36.343Z"
   },
   {
    "duration": 4,
    "start_time": "2021-07-07T16:58:36.388Z"
   },
   {
    "duration": 13,
    "start_time": "2021-07-07T16:58:36.394Z"
   },
   {
    "duration": 16,
    "start_time": "2021-07-07T16:58:36.410Z"
   },
   {
    "duration": 8,
    "start_time": "2021-07-07T17:02:31.629Z"
   },
   {
    "duration": 8,
    "start_time": "2021-07-07T17:02:34.308Z"
   },
   {
    "duration": 6,
    "start_time": "2021-07-07T17:05:13.483Z"
   },
   {
    "duration": 17,
    "start_time": "2021-07-07T17:05:20.606Z"
   },
   {
    "duration": 7,
    "start_time": "2021-07-07T17:05:34.638Z"
   },
   {
    "duration": 3,
    "start_time": "2021-07-07T17:06:31.883Z"
   },
   {
    "duration": 570,
    "start_time": "2021-07-07T17:06:37.165Z"
   },
   {
    "duration": 174,
    "start_time": "2021-07-07T17:06:37.737Z"
   },
   {
    "duration": 47,
    "start_time": "2021-07-07T17:06:37.913Z"
   },
   {
    "duration": 3,
    "start_time": "2021-07-07T17:06:37.962Z"
   },
   {
    "duration": 27,
    "start_time": "2021-07-07T17:06:37.967Z"
   },
   {
    "duration": 7,
    "start_time": "2021-07-07T17:06:37.996Z"
   },
   {
    "duration": 16,
    "start_time": "2021-07-07T17:06:38.005Z"
   },
   {
    "duration": 6,
    "start_time": "2021-07-07T17:06:38.024Z"
   },
   {
    "duration": 12,
    "start_time": "2021-07-07T17:06:38.031Z"
   },
   {
    "duration": 41,
    "start_time": "2021-07-07T17:06:38.045Z"
   },
   {
    "duration": 8,
    "start_time": "2021-07-07T17:06:38.088Z"
   },
   {
    "duration": 26,
    "start_time": "2021-07-07T17:06:38.098Z"
   },
   {
    "duration": 17,
    "start_time": "2021-07-07T17:06:38.126Z"
   },
   {
    "duration": 43,
    "start_time": "2021-07-07T17:06:38.144Z"
   },
   {
    "duration": 6,
    "start_time": "2021-07-07T17:06:38.188Z"
   },
   {
    "duration": 5,
    "start_time": "2021-07-07T17:06:38.195Z"
   },
   {
    "duration": 9,
    "start_time": "2021-07-07T17:06:38.201Z"
   },
   {
    "duration": 12,
    "start_time": "2021-07-07T17:06:38.212Z"
   },
   {
    "duration": 11,
    "start_time": "2021-07-07T17:06:38.226Z"
   },
   {
    "duration": 47,
    "start_time": "2021-07-07T17:06:38.239Z"
   },
   {
    "duration": 4,
    "start_time": "2021-07-07T17:06:38.288Z"
   },
   {
    "duration": 13,
    "start_time": "2021-07-07T17:06:38.293Z"
   },
   {
    "duration": 5,
    "start_time": "2021-07-07T17:06:38.309Z"
   },
   {
    "duration": 18,
    "start_time": "2021-07-07T17:06:38.325Z"
   },
   {
    "duration": 20,
    "start_time": "2021-07-07T17:07:02.805Z"
   },
   {
    "duration": 19,
    "start_time": "2021-07-07T17:07:08.527Z"
   },
   {
    "duration": 19,
    "start_time": "2021-07-07T17:07:12.758Z"
   },
   {
    "duration": 22,
    "start_time": "2021-07-07T17:07:17.497Z"
   },
   {
    "duration": 19,
    "start_time": "2021-07-07T17:07:19.645Z"
   },
   {
    "duration": 10,
    "start_time": "2021-07-07T17:07:34.239Z"
   },
   {
    "duration": 17,
    "start_time": "2021-07-07T17:07:54.144Z"
   },
   {
    "duration": 14,
    "start_time": "2021-07-07T17:08:14.357Z"
   },
   {
    "duration": 616,
    "start_time": "2021-07-07T17:08:45.254Z"
   },
   {
    "duration": 178,
    "start_time": "2021-07-07T17:08:45.872Z"
   },
   {
    "duration": 60,
    "start_time": "2021-07-07T17:08:46.054Z"
   },
   {
    "duration": 3,
    "start_time": "2021-07-07T17:08:46.116Z"
   },
   {
    "duration": 26,
    "start_time": "2021-07-07T17:08:46.121Z"
   },
   {
    "duration": 7,
    "start_time": "2021-07-07T17:08:46.149Z"
   },
   {
    "duration": 17,
    "start_time": "2021-07-07T17:08:46.158Z"
   },
   {
    "duration": 14,
    "start_time": "2021-07-07T17:08:46.176Z"
   },
   {
    "duration": 17,
    "start_time": "2021-07-07T17:08:46.193Z"
   },
   {
    "duration": 9,
    "start_time": "2021-07-07T17:08:46.211Z"
   },
   {
    "duration": 21,
    "start_time": "2021-07-07T17:08:46.221Z"
   },
   {
    "duration": 49,
    "start_time": "2021-07-07T17:08:46.244Z"
   },
   {
    "duration": 24,
    "start_time": "2021-07-07T17:08:46.295Z"
   },
   {
    "duration": 22,
    "start_time": "2021-07-07T17:08:46.321Z"
   },
   {
    "duration": 6,
    "start_time": "2021-07-07T17:08:46.345Z"
   },
   {
    "duration": 5,
    "start_time": "2021-07-07T17:08:46.353Z"
   },
   {
    "duration": 13,
    "start_time": "2021-07-07T17:08:46.386Z"
   },
   {
    "duration": 12,
    "start_time": "2021-07-07T17:08:46.402Z"
   },
   {
    "duration": 10,
    "start_time": "2021-07-07T17:08:46.415Z"
   },
   {
    "duration": 7,
    "start_time": "2021-07-07T17:08:46.427Z"
   },
   {
    "duration": 8,
    "start_time": "2021-07-07T17:08:46.435Z"
   },
   {
    "duration": 68,
    "start_time": "2021-07-07T17:08:46.446Z"
   },
   {
    "duration": 13,
    "start_time": "2021-07-07T17:08:46.516Z"
   },
   {
    "duration": 78,
    "start_time": "2021-07-07T17:08:46.530Z"
   },
   {
    "duration": 40,
    "start_time": "2021-07-07T17:09:08.185Z"
   },
   {
    "duration": 16,
    "start_time": "2021-07-07T17:09:19.324Z"
   },
   {
    "duration": 21,
    "start_time": "2021-07-07T17:09:23.290Z"
   },
   {
    "duration": 13,
    "start_time": "2021-07-07T17:09:54.812Z"
   },
   {
    "duration": 13,
    "start_time": "2021-07-07T17:10:02.039Z"
   },
   {
    "duration": 10,
    "start_time": "2021-07-07T17:10:29.632Z"
   },
   {
    "duration": 13,
    "start_time": "2021-07-07T17:10:52.372Z"
   },
   {
    "duration": 13,
    "start_time": "2021-07-07T17:11:17.270Z"
   },
   {
    "duration": 13,
    "start_time": "2021-07-07T17:14:59.284Z"
   },
   {
    "duration": 547,
    "start_time": "2021-07-07T17:18:52.403Z"
   },
   {
    "duration": 163,
    "start_time": "2021-07-07T17:18:52.952Z"
   },
   {
    "duration": 44,
    "start_time": "2021-07-07T17:18:53.117Z"
   },
   {
    "duration": 3,
    "start_time": "2021-07-07T17:18:53.162Z"
   },
   {
    "duration": 26,
    "start_time": "2021-07-07T17:18:53.167Z"
   },
   {
    "duration": 6,
    "start_time": "2021-07-07T17:18:53.195Z"
   },
   {
    "duration": 15,
    "start_time": "2021-07-07T17:18:53.203Z"
   },
   {
    "duration": 5,
    "start_time": "2021-07-07T17:18:53.220Z"
   },
   {
    "duration": 11,
    "start_time": "2021-07-07T17:18:53.228Z"
   },
   {
    "duration": 9,
    "start_time": "2021-07-07T17:18:53.241Z"
   },
   {
    "duration": 41,
    "start_time": "2021-07-07T17:18:53.252Z"
   },
   {
    "duration": 33,
    "start_time": "2021-07-07T17:18:53.295Z"
   },
   {
    "duration": 19,
    "start_time": "2021-07-07T17:18:53.330Z"
   },
   {
    "duration": 49,
    "start_time": "2021-07-07T17:18:53.350Z"
   },
   {
    "duration": 5,
    "start_time": "2021-07-07T17:18:53.401Z"
   },
   {
    "duration": 5,
    "start_time": "2021-07-07T17:18:53.408Z"
   },
   {
    "duration": 11,
    "start_time": "2021-07-07T17:18:53.414Z"
   },
   {
    "duration": 9,
    "start_time": "2021-07-07T17:18:53.427Z"
   },
   {
    "duration": 10,
    "start_time": "2021-07-07T17:18:53.437Z"
   },
   {
    "duration": 39,
    "start_time": "2021-07-07T17:18:53.448Z"
   },
   {
    "duration": 26,
    "start_time": "2021-07-07T17:18:55.799Z"
   },
   {
    "duration": 598,
    "start_time": "2021-07-07T17:20:17.862Z"
   },
   {
    "duration": 161,
    "start_time": "2021-07-07T17:20:18.462Z"
   },
   {
    "duration": 45,
    "start_time": "2021-07-07T17:20:18.626Z"
   },
   {
    "duration": 4,
    "start_time": "2021-07-07T17:20:18.673Z"
   },
   {
    "duration": 38,
    "start_time": "2021-07-07T17:20:26.877Z"
   },
   {
    "duration": 7,
    "start_time": "2021-07-07T17:20:37.405Z"
   },
   {
    "duration": 19,
    "start_time": "2021-07-07T17:20:51.534Z"
   },
   {
    "duration": 5,
    "start_time": "2021-07-07T17:20:57.228Z"
   },
   {
    "duration": 7,
    "start_time": "2021-07-07T17:21:08.235Z"
   },
   {
    "duration": 19,
    "start_time": "2021-07-07T17:21:42.158Z"
   },
   {
    "duration": 14,
    "start_time": "2021-07-07T17:21:50.225Z"
   },
   {
    "duration": 22,
    "start_time": "2021-07-07T17:22:54.104Z"
   },
   {
    "duration": 5,
    "start_time": "2021-07-07T17:22:56.371Z"
   },
   {
    "duration": 14,
    "start_time": "2021-07-07T17:22:58.316Z"
   },
   {
    "duration": 5,
    "start_time": "2021-07-07T17:22:58.493Z"
   },
   {
    "duration": 35,
    "start_time": "2021-07-07T17:22:59.666Z"
   },
   {
    "duration": 6,
    "start_time": "2021-07-07T17:23:02.410Z"
   },
   {
    "duration": 611,
    "start_time": "2021-07-07T17:24:59.664Z"
   },
   {
    "duration": 178,
    "start_time": "2021-07-07T17:25:01.945Z"
   },
   {
    "duration": 47,
    "start_time": "2021-07-07T17:25:02.125Z"
   },
   {
    "duration": 2,
    "start_time": "2021-07-07T17:25:07.903Z"
   },
   {
    "duration": 254,
    "start_time": "2021-07-07T17:25:08.232Z"
   },
   {
    "duration": 182,
    "start_time": "2021-07-07T17:25:08.671Z"
   },
   {
    "duration": 6,
    "start_time": "2021-07-07T17:25:13.104Z"
   },
   {
    "duration": 36,
    "start_time": "2021-07-07T17:25:13.662Z"
   },
   {
    "duration": 7,
    "start_time": "2021-07-07T17:25:14.528Z"
   },
   {
    "duration": 24,
    "start_time": "2021-07-07T17:25:27.982Z"
   },
   {
    "duration": 3,
    "start_time": "2021-07-07T17:25:48.982Z"
   },
   {
    "duration": 165,
    "start_time": "2021-07-07T17:25:48.987Z"
   },
   {
    "duration": 50,
    "start_time": "2021-07-07T17:25:49.154Z"
   },
   {
    "duration": 4,
    "start_time": "2021-07-07T17:25:49.206Z"
   },
   {
    "duration": 26,
    "start_time": "2021-07-07T17:25:49.212Z"
   },
   {
    "duration": 7,
    "start_time": "2021-07-07T17:25:49.240Z"
   },
   {
    "duration": 16,
    "start_time": "2021-07-07T17:25:49.249Z"
   },
   {
    "duration": 22,
    "start_time": "2021-07-07T17:25:49.266Z"
   },
   {
    "duration": 16,
    "start_time": "2021-07-07T17:25:49.291Z"
   },
   {
    "duration": 9,
    "start_time": "2021-07-07T17:25:49.309Z"
   },
   {
    "duration": 7,
    "start_time": "2021-07-07T17:25:49.319Z"
   },
   {
    "duration": 28,
    "start_time": "2021-07-07T17:25:49.328Z"
   },
   {
    "duration": 44,
    "start_time": "2021-07-07T17:25:49.357Z"
   },
   {
    "duration": 22,
    "start_time": "2021-07-07T17:25:49.403Z"
   },
   {
    "duration": 7,
    "start_time": "2021-07-07T17:25:49.427Z"
   },
   {
    "duration": 3,
    "start_time": "2021-07-07T17:25:49.436Z"
   },
   {
    "duration": 44,
    "start_time": "2021-07-07T17:25:49.441Z"
   },
   {
    "duration": 12,
    "start_time": "2021-07-07T17:25:49.488Z"
   },
   {
    "duration": 13,
    "start_time": "2021-07-07T17:25:49.502Z"
   },
   {
    "duration": 10,
    "start_time": "2021-07-07T17:25:49.516Z"
   },
   {
    "duration": 62,
    "start_time": "2021-07-07T17:25:49.527Z"
   },
   {
    "duration": 26,
    "start_time": "2021-07-07T17:26:51.809Z"
   },
   {
    "duration": 26,
    "start_time": "2021-07-07T17:26:55.759Z"
   },
   {
    "duration": 26,
    "start_time": "2021-07-07T17:27:04.501Z"
   },
   {
    "duration": 25,
    "start_time": "2021-07-07T17:28:24.859Z"
   },
   {
    "duration": 21,
    "start_time": "2021-07-07T17:28:55.250Z"
   },
   {
    "duration": 21,
    "start_time": "2021-07-07T17:28:58.885Z"
   },
   {
    "duration": 7,
    "start_time": "2021-07-07T17:45:40.972Z"
   },
   {
    "duration": 13,
    "start_time": "2021-07-07T17:45:42.529Z"
   },
   {
    "duration": 27,
    "start_time": "2021-07-07T17:45:51.026Z"
   },
   {
    "duration": 518,
    "start_time": "2021-07-07T17:46:15.532Z"
   },
   {
    "duration": 235,
    "start_time": "2021-07-07T17:46:16.053Z"
   },
   {
    "duration": 80,
    "start_time": "2021-07-07T17:46:16.292Z"
   },
   {
    "duration": 5,
    "start_time": "2021-07-07T17:46:16.373Z"
   },
   {
    "duration": 26,
    "start_time": "2021-07-07T17:46:16.380Z"
   },
   {
    "duration": 7,
    "start_time": "2021-07-07T17:46:16.408Z"
   },
   {
    "duration": 16,
    "start_time": "2021-07-07T17:46:16.418Z"
   },
   {
    "duration": 5,
    "start_time": "2021-07-07T17:46:16.436Z"
   },
   {
    "duration": 13,
    "start_time": "2021-07-07T17:46:16.442Z"
   },
   {
    "duration": 35,
    "start_time": "2021-07-07T17:46:16.456Z"
   },
   {
    "duration": 8,
    "start_time": "2021-07-07T17:46:16.493Z"
   },
   {
    "duration": 28,
    "start_time": "2021-07-07T17:46:16.502Z"
   },
   {
    "duration": 17,
    "start_time": "2021-07-07T17:46:16.532Z"
   },
   {
    "duration": 44,
    "start_time": "2021-07-07T17:46:16.551Z"
   },
   {
    "duration": 6,
    "start_time": "2021-07-07T17:46:16.597Z"
   },
   {
    "duration": 4,
    "start_time": "2021-07-07T17:46:16.605Z"
   },
   {
    "duration": 9,
    "start_time": "2021-07-07T17:46:16.610Z"
   },
   {
    "duration": 9,
    "start_time": "2021-07-07T17:46:16.621Z"
   },
   {
    "duration": 10,
    "start_time": "2021-07-07T17:46:16.632Z"
   },
   {
    "duration": 43,
    "start_time": "2021-07-07T17:46:16.644Z"
   },
   {
    "duration": 26,
    "start_time": "2021-07-07T17:46:16.689Z"
   },
   {
    "duration": 19,
    "start_time": "2021-07-07T17:46:16.718Z"
   },
   {
    "duration": 8,
    "start_time": "2021-07-07T17:46:16.738Z"
   },
   {
    "duration": 43,
    "start_time": "2021-07-07T17:46:16.747Z"
   },
   {
    "duration": 19,
    "start_time": "2021-07-07T17:46:16.791Z"
   },
   {
    "duration": 9,
    "start_time": "2021-07-07T17:46:16.812Z"
   },
   {
    "duration": 60,
    "start_time": "2021-07-07T17:46:16.822Z"
   },
   {
    "duration": -8,
    "start_time": "2021-07-07T17:46:16.892Z"
   },
   {
    "duration": 12,
    "start_time": "2021-07-07T17:48:47.707Z"
   },
   {
    "duration": 553,
    "start_time": "2021-07-07T18:10:09.350Z"
   },
   {
    "duration": 230,
    "start_time": "2021-07-07T18:10:09.905Z"
   },
   {
    "duration": 97,
    "start_time": "2021-07-07T18:10:10.137Z"
   },
   {
    "duration": 5,
    "start_time": "2021-07-07T18:10:10.236Z"
   },
   {
    "duration": 29,
    "start_time": "2021-07-07T18:10:10.242Z"
   },
   {
    "duration": 7,
    "start_time": "2021-07-07T18:10:10.272Z"
   },
   {
    "duration": 15,
    "start_time": "2021-07-07T18:10:10.281Z"
   },
   {
    "duration": 4,
    "start_time": "2021-07-07T18:10:10.299Z"
   },
   {
    "duration": 14,
    "start_time": "2021-07-07T18:10:10.305Z"
   },
   {
    "duration": 8,
    "start_time": "2021-07-07T18:10:10.321Z"
   },
   {
    "duration": 8,
    "start_time": "2021-07-07T18:10:10.331Z"
   },
   {
    "duration": 56,
    "start_time": "2021-07-07T18:10:10.341Z"
   },
   {
    "duration": 19,
    "start_time": "2021-07-07T18:10:10.399Z"
   },
   {
    "duration": 23,
    "start_time": "2021-07-07T18:10:10.419Z"
   },
   {
    "duration": 6,
    "start_time": "2021-07-07T18:10:10.444Z"
   },
   {
    "duration": 9,
    "start_time": "2021-07-07T18:10:10.451Z"
   },
   {
    "duration": 30,
    "start_time": "2021-07-07T18:10:10.462Z"
   },
   {
    "duration": 9,
    "start_time": "2021-07-07T18:10:10.494Z"
   },
   {
    "duration": 14,
    "start_time": "2021-07-07T18:10:10.505Z"
   },
   {
    "duration": 7,
    "start_time": "2021-07-07T18:10:10.521Z"
   },
   {
    "duration": 26,
    "start_time": "2021-07-07T18:10:10.530Z"
   },
   {
    "duration": 44,
    "start_time": "2021-07-07T18:10:10.558Z"
   },
   {
    "duration": 7,
    "start_time": "2021-07-07T18:10:10.605Z"
   },
   {
    "duration": 11,
    "start_time": "2021-07-07T18:10:10.614Z"
   },
   {
    "duration": 19,
    "start_time": "2021-07-07T18:10:10.626Z"
   },
   {
    "duration": 44,
    "start_time": "2021-07-07T18:10:10.646Z"
   },
   {
    "duration": 516,
    "start_time": "2021-07-07T18:14:00.826Z"
   },
   {
    "duration": 230,
    "start_time": "2021-07-07T18:14:01.344Z"
   },
   {
    "duration": 105,
    "start_time": "2021-07-07T18:14:01.576Z"
   },
   {
    "duration": 5,
    "start_time": "2021-07-07T18:14:01.683Z"
   },
   {
    "duration": 46,
    "start_time": "2021-07-07T18:14:01.690Z"
   },
   {
    "duration": 7,
    "start_time": "2021-07-07T18:14:01.738Z"
   },
   {
    "duration": 20,
    "start_time": "2021-07-07T18:14:01.747Z"
   },
   {
    "duration": 16,
    "start_time": "2021-07-07T18:14:01.769Z"
   },
   {
    "duration": 14,
    "start_time": "2021-07-07T18:14:01.787Z"
   },
   {
    "duration": 15,
    "start_time": "2021-07-07T18:14:01.803Z"
   },
   {
    "duration": 12,
    "start_time": "2021-07-07T18:14:01.820Z"
   },
   {
    "duration": 35,
    "start_time": "2021-07-07T18:14:01.833Z"
   },
   {
    "duration": 31,
    "start_time": "2021-07-07T18:14:01.869Z"
   },
   {
    "duration": 37,
    "start_time": "2021-07-07T18:14:01.902Z"
   },
   {
    "duration": 8,
    "start_time": "2021-07-07T18:14:01.942Z"
   },
   {
    "duration": 16,
    "start_time": "2021-07-07T18:14:01.952Z"
   },
   {
    "duration": 13,
    "start_time": "2021-07-07T18:14:01.970Z"
   },
   {
    "duration": 32,
    "start_time": "2021-07-07T18:14:01.985Z"
   },
   {
    "duration": 11,
    "start_time": "2021-07-07T18:14:02.019Z"
   },
   {
    "duration": 22,
    "start_time": "2021-07-07T18:14:02.031Z"
   },
   {
    "duration": 27,
    "start_time": "2021-07-07T18:14:02.055Z"
   },
   {
    "duration": 18,
    "start_time": "2021-07-07T18:14:02.084Z"
   },
   {
    "duration": 18,
    "start_time": "2021-07-07T18:14:02.106Z"
   },
   {
    "duration": 11,
    "start_time": "2021-07-07T18:14:02.126Z"
   },
   {
    "duration": 21,
    "start_time": "2021-07-07T18:14:02.138Z"
   },
   {
    "duration": 32,
    "start_time": "2021-07-07T18:14:02.161Z"
   },
   {
    "duration": 28,
    "start_time": "2021-07-07T18:14:44.295Z"
   },
   {
    "duration": 6,
    "start_time": "2021-07-07T18:15:05.834Z"
   },
   {
    "duration": 511,
    "start_time": "2021-07-07T18:15:41.541Z"
   },
   {
    "duration": 183,
    "start_time": "2021-07-07T18:15:42.054Z"
   },
   {
    "duration": 50,
    "start_time": "2021-07-07T18:15:42.239Z"
   },
   {
    "duration": 5,
    "start_time": "2021-07-07T18:15:42.291Z"
   },
   {
    "duration": 48,
    "start_time": "2021-07-07T18:15:42.297Z"
   },
   {
    "duration": 8,
    "start_time": "2021-07-07T18:15:42.346Z"
   },
   {
    "duration": 17,
    "start_time": "2021-07-07T18:15:42.356Z"
   },
   {
    "duration": 15,
    "start_time": "2021-07-07T18:15:42.375Z"
   },
   {
    "duration": 12,
    "start_time": "2021-07-07T18:15:42.392Z"
   },
   {
    "duration": 7,
    "start_time": "2021-07-07T18:15:42.406Z"
   },
   {
    "duration": 7,
    "start_time": "2021-07-07T18:15:42.415Z"
   },
   {
    "duration": 29,
    "start_time": "2021-07-07T18:15:42.423Z"
   },
   {
    "duration": 43,
    "start_time": "2021-07-07T18:15:42.453Z"
   },
   {
    "duration": 18,
    "start_time": "2021-07-07T18:15:42.497Z"
   },
   {
    "duration": 6,
    "start_time": "2021-07-07T18:15:42.516Z"
   },
   {
    "duration": 3,
    "start_time": "2021-07-07T18:15:42.523Z"
   },
   {
    "duration": 18,
    "start_time": "2021-07-07T18:15:42.528Z"
   },
   {
    "duration": 10,
    "start_time": "2021-07-07T18:15:42.547Z"
   },
   {
    "duration": 36,
    "start_time": "2021-07-07T18:15:42.559Z"
   },
   {
    "duration": 8,
    "start_time": "2021-07-07T18:15:42.597Z"
   },
   {
    "duration": 28,
    "start_time": "2021-07-07T18:15:42.606Z"
   },
   {
    "duration": 52,
    "start_time": "2021-07-07T18:15:42.635Z"
   },
   {
    "duration": 7,
    "start_time": "2021-07-07T18:15:42.690Z"
   },
   {
    "duration": 10,
    "start_time": "2021-07-07T18:15:42.699Z"
   },
   {
    "duration": 19,
    "start_time": "2021-07-07T18:15:42.711Z"
   },
   {
    "duration": 9,
    "start_time": "2021-07-07T18:15:42.732Z"
   },
   {
    "duration": 5,
    "start_time": "2021-07-07T18:15:42.743Z"
   },
   {
    "duration": 1450,
    "start_time": "2021-07-07T18:15:51.984Z"
   },
   {
    "duration": 161,
    "start_time": "2021-07-07T18:15:53.435Z"
   },
   {
    "duration": 124,
    "start_time": "2021-07-07T18:15:53.598Z"
   },
   {
    "duration": 5,
    "start_time": "2021-07-07T18:15:53.724Z"
   },
   {
    "duration": 34,
    "start_time": "2021-07-07T18:15:53.730Z"
   },
   {
    "duration": 7,
    "start_time": "2021-07-07T18:15:53.765Z"
   },
   {
    "duration": 15,
    "start_time": "2021-07-07T18:15:53.773Z"
   },
   {
    "duration": 5,
    "start_time": "2021-07-07T18:15:53.791Z"
   },
   {
    "duration": 19,
    "start_time": "2021-07-07T18:15:53.798Z"
   },
   {
    "duration": 9,
    "start_time": "2021-07-07T18:15:53.818Z"
   },
   {
    "duration": 19,
    "start_time": "2021-07-07T18:15:53.828Z"
   },
   {
    "duration": 27,
    "start_time": "2021-07-07T18:15:53.848Z"
   },
   {
    "duration": 16,
    "start_time": "2021-07-07T18:15:53.884Z"
   },
   {
    "duration": 29,
    "start_time": "2021-07-07T18:15:53.901Z"
   },
   {
    "duration": 5,
    "start_time": "2021-07-07T18:15:53.932Z"
   },
   {
    "duration": 15,
    "start_time": "2021-07-07T18:15:53.939Z"
   },
   {
    "duration": 13,
    "start_time": "2021-07-07T18:15:53.956Z"
   },
   {
    "duration": 20,
    "start_time": "2021-07-07T18:15:53.971Z"
   },
   {
    "duration": 14,
    "start_time": "2021-07-07T18:15:53.992Z"
   },
   {
    "duration": 9,
    "start_time": "2021-07-07T18:15:54.009Z"
   },
   {
    "duration": 28,
    "start_time": "2021-07-07T18:15:54.020Z"
   },
   {
    "duration": 50,
    "start_time": "2021-07-07T18:15:54.051Z"
   },
   {
    "duration": 8,
    "start_time": "2021-07-07T18:15:54.105Z"
   },
   {
    "duration": 11,
    "start_time": "2021-07-07T18:15:54.115Z"
   },
   {
    "duration": 20,
    "start_time": "2021-07-07T18:15:54.128Z"
   },
   {
    "duration": 13,
    "start_time": "2021-07-07T18:15:54.184Z"
   },
   {
    "duration": 7,
    "start_time": "2021-07-07T18:15:54.199Z"
   },
   {
    "duration": 7,
    "start_time": "2021-07-07T18:17:08.042Z"
   },
   {
    "duration": 8,
    "start_time": "2021-07-07T18:17:21.008Z"
   },
   {
    "duration": 7,
    "start_time": "2021-07-07T18:17:29.003Z"
   },
   {
    "duration": 8,
    "start_time": "2021-07-07T18:17:32.492Z"
   },
   {
    "duration": 9,
    "start_time": "2021-07-07T18:17:41.758Z"
   },
   {
    "duration": 255,
    "start_time": "2021-07-07T18:20:20.897Z"
   },
   {
    "duration": 173,
    "start_time": "2021-07-07T18:20:26.636Z"
   },
   {
    "duration": 7,
    "start_time": "2021-07-07T18:21:47.164Z"
   },
   {
    "duration": 254,
    "start_time": "2021-07-07T18:23:08.703Z"
   },
   {
    "duration": 21,
    "start_time": "2021-07-07T18:23:22.506Z"
   },
   {
    "duration": 315,
    "start_time": "2021-07-07T18:25:54.801Z"
   },
   {
    "duration": 34,
    "start_time": "2021-07-07T18:26:51.817Z"
   },
   {
    "duration": 327,
    "start_time": "2021-07-07T18:26:56.147Z"
   },
   {
    "duration": 342,
    "start_time": "2021-07-07T18:27:15.887Z"
   },
   {
    "duration": 302,
    "start_time": "2021-07-07T18:28:18.569Z"
   },
   {
    "duration": 226,
    "start_time": "2021-07-07T18:29:20.879Z"
   },
   {
    "duration": 207,
    "start_time": "2021-07-07T18:29:58.114Z"
   },
   {
    "duration": 140,
    "start_time": "2021-07-07T18:32:04.372Z"
   },
   {
    "duration": 158,
    "start_time": "2021-07-07T18:32:32.508Z"
   },
   {
    "duration": 145,
    "start_time": "2021-07-07T18:32:41.365Z"
   },
   {
    "duration": 132,
    "start_time": "2021-07-07T18:32:45.199Z"
   },
   {
    "duration": 11,
    "start_time": "2021-07-07T18:35:24.679Z"
   },
   {
    "duration": 268,
    "start_time": "2021-07-07T18:36:16.145Z"
   },
   {
    "duration": 227,
    "start_time": "2021-07-07T18:37:04.918Z"
   },
   {
    "duration": 3,
    "start_time": "2021-07-07T18:37:33.012Z"
   },
   {
    "duration": 671,
    "start_time": "2021-07-07T18:37:38.295Z"
   },
   {
    "duration": 54,
    "start_time": "2021-07-07T18:37:53.406Z"
   },
   {
    "duration": 631,
    "start_time": "2021-07-07T18:37:56.463Z"
   },
   {
    "duration": 19,
    "start_time": "2021-07-07T18:39:40.535Z"
   },
   {
    "duration": 20,
    "start_time": "2021-07-07T18:40:12.236Z"
   },
   {
    "duration": 633,
    "start_time": "2021-07-07T18:42:00.398Z"
   },
   {
    "duration": 218,
    "start_time": "2021-07-07T18:42:01.033Z"
   },
   {
    "duration": 49,
    "start_time": "2021-07-07T18:42:01.253Z"
   },
   {
    "duration": 5,
    "start_time": "2021-07-07T18:42:01.303Z"
   },
   {
    "duration": 27,
    "start_time": "2021-07-07T18:42:01.310Z"
   },
   {
    "duration": 8,
    "start_time": "2021-07-07T18:42:01.339Z"
   },
   {
    "duration": 20,
    "start_time": "2021-07-07T18:42:01.348Z"
   },
   {
    "duration": 6,
    "start_time": "2021-07-07T18:42:01.386Z"
   },
   {
    "duration": 16,
    "start_time": "2021-07-07T18:42:01.394Z"
   },
   {
    "duration": 9,
    "start_time": "2021-07-07T18:42:01.411Z"
   },
   {
    "duration": 11,
    "start_time": "2021-07-07T18:42:01.421Z"
   },
   {
    "duration": 31,
    "start_time": "2021-07-07T18:42:01.434Z"
   },
   {
    "duration": 18,
    "start_time": "2021-07-07T18:42:01.485Z"
   },
   {
    "duration": 23,
    "start_time": "2021-07-07T18:42:01.505Z"
   },
   {
    "duration": 6,
    "start_time": "2021-07-07T18:42:01.530Z"
   },
   {
    "duration": 10,
    "start_time": "2021-07-07T18:42:01.538Z"
   },
   {
    "duration": 13,
    "start_time": "2021-07-07T18:42:01.550Z"
   },
   {
    "duration": 24,
    "start_time": "2021-07-07T18:42:01.564Z"
   },
   {
    "duration": 20,
    "start_time": "2021-07-07T18:42:01.590Z"
   },
   {
    "duration": 8,
    "start_time": "2021-07-07T18:42:01.611Z"
   },
   {
    "duration": 31,
    "start_time": "2021-07-07T18:42:01.620Z"
   },
   {
    "duration": 39,
    "start_time": "2021-07-07T18:42:01.653Z"
   },
   {
    "duration": 8,
    "start_time": "2021-07-07T18:42:01.696Z"
   },
   {
    "duration": 13,
    "start_time": "2021-07-07T18:42:01.705Z"
   },
   {
    "duration": 20,
    "start_time": "2021-07-07T18:42:01.720Z"
   },
   {
    "duration": 12,
    "start_time": "2021-07-07T18:42:01.741Z"
   },
   {
    "duration": 35,
    "start_time": "2021-07-07T18:42:01.755Z"
   },
   {
    "duration": 14,
    "start_time": "2021-07-07T18:42:01.792Z"
   },
   {
    "duration": 188,
    "start_time": "2021-07-07T18:42:01.808Z"
   },
   {
    "duration": 19,
    "start_time": "2021-07-07T18:42:01.998Z"
   },
   {
    "duration": 175,
    "start_time": "2021-07-07T18:42:02.019Z"
   },
   {
    "duration": 134,
    "start_time": "2021-07-07T18:42:02.196Z"
   },
   {
    "duration": 10,
    "start_time": "2021-07-07T18:42:02.331Z"
   },
   {
    "duration": 19,
    "start_time": "2021-07-07T18:42:02.343Z"
   },
   {
    "duration": 628,
    "start_time": "2021-07-07T18:46:30.701Z"
   },
   {
    "duration": 183,
    "start_time": "2021-07-07T18:46:31.331Z"
   },
   {
    "duration": 48,
    "start_time": "2021-07-07T18:46:31.516Z"
   },
   {
    "duration": 5,
    "start_time": "2021-07-07T18:46:31.566Z"
   },
   {
    "duration": 28,
    "start_time": "2021-07-07T18:46:31.572Z"
   },
   {
    "duration": 8,
    "start_time": "2021-07-07T18:46:31.602Z"
   },
   {
    "duration": 19,
    "start_time": "2021-07-07T18:46:31.611Z"
   },
   {
    "duration": 6,
    "start_time": "2021-07-07T18:46:31.633Z"
   },
   {
    "duration": 17,
    "start_time": "2021-07-07T18:46:31.642Z"
   },
   {
    "duration": 10,
    "start_time": "2021-07-07T18:46:31.684Z"
   },
   {
    "duration": 9,
    "start_time": "2021-07-07T18:46:31.695Z"
   },
   {
    "duration": 28,
    "start_time": "2021-07-07T18:46:31.705Z"
   },
   {
    "duration": 18,
    "start_time": "2021-07-07T18:46:31.735Z"
   },
   {
    "duration": 48,
    "start_time": "2021-07-07T18:46:31.755Z"
   },
   {
    "duration": 6,
    "start_time": "2021-07-07T18:46:31.804Z"
   },
   {
    "duration": 4,
    "start_time": "2021-07-07T18:46:31.812Z"
   },
   {
    "duration": 9,
    "start_time": "2021-07-07T18:46:31.817Z"
   },
   {
    "duration": 10,
    "start_time": "2021-07-07T18:46:31.827Z"
   },
   {
    "duration": 12,
    "start_time": "2021-07-07T18:46:31.838Z"
   },
   {
    "duration": 39,
    "start_time": "2021-07-07T18:46:31.851Z"
   },
   {
    "duration": 24,
    "start_time": "2021-07-07T18:46:31.892Z"
   },
   {
    "duration": 15,
    "start_time": "2021-07-07T18:46:31.918Z"
   },
   {
    "duration": 7,
    "start_time": "2021-07-07T18:46:31.936Z"
   },
   {
    "duration": 8,
    "start_time": "2021-07-07T18:46:31.944Z"
   },
   {
    "duration": 19,
    "start_time": "2021-07-07T18:46:31.984Z"
   },
   {
    "duration": 10,
    "start_time": "2021-07-07T18:46:32.004Z"
   },
   {
    "duration": 5,
    "start_time": "2021-07-07T18:46:32.016Z"
   },
   {
    "duration": 9,
    "start_time": "2021-07-07T18:46:32.023Z"
   },
   {
    "duration": 199,
    "start_time": "2021-07-07T18:46:32.033Z"
   },
   {
    "duration": 19,
    "start_time": "2021-07-07T18:46:32.234Z"
   },
   {
    "duration": 159,
    "start_time": "2021-07-07T18:46:32.255Z"
   },
   {
    "duration": 134,
    "start_time": "2021-07-07T18:46:32.416Z"
   },
   {
    "duration": 10,
    "start_time": "2021-07-07T18:46:32.552Z"
   },
   {
    "duration": 34,
    "start_time": "2021-07-07T18:46:32.563Z"
   },
   {
    "duration": 1039,
    "start_time": "2021-07-08T08:41:09.419Z"
   },
   {
    "duration": 333,
    "start_time": "2021-07-08T08:41:10.459Z"
   },
   {
    "duration": 173,
    "start_time": "2021-07-08T08:41:10.794Z"
   },
   {
    "duration": 5,
    "start_time": "2021-07-08T08:41:10.968Z"
   },
   {
    "duration": 25,
    "start_time": "2021-07-08T08:41:10.975Z"
   },
   {
    "duration": 9,
    "start_time": "2021-07-08T08:41:11.002Z"
   },
   {
    "duration": 18,
    "start_time": "2021-07-08T08:41:11.013Z"
   },
   {
    "duration": 6,
    "start_time": "2021-07-08T08:41:11.033Z"
   },
   {
    "duration": 44,
    "start_time": "2021-07-08T08:41:11.042Z"
   },
   {
    "duration": 10,
    "start_time": "2021-07-08T08:41:11.088Z"
   },
   {
    "duration": 9,
    "start_time": "2021-07-08T08:41:11.100Z"
   },
   {
    "duration": 27,
    "start_time": "2021-07-08T08:41:11.111Z"
   },
   {
    "duration": 46,
    "start_time": "2021-07-08T08:41:11.140Z"
   },
   {
    "duration": 17,
    "start_time": "2021-07-08T08:41:11.187Z"
   },
   {
    "duration": 6,
    "start_time": "2021-07-08T08:41:11.206Z"
   },
   {
    "duration": 5,
    "start_time": "2021-07-08T08:41:11.213Z"
   },
   {
    "duration": 10,
    "start_time": "2021-07-08T08:41:11.219Z"
   },
   {
    "duration": 9,
    "start_time": "2021-07-08T08:41:11.230Z"
   },
   {
    "duration": 45,
    "start_time": "2021-07-08T08:41:11.241Z"
   },
   {
    "duration": 7,
    "start_time": "2021-07-08T08:41:11.287Z"
   },
   {
    "duration": 24,
    "start_time": "2021-07-08T08:41:11.296Z"
   },
   {
    "duration": 16,
    "start_time": "2021-07-08T08:41:11.322Z"
   },
   {
    "duration": 7,
    "start_time": "2021-07-08T08:41:11.341Z"
   },
   {
    "duration": 41,
    "start_time": "2021-07-08T08:41:11.349Z"
   },
   {
    "duration": 17,
    "start_time": "2021-07-08T08:41:11.391Z"
   },
   {
    "duration": 9,
    "start_time": "2021-07-08T08:41:11.410Z"
   },
   {
    "duration": 5,
    "start_time": "2021-07-08T08:41:11.421Z"
   },
   {
    "duration": 6,
    "start_time": "2021-07-08T08:41:11.428Z"
   },
   {
    "duration": 198,
    "start_time": "2021-07-08T08:41:11.435Z"
   },
   {
    "duration": 18,
    "start_time": "2021-07-08T08:41:11.635Z"
   },
   {
    "duration": 155,
    "start_time": "2021-07-08T08:41:11.655Z"
   },
   {
    "duration": 138,
    "start_time": "2021-07-08T08:41:11.811Z"
   },
   {
    "duration": 10,
    "start_time": "2021-07-08T08:41:11.950Z"
   },
   {
    "duration": 29,
    "start_time": "2021-07-08T08:41:11.961Z"
   },
   {
    "duration": 171,
    "start_time": "2021-07-08T08:47:44.522Z"
   },
   {
    "duration": 124,
    "start_time": "2021-07-08T08:47:46.872Z"
   },
   {
    "duration": 191,
    "start_time": "2021-07-08T08:47:58.148Z"
   },
   {
    "duration": 191,
    "start_time": "2021-07-08T08:48:07.412Z"
   },
   {
    "duration": 261,
    "start_time": "2021-07-08T08:48:10.385Z"
   },
   {
    "duration": 255,
    "start_time": "2021-07-08T08:48:14.494Z"
   },
   {
    "duration": 219,
    "start_time": "2021-07-08T08:48:22.752Z"
   },
   {
    "duration": 173,
    "start_time": "2021-07-08T08:49:06.395Z"
   },
   {
    "duration": 180,
    "start_time": "2021-07-08T08:49:21.011Z"
   },
   {
    "duration": 6,
    "start_time": "2021-07-08T08:50:31.697Z"
   },
   {
    "duration": 10,
    "start_time": "2021-07-08T08:50:47.394Z"
   },
   {
    "duration": 11,
    "start_time": "2021-07-08T08:53:49.332Z"
   },
   {
    "duration": 171,
    "start_time": "2021-07-08T08:54:28.408Z"
   },
   {
    "duration": 636,
    "start_time": "2021-07-08T09:02:48.385Z"
   },
   {
    "duration": 227,
    "start_time": "2021-07-08T09:02:49.023Z"
   },
   {
    "duration": 104,
    "start_time": "2021-07-08T09:02:49.252Z"
   },
   {
    "duration": 5,
    "start_time": "2021-07-08T09:02:49.358Z"
   },
   {
    "duration": 27,
    "start_time": "2021-07-08T09:02:49.365Z"
   },
   {
    "duration": 8,
    "start_time": "2021-07-08T09:02:49.394Z"
   },
   {
    "duration": 18,
    "start_time": "2021-07-08T09:02:49.404Z"
   },
   {
    "duration": 6,
    "start_time": "2021-07-08T09:02:49.424Z"
   },
   {
    "duration": 11,
    "start_time": "2021-07-08T09:02:49.433Z"
   },
   {
    "duration": 13,
    "start_time": "2021-07-08T09:02:49.485Z"
   },
   {
    "duration": 9,
    "start_time": "2021-07-08T09:02:49.500Z"
   },
   {
    "duration": 38,
    "start_time": "2021-07-08T09:02:49.511Z"
   },
   {
    "duration": 42,
    "start_time": "2021-07-08T09:02:49.551Z"
   },
   {
    "duration": 21,
    "start_time": "2021-07-08T09:02:49.594Z"
   },
   {
    "duration": 6,
    "start_time": "2021-07-08T09:02:49.616Z"
   },
   {
    "duration": 3,
    "start_time": "2021-07-08T09:02:49.623Z"
   },
   {
    "duration": 9,
    "start_time": "2021-07-08T09:02:49.628Z"
   },
   {
    "duration": 52,
    "start_time": "2021-07-08T09:02:49.638Z"
   },
   {
    "duration": 11,
    "start_time": "2021-07-08T09:02:49.692Z"
   },
   {
    "duration": 8,
    "start_time": "2021-07-08T09:02:49.704Z"
   },
   {
    "duration": 27,
    "start_time": "2021-07-08T09:02:49.713Z"
   },
   {
    "duration": 59,
    "start_time": "2021-07-08T09:02:49.741Z"
   },
   {
    "duration": 8,
    "start_time": "2021-07-08T09:02:49.803Z"
   },
   {
    "duration": 14,
    "start_time": "2021-07-08T09:02:49.813Z"
   },
   {
    "duration": 20,
    "start_time": "2021-07-08T09:02:49.829Z"
   },
   {
    "duration": 44,
    "start_time": "2021-07-08T09:02:49.851Z"
   },
   {
    "duration": 14,
    "start_time": "2021-07-08T09:02:49.896Z"
   },
   {
    "duration": 221,
    "start_time": "2021-07-08T09:02:49.912Z"
   },
   {
    "duration": 6,
    "start_time": "2021-07-08T09:02:50.134Z"
   },
   {
    "duration": 206,
    "start_time": "2021-07-08T09:02:50.142Z"
   },
   {
    "duration": 19,
    "start_time": "2021-07-08T09:02:50.350Z"
   },
   {
    "duration": 21,
    "start_time": "2021-07-08T09:02:50.370Z"
   },
   {
    "duration": 20,
    "start_time": "2021-07-08T09:02:50.393Z"
   },
   {
    "duration": 5,
    "start_time": "2021-07-08T09:02:50.414Z"
   },
   {
    "duration": 5,
    "start_time": "2021-07-08T09:03:34.173Z"
   },
   {
    "duration": 6,
    "start_time": "2021-07-08T09:04:49.062Z"
   },
   {
    "duration": 9,
    "start_time": "2021-07-08T09:04:50.118Z"
   },
   {
    "duration": 14,
    "start_time": "2021-07-08T09:04:58.512Z"
   },
   {
    "duration": 9,
    "start_time": "2021-07-08T09:05:10.988Z"
   },
   {
    "duration": 11,
    "start_time": "2021-07-08T09:05:11.743Z"
   },
   {
    "duration": 7,
    "start_time": "2021-07-08T09:05:25.677Z"
   },
   {
    "duration": 13,
    "start_time": "2021-07-08T09:05:47.189Z"
   },
   {
    "duration": 13,
    "start_time": "2021-07-08T09:05:54.755Z"
   },
   {
    "duration": 4,
    "start_time": "2021-07-08T09:06:29.189Z"
   },
   {
    "duration": 244,
    "start_time": "2021-07-08T09:06:29.195Z"
   },
   {
    "duration": 91,
    "start_time": "2021-07-08T09:06:29.441Z"
   },
   {
    "duration": 4,
    "start_time": "2021-07-08T09:06:29.534Z"
   },
   {
    "duration": 28,
    "start_time": "2021-07-08T09:06:29.540Z"
   },
   {
    "duration": 6,
    "start_time": "2021-07-08T09:06:29.570Z"
   },
   {
    "duration": 18,
    "start_time": "2021-07-08T09:06:29.578Z"
   },
   {
    "duration": 5,
    "start_time": "2021-07-08T09:06:29.597Z"
   },
   {
    "duration": 13,
    "start_time": "2021-07-08T09:06:29.605Z"
   },
   {
    "duration": 8,
    "start_time": "2021-07-08T09:06:29.620Z"
   },
   {
    "duration": 7,
    "start_time": "2021-07-08T09:06:29.630Z"
   },
   {
    "duration": 63,
    "start_time": "2021-07-08T09:06:29.639Z"
   },
   {
    "duration": 17,
    "start_time": "2021-07-08T09:06:29.704Z"
   },
   {
    "duration": 20,
    "start_time": "2021-07-08T09:06:29.723Z"
   },
   {
    "duration": 6,
    "start_time": "2021-07-08T09:06:29.745Z"
   },
   {
    "duration": 3,
    "start_time": "2021-07-08T09:06:29.752Z"
   },
   {
    "duration": 7,
    "start_time": "2021-07-08T09:06:29.785Z"
   },
   {
    "duration": 11,
    "start_time": "2021-07-08T09:06:29.794Z"
   },
   {
    "duration": 15,
    "start_time": "2021-07-08T09:06:29.807Z"
   },
   {
    "duration": 8,
    "start_time": "2021-07-08T09:06:29.823Z"
   },
   {
    "duration": 70,
    "start_time": "2021-07-08T09:06:29.832Z"
   },
   {
    "duration": 17,
    "start_time": "2021-07-08T09:06:29.903Z"
   },
   {
    "duration": 9,
    "start_time": "2021-07-08T09:06:29.921Z"
   },
   {
    "duration": 9,
    "start_time": "2021-07-08T09:06:29.932Z"
   },
   {
    "duration": 57,
    "start_time": "2021-07-08T09:06:29.942Z"
   },
   {
    "duration": 11,
    "start_time": "2021-07-08T09:06:30.001Z"
   },
   {
    "duration": 19,
    "start_time": "2021-07-08T09:06:30.016Z"
   },
   {
    "duration": 217,
    "start_time": "2021-07-08T09:06:30.037Z"
   },
   {
    "duration": 6,
    "start_time": "2021-07-08T09:06:30.255Z"
   },
   {
    "duration": 205,
    "start_time": "2021-07-08T09:06:30.263Z"
   },
   {
    "duration": 27,
    "start_time": "2021-07-08T09:06:30.470Z"
   },
   {
    "duration": 11,
    "start_time": "2021-07-08T09:06:30.500Z"
   },
   {
    "duration": 31,
    "start_time": "2021-07-08T09:06:30.513Z"
   },
   {
    "duration": 18,
    "start_time": "2021-07-08T09:06:30.546Z"
   },
   {
    "duration": 11,
    "start_time": "2021-07-08T09:06:30.566Z"
   },
   {
    "duration": 19,
    "start_time": "2021-07-08T09:06:30.579Z"
   },
   {
    "duration": 20,
    "start_time": "2021-07-08T09:06:49.466Z"
   },
   {
    "duration": 9,
    "start_time": "2021-07-08T09:06:51.994Z"
   },
   {
    "duration": 20,
    "start_time": "2021-07-08T09:06:52.273Z"
   },
   {
    "duration": 246,
    "start_time": "2021-07-08T09:10:21.272Z"
   },
   {
    "duration": 84,
    "start_time": "2021-07-08T09:10:21.436Z"
   },
   {
    "duration": 7,
    "start_time": "2021-07-08T09:10:37.608Z"
   },
   {
    "duration": 189,
    "start_time": "2021-07-08T09:10:38.573Z"
   },
   {
    "duration": 185,
    "start_time": "2021-07-08T09:10:53.181Z"
   },
   {
    "duration": 11,
    "start_time": "2021-07-08T09:10:59.549Z"
   },
   {
    "duration": 42,
    "start_time": "2021-07-08T09:10:59.709Z"
   },
   {
    "duration": 12,
    "start_time": "2021-07-08T09:11:02.857Z"
   },
   {
    "duration": 28,
    "start_time": "2021-07-08T09:11:10.062Z"
   },
   {
    "duration": 249,
    "start_time": "2021-07-08T09:11:37.388Z"
   },
   {
    "duration": 232,
    "start_time": "2021-07-08T09:11:49.485Z"
   },
   {
    "duration": 453,
    "start_time": "2021-07-08T09:12:01.546Z"
   },
   {
    "duration": 440,
    "start_time": "2021-07-08T09:12:12.347Z"
   },
   {
    "duration": 213,
    "start_time": "2021-07-08T09:13:32.196Z"
   },
   {
    "duration": 172,
    "start_time": "2021-07-08T09:14:07.400Z"
   },
   {
    "duration": 185,
    "start_time": "2021-07-08T09:14:14.905Z"
   },
   {
    "duration": 209,
    "start_time": "2021-07-08T09:14:40.109Z"
   },
   {
    "duration": 201,
    "start_time": "2021-07-08T09:14:54.506Z"
   },
   {
    "duration": 622,
    "start_time": "2021-07-08T09:18:14.497Z"
   },
   {
    "duration": 220,
    "start_time": "2021-07-08T09:18:15.121Z"
   },
   {
    "duration": 79,
    "start_time": "2021-07-08T09:18:15.343Z"
   },
   {
    "duration": 4,
    "start_time": "2021-07-08T09:18:15.425Z"
   },
   {
    "duration": 24,
    "start_time": "2021-07-08T09:18:15.431Z"
   },
   {
    "duration": 8,
    "start_time": "2021-07-08T09:18:15.457Z"
   },
   {
    "duration": 16,
    "start_time": "2021-07-08T09:18:15.466Z"
   },
   {
    "duration": 5,
    "start_time": "2021-07-08T09:18:15.484Z"
   },
   {
    "duration": 10,
    "start_time": "2021-07-08T09:18:15.493Z"
   },
   {
    "duration": 8,
    "start_time": "2021-07-08T09:18:15.504Z"
   },
   {
    "duration": 7,
    "start_time": "2021-07-08T09:18:15.513Z"
   },
   {
    "duration": 26,
    "start_time": "2021-07-08T09:18:15.522Z"
   },
   {
    "duration": 49,
    "start_time": "2021-07-08T09:18:15.550Z"
   },
   {
    "duration": 21,
    "start_time": "2021-07-08T09:18:15.601Z"
   },
   {
    "duration": 8,
    "start_time": "2021-07-08T09:18:15.624Z"
   },
   {
    "duration": 3,
    "start_time": "2021-07-08T09:18:15.634Z"
   },
   {
    "duration": 8,
    "start_time": "2021-07-08T09:18:15.639Z"
   },
   {
    "duration": 45,
    "start_time": "2021-07-08T09:18:15.649Z"
   },
   {
    "duration": 13,
    "start_time": "2021-07-08T09:18:15.696Z"
   },
   {
    "duration": 10,
    "start_time": "2021-07-08T09:18:15.711Z"
   },
   {
    "duration": 64,
    "start_time": "2021-07-08T09:18:15.722Z"
   },
   {
    "duration": 19,
    "start_time": "2021-07-08T09:18:15.788Z"
   },
   {
    "duration": 9,
    "start_time": "2021-07-08T09:18:15.809Z"
   },
   {
    "duration": 9,
    "start_time": "2021-07-08T09:18:15.820Z"
   },
   {
    "duration": 18,
    "start_time": "2021-07-08T09:18:15.831Z"
   },
   {
    "duration": 43,
    "start_time": "2021-07-08T09:18:15.851Z"
   },
   {
    "duration": 12,
    "start_time": "2021-07-08T09:18:15.897Z"
   },
   {
    "duration": 219,
    "start_time": "2021-07-08T09:18:15.911Z"
   },
   {
    "duration": 8,
    "start_time": "2021-07-08T09:18:16.132Z"
   },
   {
    "duration": 199,
    "start_time": "2021-07-08T09:18:16.141Z"
   },
   {
    "duration": 18,
    "start_time": "2021-07-08T09:18:16.341Z"
   },
   {
    "duration": 24,
    "start_time": "2021-07-08T09:18:16.361Z"
   },
   {
    "duration": 24,
    "start_time": "2021-07-08T09:18:16.387Z"
   },
   {
    "duration": 211,
    "start_time": "2021-07-08T09:18:16.413Z"
   },
   {
    "duration": 18,
    "start_time": "2021-07-08T09:18:16.626Z"
   },
   {
    "duration": 596,
    "start_time": "2021-07-08T10:06:33.623Z"
   },
   {
    "duration": 181,
    "start_time": "2021-07-08T10:06:34.221Z"
   },
   {
    "duration": 176,
    "start_time": "2021-07-08T10:06:34.635Z"
   },
   {
    "duration": 239,
    "start_time": "2021-07-08T10:06:55.572Z"
   },
   {
    "duration": 6,
    "start_time": "2021-07-08T10:06:57.687Z"
   },
   {
    "duration": 4,
    "start_time": "2021-07-08T10:07:03.956Z"
   },
   {
    "duration": 4,
    "start_time": "2021-07-08T10:07:10.376Z"
   },
   {
    "duration": 4,
    "start_time": "2021-07-08T10:17:19.889Z"
   },
   {
    "duration": 3,
    "start_time": "2021-07-08T10:19:19.407Z"
   },
   {
    "duration": 197,
    "start_time": "2021-07-08T10:19:19.412Z"
   },
   {
    "duration": 127,
    "start_time": "2021-07-08T10:19:19.611Z"
   },
   {
    "duration": 4,
    "start_time": "2021-07-08T10:19:19.740Z"
   },
   {
    "duration": 27,
    "start_time": "2021-07-08T10:19:19.746Z"
   },
   {
    "duration": 7,
    "start_time": "2021-07-08T10:19:19.775Z"
   },
   {
    "duration": 30,
    "start_time": "2021-07-08T10:19:19.784Z"
   },
   {
    "duration": 7,
    "start_time": "2021-07-08T10:19:19.817Z"
   },
   {
    "duration": 26,
    "start_time": "2021-07-08T10:19:19.826Z"
   },
   {
    "duration": 18,
    "start_time": "2021-07-08T10:19:19.854Z"
   },
   {
    "duration": 14,
    "start_time": "2021-07-08T10:19:19.874Z"
   },
   {
    "duration": 48,
    "start_time": "2021-07-08T10:19:19.890Z"
   },
   {
    "duration": 17,
    "start_time": "2021-07-08T10:19:19.940Z"
   },
   {
    "duration": 38,
    "start_time": "2021-07-08T10:19:19.959Z"
   },
   {
    "duration": 8,
    "start_time": "2021-07-08T10:19:19.999Z"
   },
   {
    "duration": 15,
    "start_time": "2021-07-08T10:19:20.009Z"
   },
   {
    "duration": 22,
    "start_time": "2021-07-08T10:19:20.026Z"
   },
   {
    "duration": 10,
    "start_time": "2021-07-08T10:19:20.050Z"
   },
   {
    "duration": 10,
    "start_time": "2021-07-08T10:19:20.062Z"
   },
   {
    "duration": 20,
    "start_time": "2021-07-08T10:19:20.073Z"
   },
   {
    "duration": 29,
    "start_time": "2021-07-08T10:19:20.095Z"
   },
   {
    "duration": 17,
    "start_time": "2021-07-08T10:19:20.126Z"
   },
   {
    "duration": 40,
    "start_time": "2021-07-08T10:19:20.146Z"
   },
   {
    "duration": 15,
    "start_time": "2021-07-08T10:19:20.189Z"
   },
   {
    "duration": 19,
    "start_time": "2021-07-08T10:19:20.206Z"
   },
   {
    "duration": 10,
    "start_time": "2021-07-08T10:19:20.226Z"
   },
   {
    "duration": 11,
    "start_time": "2021-07-08T10:19:20.238Z"
   },
   {
    "duration": 297,
    "start_time": "2021-07-08T10:19:20.250Z"
   },
   {
    "duration": 6,
    "start_time": "2021-07-08T10:19:20.549Z"
   },
   {
    "duration": 191,
    "start_time": "2021-07-08T10:19:20.557Z"
   },
   {
    "duration": 19,
    "start_time": "2021-07-08T10:19:20.750Z"
   },
   {
    "duration": 20,
    "start_time": "2021-07-08T10:19:20.771Z"
   },
   {
    "duration": 15,
    "start_time": "2021-07-08T10:19:20.793Z"
   },
   {
    "duration": 222,
    "start_time": "2021-07-08T10:19:20.809Z"
   },
   {
    "duration": 20,
    "start_time": "2021-07-08T10:19:21.033Z"
   },
   {
    "duration": 27,
    "start_time": "2021-07-08T10:45:04.055Z"
   },
   {
    "duration": 8,
    "start_time": "2021-07-08T10:45:08.478Z"
   },
   {
    "duration": 8,
    "start_time": "2021-07-08T10:45:31.982Z"
   },
   {
    "duration": 10,
    "start_time": "2021-07-08T10:46:01.221Z"
   },
   {
    "duration": 17,
    "start_time": "2021-07-08T10:46:40.011Z"
   },
   {
    "duration": 193,
    "start_time": "2021-07-08T10:48:19.471Z"
   },
   {
    "duration": 225,
    "start_time": "2021-07-08T10:49:26.480Z"
   },
   {
    "duration": 204,
    "start_time": "2021-07-08T10:49:59.992Z"
   },
   {
    "duration": 435,
    "start_time": "2021-07-08T10:50:06.779Z"
   },
   {
    "duration": 199,
    "start_time": "2021-07-08T10:50:14.891Z"
   },
   {
    "duration": 204,
    "start_time": "2021-07-08T10:50:18.501Z"
   },
   {
    "duration": 244,
    "start_time": "2021-07-08T10:50:23.359Z"
   },
   {
    "duration": 192,
    "start_time": "2021-07-08T10:50:29.135Z"
   },
   {
    "duration": 218,
    "start_time": "2021-07-08T10:50:33.092Z"
   },
   {
    "duration": 207,
    "start_time": "2021-07-08T10:52:45.381Z"
   },
   {
    "duration": 5,
    "start_time": "2021-07-08T10:53:34.641Z"
   },
   {
    "duration": 196,
    "start_time": "2021-07-08T10:53:41.478Z"
   },
   {
    "duration": 43,
    "start_time": "2021-07-08T10:53:50.335Z"
   },
   {
    "duration": 32,
    "start_time": "2021-07-08T10:53:55.294Z"
   },
   {
    "duration": 55,
    "start_time": "2021-07-08T10:54:09.675Z"
   },
   {
    "duration": 16,
    "start_time": "2021-07-08T10:54:12.260Z"
   },
   {
    "duration": 15,
    "start_time": "2021-07-08T10:54:49.150Z"
   },
   {
    "duration": 20,
    "start_time": "2021-07-08T10:56:07.596Z"
   },
   {
    "duration": 16,
    "start_time": "2021-07-08T10:58:26.276Z"
   },
   {
    "duration": 22,
    "start_time": "2021-07-08T10:59:00.486Z"
   },
   {
    "duration": 18,
    "start_time": "2021-07-08T11:02:09.653Z"
   },
   {
    "duration": 10,
    "start_time": "2021-07-08T11:03:44.331Z"
   },
   {
    "duration": 10,
    "start_time": "2021-07-08T11:03:54.055Z"
   },
   {
    "duration": 12,
    "start_time": "2021-07-08T11:04:41.967Z"
   },
   {
    "duration": 24,
    "start_time": "2021-07-08T11:07:30.732Z"
   },
   {
    "duration": 6,
    "start_time": "2021-07-08T11:07:37.364Z"
   },
   {
    "duration": 16,
    "start_time": "2021-07-08T11:08:01.819Z"
   },
   {
    "duration": 17,
    "start_time": "2021-07-08T11:09:47.488Z"
   },
   {
    "duration": 246,
    "start_time": "2021-07-08T11:10:00.830Z"
   },
   {
    "duration": 18,
    "start_time": "2021-07-08T11:13:55.195Z"
   },
   {
    "duration": 204,
    "start_time": "2021-07-08T11:14:04.951Z"
   },
   {
    "duration": 19,
    "start_time": "2021-07-08T11:15:10.613Z"
   },
   {
    "duration": 680,
    "start_time": "2021-07-08T11:16:25.793Z"
   },
   {
    "duration": 451,
    "start_time": "2021-07-08T11:16:40.313Z"
   },
   {
    "duration": 469,
    "start_time": "2021-07-08T11:17:21.286Z"
   },
   {
    "duration": 20,
    "start_time": "2021-07-08T11:19:12.554Z"
   },
   {
    "duration": 35,
    "start_time": "2021-07-08T11:20:05.484Z"
   },
   {
    "duration": 53,
    "start_time": "2021-07-08T11:21:40.050Z"
   },
   {
    "duration": 13,
    "start_time": "2021-07-08T11:22:26.059Z"
   },
   {
    "duration": 19,
    "start_time": "2021-07-08T11:22:47.419Z"
   },
   {
    "duration": 25,
    "start_time": "2021-07-08T11:23:19.958Z"
   },
   {
    "duration": 29,
    "start_time": "2021-07-08T11:23:25.415Z"
   },
   {
    "duration": 10,
    "start_time": "2021-07-08T11:24:45.138Z"
   },
   {
    "duration": 19,
    "start_time": "2021-07-08T11:24:54.498Z"
   },
   {
    "duration": 12,
    "start_time": "2021-07-08T11:25:32.225Z"
   },
   {
    "duration": 19,
    "start_time": "2021-07-08T11:25:37.092Z"
   },
   {
    "duration": 17,
    "start_time": "2021-07-08T11:25:58.116Z"
   },
   {
    "duration": 15,
    "start_time": "2021-07-08T11:26:02.258Z"
   },
   {
    "duration": 8,
    "start_time": "2021-07-08T11:26:59.682Z"
   },
   {
    "duration": 184,
    "start_time": "2021-07-08T11:27:21.894Z"
   },
   {
    "duration": 8,
    "start_time": "2021-07-08T11:27:23.824Z"
   },
   {
    "duration": 202,
    "start_time": "2021-07-08T11:27:23.962Z"
   },
   {
    "duration": 360,
    "start_time": "2021-07-08T11:28:33.215Z"
   },
   {
    "duration": 231,
    "start_time": "2021-07-08T11:32:05.542Z"
   },
   {
    "duration": 607,
    "start_time": "2021-07-08T11:36:27.854Z"
   },
   {
    "duration": 241,
    "start_time": "2021-07-08T11:36:28.463Z"
   },
   {
    "duration": 67,
    "start_time": "2021-07-08T11:36:28.709Z"
   },
   {
    "duration": 5,
    "start_time": "2021-07-08T11:36:28.778Z"
   },
   {
    "duration": 32,
    "start_time": "2021-07-08T11:36:28.784Z"
   },
   {
    "duration": 11,
    "start_time": "2021-07-08T11:36:28.819Z"
   },
   {
    "duration": 20,
    "start_time": "2021-07-08T11:36:28.834Z"
   },
   {
    "duration": 36,
    "start_time": "2021-07-08T11:36:28.857Z"
   },
   {
    "duration": 16,
    "start_time": "2021-07-08T11:36:28.895Z"
   },
   {
    "duration": 14,
    "start_time": "2021-07-08T11:36:28.913Z"
   },
   {
    "duration": 9,
    "start_time": "2021-07-08T11:36:28.930Z"
   },
   {
    "duration": 55,
    "start_time": "2021-07-08T11:36:28.941Z"
   },
   {
    "duration": 27,
    "start_time": "2021-07-08T11:36:28.999Z"
   },
   {
    "duration": 30,
    "start_time": "2021-07-08T11:36:29.028Z"
   },
   {
    "duration": 31,
    "start_time": "2021-07-08T11:36:29.060Z"
   },
   {
    "duration": 3,
    "start_time": "2021-07-08T11:36:29.093Z"
   },
   {
    "duration": 12,
    "start_time": "2021-07-08T11:36:29.099Z"
   },
   {
    "duration": 11,
    "start_time": "2021-07-08T11:36:29.112Z"
   },
   {
    "duration": 12,
    "start_time": "2021-07-08T11:36:29.125Z"
   },
   {
    "duration": 9,
    "start_time": "2021-07-08T11:36:29.139Z"
   },
   {
    "duration": 31,
    "start_time": "2021-07-08T11:36:29.191Z"
   },
   {
    "duration": 17,
    "start_time": "2021-07-08T11:36:29.226Z"
   },
   {
    "duration": 7,
    "start_time": "2021-07-08T11:36:29.245Z"
   },
   {
    "duration": 10,
    "start_time": "2021-07-08T11:36:29.254Z"
   },
   {
    "duration": 30,
    "start_time": "2021-07-08T11:36:29.292Z"
   },
   {
    "duration": 11,
    "start_time": "2021-07-08T11:36:29.324Z"
   },
   {
    "duration": 11,
    "start_time": "2021-07-08T11:36:29.337Z"
   },
   {
    "duration": 230,
    "start_time": "2021-07-08T11:36:29.349Z"
   },
   {
    "duration": 13,
    "start_time": "2021-07-08T11:36:29.588Z"
   },
   {
    "duration": 205,
    "start_time": "2021-07-08T11:36:29.603Z"
   },
   {
    "duration": 20,
    "start_time": "2021-07-08T11:36:29.810Z"
   },
   {
    "duration": 9,
    "start_time": "2021-07-08T11:36:29.832Z"
   },
   {
    "duration": 16,
    "start_time": "2021-07-08T11:36:29.843Z"
   },
   {
    "duration": 283,
    "start_time": "2021-07-08T11:36:29.861Z"
   },
   {
    "duration": 50,
    "start_time": "2021-07-08T11:36:30.146Z"
   },
   {
    "duration": 14,
    "start_time": "2021-07-08T11:36:30.198Z"
   },
   {
    "duration": 11,
    "start_time": "2021-07-08T11:36:30.214Z"
   },
   {
    "duration": 245,
    "start_time": "2021-07-08T11:36:30.227Z"
   },
   {
    "duration": 439,
    "start_time": "2021-07-08T11:36:30.474Z"
   },
   {
    "duration": 210,
    "start_time": "2021-07-08T11:36:30.915Z"
   },
   {
    "duration": 15,
    "start_time": "2021-07-08T11:36:31.127Z"
   },
   {
    "duration": 17,
    "start_time": "2021-07-08T11:38:20.451Z"
   },
   {
    "duration": 642,
    "start_time": "2021-07-08T11:46:17.881Z"
   },
   {
    "duration": 210,
    "start_time": "2021-07-08T11:46:18.525Z"
   },
   {
    "duration": 104,
    "start_time": "2021-07-08T11:46:18.741Z"
   },
   {
    "duration": 8,
    "start_time": "2021-07-08T11:46:18.847Z"
   },
   {
    "duration": 25,
    "start_time": "2021-07-08T11:46:18.857Z"
   },
   {
    "duration": 14,
    "start_time": "2021-07-08T11:46:18.884Z"
   },
   {
    "duration": 22,
    "start_time": "2021-07-08T11:46:18.900Z"
   },
   {
    "duration": 5,
    "start_time": "2021-07-08T11:46:18.924Z"
   },
   {
    "duration": 13,
    "start_time": "2021-07-08T11:46:18.931Z"
   },
   {
    "duration": 45,
    "start_time": "2021-07-08T11:46:18.946Z"
   },
   {
    "duration": 12,
    "start_time": "2021-07-08T11:46:18.993Z"
   },
   {
    "duration": 38,
    "start_time": "2021-07-08T11:46:19.006Z"
   },
   {
    "duration": 50,
    "start_time": "2021-07-08T11:46:19.046Z"
   },
   {
    "duration": 29,
    "start_time": "2021-07-08T11:46:19.099Z"
   },
   {
    "duration": 7,
    "start_time": "2021-07-08T11:46:19.130Z"
   },
   {
    "duration": 3,
    "start_time": "2021-07-08T11:46:19.139Z"
   },
   {
    "duration": 11,
    "start_time": "2021-07-08T11:46:19.144Z"
   },
   {
    "duration": 40,
    "start_time": "2021-07-08T11:46:19.157Z"
   },
   {
    "duration": 15,
    "start_time": "2021-07-08T11:46:19.199Z"
   },
   {
    "duration": 10,
    "start_time": "2021-07-08T11:46:19.217Z"
   },
   {
    "duration": 68,
    "start_time": "2021-07-08T11:46:19.230Z"
   },
   {
    "duration": 17,
    "start_time": "2021-07-08T11:46:19.301Z"
   },
   {
    "duration": 7,
    "start_time": "2021-07-08T11:46:19.321Z"
   },
   {
    "duration": 11,
    "start_time": "2021-07-08T11:46:19.330Z"
   },
   {
    "duration": 59,
    "start_time": "2021-07-08T11:46:19.343Z"
   },
   {
    "duration": 17,
    "start_time": "2021-07-08T11:46:19.405Z"
   },
   {
    "duration": 16,
    "start_time": "2021-07-08T11:46:19.424Z"
   },
   {
    "duration": 252,
    "start_time": "2021-07-08T11:46:19.443Z"
   },
   {
    "duration": 9,
    "start_time": "2021-07-08T11:46:19.697Z"
   },
   {
    "duration": 224,
    "start_time": "2021-07-08T11:46:19.708Z"
   },
   {
    "duration": 21,
    "start_time": "2021-07-08T11:46:19.934Z"
   },
   {
    "duration": 9,
    "start_time": "2021-07-08T11:46:19.956Z"
   },
   {
    "duration": 32,
    "start_time": "2021-07-08T11:46:19.967Z"
   },
   {
    "duration": 288,
    "start_time": "2021-07-08T11:46:20.004Z"
   },
   {
    "duration": 23,
    "start_time": "2021-07-08T11:46:20.300Z"
   },
   {
    "duration": 11,
    "start_time": "2021-07-08T11:46:20.325Z"
   },
   {
    "duration": 11,
    "start_time": "2021-07-08T11:46:20.339Z"
   },
   {
    "duration": 259,
    "start_time": "2021-07-08T11:46:20.352Z"
   },
   {
    "duration": 438,
    "start_time": "2021-07-08T11:46:20.613Z"
   },
   {
    "duration": 207,
    "start_time": "2021-07-08T11:46:21.054Z"
   },
   {
    "duration": 27,
    "start_time": "2021-07-08T11:46:21.262Z"
   },
   {
    "duration": 19,
    "start_time": "2021-07-08T11:46:21.291Z"
   },
   {
    "duration": 820,
    "start_time": "2021-07-08T11:49:01.655Z"
   },
   {
    "duration": 372,
    "start_time": "2021-07-08T11:49:02.478Z"
   },
   {
    "duration": 98,
    "start_time": "2021-07-08T11:49:02.853Z"
   },
   {
    "duration": 6,
    "start_time": "2021-07-08T11:49:02.953Z"
   },
   {
    "duration": 39,
    "start_time": "2021-07-08T11:49:02.960Z"
   },
   {
    "duration": 9,
    "start_time": "2021-07-08T11:49:03.003Z"
   },
   {
    "duration": 23,
    "start_time": "2021-07-08T11:49:03.014Z"
   },
   {
    "duration": 6,
    "start_time": "2021-07-08T11:49:03.041Z"
   },
   {
    "duration": 20,
    "start_time": "2021-07-08T11:49:03.049Z"
   },
   {
    "duration": 18,
    "start_time": "2021-07-08T11:49:03.084Z"
   },
   {
    "duration": 14,
    "start_time": "2021-07-08T11:49:03.104Z"
   },
   {
    "duration": 39,
    "start_time": "2021-07-08T11:49:03.119Z"
   },
   {
    "duration": 38,
    "start_time": "2021-07-08T11:49:03.160Z"
   },
   {
    "duration": 26,
    "start_time": "2021-07-08T11:49:03.200Z"
   },
   {
    "duration": 7,
    "start_time": "2021-07-08T11:49:03.227Z"
   },
   {
    "duration": 4,
    "start_time": "2021-07-08T11:49:03.236Z"
   },
   {
    "duration": 15,
    "start_time": "2021-07-08T11:49:03.243Z"
   },
   {
    "duration": 21,
    "start_time": "2021-07-08T11:49:03.285Z"
   },
   {
    "duration": 17,
    "start_time": "2021-07-08T11:49:03.309Z"
   },
   {
    "duration": 10,
    "start_time": "2021-07-08T11:49:03.328Z"
   },
   {
    "duration": 65,
    "start_time": "2021-07-08T11:49:03.340Z"
   },
   {
    "duration": 18,
    "start_time": "2021-07-08T11:49:03.407Z"
   },
   {
    "duration": 8,
    "start_time": "2021-07-08T11:49:03.428Z"
   },
   {
    "duration": 15,
    "start_time": "2021-07-08T11:49:03.438Z"
   },
   {
    "duration": 40,
    "start_time": "2021-07-08T11:49:03.455Z"
   },
   {
    "duration": 12,
    "start_time": "2021-07-08T11:49:03.497Z"
   },
   {
    "duration": 29,
    "start_time": "2021-07-08T11:49:03.511Z"
   },
   {
    "duration": 285,
    "start_time": "2021-07-08T11:49:03.542Z"
   },
   {
    "duration": 8,
    "start_time": "2021-07-08T11:49:03.829Z"
   },
   {
    "duration": 227,
    "start_time": "2021-07-08T11:49:03.838Z"
   },
   {
    "duration": 40,
    "start_time": "2021-07-08T11:49:04.066Z"
   },
   {
    "duration": 10,
    "start_time": "2021-07-08T11:49:04.108Z"
   },
   {
    "duration": 26,
    "start_time": "2021-07-08T11:49:04.121Z"
   },
   {
    "duration": 290,
    "start_time": "2021-07-08T11:49:04.149Z"
   },
   {
    "duration": 26,
    "start_time": "2021-07-08T11:49:04.441Z"
   },
   {
    "duration": 31,
    "start_time": "2021-07-08T11:49:04.470Z"
   },
   {
    "duration": 14,
    "start_time": "2021-07-08T11:49:04.503Z"
   },
   {
    "duration": 259,
    "start_time": "2021-07-08T11:49:04.521Z"
   },
   {
    "duration": 480,
    "start_time": "2021-07-08T11:49:04.782Z"
   },
   {
    "duration": 225,
    "start_time": "2021-07-08T11:49:05.264Z"
   },
   {
    "duration": 22,
    "start_time": "2021-07-08T11:49:05.491Z"
   },
   {
    "duration": 24,
    "start_time": "2021-07-08T11:49:05.515Z"
   },
   {
    "duration": 634,
    "start_time": "2021-07-08T11:52:24.960Z"
   },
   {
    "duration": 199,
    "start_time": "2021-07-08T11:52:25.599Z"
   },
   {
    "duration": 106,
    "start_time": "2021-07-08T11:52:25.803Z"
   },
   {
    "duration": 7,
    "start_time": "2021-07-08T11:52:25.911Z"
   },
   {
    "duration": 29,
    "start_time": "2021-07-08T11:52:25.920Z"
   },
   {
    "duration": 7,
    "start_time": "2021-07-08T11:52:25.951Z"
   },
   {
    "duration": 26,
    "start_time": "2021-07-08T11:52:25.961Z"
   },
   {
    "duration": 11,
    "start_time": "2021-07-08T11:52:25.990Z"
   },
   {
    "duration": 29,
    "start_time": "2021-07-08T11:52:26.005Z"
   },
   {
    "duration": 9,
    "start_time": "2021-07-08T11:52:26.036Z"
   },
   {
    "duration": 8,
    "start_time": "2021-07-08T11:52:26.047Z"
   },
   {
    "duration": 63,
    "start_time": "2021-07-08T11:52:26.057Z"
   },
   {
    "duration": 17,
    "start_time": "2021-07-08T11:52:26.122Z"
   },
   {
    "duration": 43,
    "start_time": "2021-07-08T11:52:26.142Z"
   },
   {
    "duration": 17,
    "start_time": "2021-07-08T11:52:26.187Z"
   },
   {
    "duration": 5,
    "start_time": "2021-07-08T11:52:26.206Z"
   },
   {
    "duration": 12,
    "start_time": "2021-07-08T11:52:26.212Z"
   },
   {
    "duration": 11,
    "start_time": "2021-07-08T11:52:26.226Z"
   },
   {
    "duration": 12,
    "start_time": "2021-07-08T11:52:26.238Z"
   },
   {
    "duration": 38,
    "start_time": "2021-07-08T11:52:26.252Z"
   },
   {
    "duration": 40,
    "start_time": "2021-07-08T11:52:26.292Z"
   },
   {
    "duration": 17,
    "start_time": "2021-07-08T11:52:26.336Z"
   },
   {
    "duration": 39,
    "start_time": "2021-07-08T11:52:26.355Z"
   },
   {
    "duration": 11,
    "start_time": "2021-07-08T11:52:26.395Z"
   },
   {
    "duration": 23,
    "start_time": "2021-07-08T11:52:26.408Z"
   },
   {
    "duration": 12,
    "start_time": "2021-07-08T11:52:26.432Z"
   },
   {
    "duration": 41,
    "start_time": "2021-07-08T11:52:26.446Z"
   },
   {
    "duration": 215,
    "start_time": "2021-07-08T11:52:26.493Z"
   },
   {
    "duration": 8,
    "start_time": "2021-07-08T11:52:26.710Z"
   },
   {
    "duration": 228,
    "start_time": "2021-07-08T11:52:26.720Z"
   },
   {
    "duration": 18,
    "start_time": "2021-07-08T11:52:26.950Z"
   },
   {
    "duration": 35,
    "start_time": "2021-07-08T11:52:26.969Z"
   },
   {
    "duration": 23,
    "start_time": "2021-07-08T11:52:27.006Z"
   },
   {
    "duration": 258,
    "start_time": "2021-07-08T11:52:27.030Z"
   },
   {
    "duration": 24,
    "start_time": "2021-07-08T11:52:27.290Z"
   },
   {
    "duration": 12,
    "start_time": "2021-07-08T11:52:27.316Z"
   },
   {
    "duration": 10,
    "start_time": "2021-07-08T11:52:27.329Z"
   },
   {
    "duration": 298,
    "start_time": "2021-07-08T11:52:27.341Z"
   },
   {
    "duration": 436,
    "start_time": "2021-07-08T11:52:27.641Z"
   },
   {
    "duration": 216,
    "start_time": "2021-07-08T11:52:28.079Z"
   },
   {
    "duration": 20,
    "start_time": "2021-07-08T11:52:28.297Z"
   },
   {
    "duration": 17,
    "start_time": "2021-07-08T11:52:28.319Z"
   },
   {
    "duration": 1783,
    "start_time": "2021-11-23T19:15:44.613Z"
   },
   {
    "duration": 126,
    "start_time": "2021-11-23T19:17:07.369Z"
   },
   {
    "duration": 129,
    "start_time": "2021-11-23T19:18:32.814Z"
   },
   {
    "duration": 27,
    "start_time": "2021-11-23T19:19:10.213Z"
   },
   {
    "duration": 19,
    "start_time": "2021-11-23T19:19:26.292Z"
   },
   {
    "duration": 16,
    "start_time": "2021-11-23T19:19:33.001Z"
   },
   {
    "duration": 19,
    "start_time": "2021-11-23T19:19:49.990Z"
   },
   {
    "duration": 127,
    "start_time": "2021-11-23T19:26:12.243Z"
   },
   {
    "duration": 18,
    "start_time": "2021-11-23T19:26:17.268Z"
   },
   {
    "duration": 10,
    "start_time": "2021-11-23T19:35:30.350Z"
   },
   {
    "duration": 98,
    "start_time": "2021-11-23T19:35:56.266Z"
   },
   {
    "duration": 9,
    "start_time": "2021-11-23T19:36:04.730Z"
   },
   {
    "duration": 1367,
    "start_time": "2021-11-23T19:36:16.759Z"
   },
   {
    "duration": 82,
    "start_time": "2021-11-23T19:36:29.386Z"
   },
   {
    "duration": 13,
    "start_time": "2021-11-23T19:36:37.042Z"
   },
   {
    "duration": 15,
    "start_time": "2021-11-23T19:36:55.993Z"
   },
   {
    "duration": 14,
    "start_time": "2021-11-23T19:37:13.241Z"
   },
   {
    "duration": 49,
    "start_time": "2021-11-23T19:40:47.219Z"
   },
   {
    "duration": 48,
    "start_time": "2021-11-23T19:41:34.792Z"
   },
   {
    "duration": 19,
    "start_time": "2021-11-23T19:43:31.251Z"
   },
   {
    "duration": 18,
    "start_time": "2021-11-23T19:45:10.540Z"
   },
   {
    "duration": 17,
    "start_time": "2021-11-23T19:45:22.931Z"
   },
   {
    "duration": 102,
    "start_time": "2021-11-23T19:45:55.798Z"
   },
   {
    "duration": 120,
    "start_time": "2021-11-23T19:46:25.398Z"
   },
   {
    "duration": 20,
    "start_time": "2021-11-23T19:46:30.273Z"
   },
   {
    "duration": 11,
    "start_time": "2021-11-23T19:46:34.528Z"
   },
   {
    "duration": 15,
    "start_time": "2021-11-23T19:46:36.303Z"
   },
   {
    "duration": 17,
    "start_time": "2021-11-23T19:46:39.289Z"
   },
   {
    "duration": 17,
    "start_time": "2021-11-23T19:46:40.914Z"
   },
   {
    "duration": 15,
    "start_time": "2021-11-23T19:46:59.476Z"
   },
   {
    "duration": 85,
    "start_time": "2021-11-23T19:47:35.106Z"
   },
   {
    "duration": 177,
    "start_time": "2021-11-23T19:47:40.639Z"
   },
   {
    "duration": 16,
    "start_time": "2021-11-23T19:50:24.207Z"
   },
   {
    "duration": 26,
    "start_time": "2021-11-23T19:53:34.357Z"
   },
   {
    "duration": 27,
    "start_time": "2021-11-23T19:53:45.342Z"
   },
   {
    "duration": 14,
    "start_time": "2021-11-23T19:55:02.748Z"
   },
   {
    "duration": 31,
    "start_time": "2021-11-23T19:55:08.390Z"
   },
   {
    "duration": 1262,
    "start_time": "2021-11-23T19:56:01.277Z"
   },
   {
    "duration": 122,
    "start_time": "2021-11-23T19:56:11.064Z"
   },
   {
    "duration": 17,
    "start_time": "2021-11-23T19:56:11.188Z"
   },
   {
    "duration": 16,
    "start_time": "2021-11-23T19:56:11.208Z"
   },
   {
    "duration": 1195,
    "start_time": "2021-11-23T19:56:12.991Z"
   },
   {
    "duration": 2563,
    "start_time": "2021-11-23T19:57:31.039Z"
   },
   {
    "duration": 1222,
    "start_time": "2021-11-23T19:59:40.615Z"
   },
   {
    "duration": 8,
    "start_time": "2021-11-23T20:00:16.510Z"
   },
   {
    "duration": 1211,
    "start_time": "2021-11-23T20:00:29.370Z"
   },
   {
    "duration": 31,
    "start_time": "2021-11-23T20:00:40.348Z"
   },
   {
    "duration": 1192,
    "start_time": "2021-11-23T20:03:28.702Z"
   },
   {
    "duration": 121,
    "start_time": "2021-11-23T20:03:38.718Z"
   },
   {
    "duration": 18,
    "start_time": "2021-11-23T20:03:38.842Z"
   },
   {
    "duration": 20,
    "start_time": "2021-11-23T20:03:38.863Z"
   },
   {
    "duration": 2036,
    "start_time": "2021-11-23T20:03:38.886Z"
   },
   {
    "duration": 1354,
    "start_time": "2021-11-23T20:03:51.640Z"
   },
   {
    "duration": 264,
    "start_time": "2021-11-23T20:04:28.620Z"
   },
   {
    "duration": 1258,
    "start_time": "2021-11-23T20:07:55.114Z"
   },
   {
    "duration": 2277,
    "start_time": "2021-11-23T20:08:33.248Z"
   },
   {
    "duration": 11,
    "start_time": "2021-11-23T20:10:10.895Z"
   },
   {
    "duration": 26,
    "start_time": "2021-11-23T20:10:34.193Z"
   },
   {
    "duration": 124,
    "start_time": "2021-11-23T20:11:34.539Z"
   },
   {
    "duration": 22,
    "start_time": "2021-11-23T20:11:34.666Z"
   },
   {
    "duration": 10,
    "start_time": "2021-11-23T20:11:34.691Z"
   },
   {
    "duration": 15,
    "start_time": "2021-11-23T20:11:35.909Z"
   },
   {
    "duration": 25,
    "start_time": "2021-11-23T20:11:45.381Z"
   },
   {
    "duration": 26,
    "start_time": "2021-11-23T20:11:47.605Z"
   },
   {
    "duration": 24,
    "start_time": "2021-11-23T20:11:49.353Z"
   },
   {
    "duration": 14,
    "start_time": "2021-11-23T20:12:01.891Z"
   },
   {
    "duration": 24,
    "start_time": "2021-11-23T20:12:06.147Z"
   },
   {
    "duration": 126,
    "start_time": "2021-11-23T20:12:16.504Z"
   },
   {
    "duration": 19,
    "start_time": "2021-11-23T20:12:16.633Z"
   },
   {
    "duration": 16,
    "start_time": "2021-11-23T20:12:16.654Z"
   },
   {
    "duration": 14,
    "start_time": "2021-11-23T20:12:17.662Z"
   },
   {
    "duration": 25,
    "start_time": "2021-11-23T20:12:20.949Z"
   },
   {
    "duration": 12,
    "start_time": "2021-11-23T20:12:42.439Z"
   },
   {
    "duration": 27,
    "start_time": "2021-11-23T20:12:49.395Z"
   },
   {
    "duration": 86,
    "start_time": "2021-11-23T20:13:01.103Z"
   },
   {
    "duration": 25,
    "start_time": "2021-11-23T20:13:07.382Z"
   },
   {
    "duration": 124,
    "start_time": "2021-11-23T20:13:11.837Z"
   },
   {
    "duration": 19,
    "start_time": "2021-11-23T20:13:11.963Z"
   },
   {
    "duration": 9,
    "start_time": "2021-11-23T20:13:11.984Z"
   },
   {
    "duration": 42,
    "start_time": "2021-11-23T20:13:11.996Z"
   },
   {
    "duration": 26,
    "start_time": "2021-11-23T20:13:16.297Z"
   },
   {
    "duration": 33,
    "start_time": "2021-11-23T20:13:29.964Z"
   },
   {
    "duration": 27,
    "start_time": "2021-11-23T20:13:55.860Z"
   },
   {
    "duration": 126,
    "start_time": "2021-11-23T20:14:00.683Z"
   },
   {
    "duration": 19,
    "start_time": "2021-11-23T20:14:00.812Z"
   },
   {
    "duration": 24,
    "start_time": "2021-11-23T20:14:00.834Z"
   },
   {
    "duration": 25,
    "start_time": "2021-11-23T20:14:02.197Z"
   },
   {
    "duration": 121,
    "start_time": "2021-11-23T20:14:08.133Z"
   },
   {
    "duration": 18,
    "start_time": "2021-11-23T20:14:08.257Z"
   },
   {
    "duration": 15,
    "start_time": "2021-11-23T20:14:08.278Z"
   },
   {
    "duration": 27,
    "start_time": "2021-11-23T20:14:11.522Z"
   },
   {
    "duration": 12,
    "start_time": "2021-11-23T20:14:17.462Z"
   },
   {
    "duration": 123,
    "start_time": "2021-11-23T20:14:47.018Z"
   },
   {
    "duration": 18,
    "start_time": "2021-11-23T20:14:47.143Z"
   },
   {
    "duration": 9,
    "start_time": "2021-11-23T20:14:47.164Z"
   },
   {
    "duration": 24,
    "start_time": "2021-11-23T20:14:50.143Z"
   },
   {
    "duration": 24,
    "start_time": "2021-11-23T20:14:51.496Z"
   },
   {
    "duration": 14,
    "start_time": "2021-11-23T20:14:51.924Z"
   },
   {
    "duration": 6405,
    "start_time": "2021-11-23T20:14:52.191Z"
   },
   {
    "duration": -4,
    "start_time": "2021-11-23T20:14:58.604Z"
   },
   {
    "duration": -8,
    "start_time": "2021-11-23T20:14:58.610Z"
   },
   {
    "duration": 123,
    "start_time": "2021-11-23T20:15:33.621Z"
   },
   {
    "duration": 21,
    "start_time": "2021-11-23T20:15:33.747Z"
   },
   {
    "duration": 10,
    "start_time": "2021-11-23T20:15:33.772Z"
   },
   {
    "duration": 25,
    "start_time": "2021-11-23T20:15:34.677Z"
   },
   {
    "duration": 130,
    "start_time": "2021-11-23T20:15:52.696Z"
   },
   {
    "duration": 21,
    "start_time": "2021-11-23T20:15:52.830Z"
   },
   {
    "duration": 8,
    "start_time": "2021-11-23T20:15:52.854Z"
   },
   {
    "duration": 25,
    "start_time": "2021-11-23T20:15:53.743Z"
   },
   {
    "duration": 124,
    "start_time": "2021-11-23T20:16:12.139Z"
   },
   {
    "duration": 20,
    "start_time": "2021-11-23T20:16:12.267Z"
   },
   {
    "duration": 11,
    "start_time": "2021-11-23T20:16:12.289Z"
   },
   {
    "duration": 24,
    "start_time": "2021-11-23T20:16:13.252Z"
   },
   {
    "duration": 120,
    "start_time": "2021-11-23T20:16:29.146Z"
   },
   {
    "duration": 19,
    "start_time": "2021-11-23T20:16:29.269Z"
   },
   {
    "duration": 10,
    "start_time": "2021-11-23T20:16:29.298Z"
   },
   {
    "duration": 24,
    "start_time": "2021-11-23T20:16:29.978Z"
   },
   {
    "duration": 9,
    "start_time": "2021-11-23T20:16:34.699Z"
   },
   {
    "duration": 20,
    "start_time": "2021-11-23T20:16:37.929Z"
   },
   {
    "duration": 27,
    "start_time": "2021-11-23T20:16:40.683Z"
   },
   {
    "duration": 122,
    "start_time": "2021-11-23T20:24:52.394Z"
   },
   {
    "duration": 19,
    "start_time": "2021-11-23T20:24:52.518Z"
   },
   {
    "duration": 9,
    "start_time": "2021-11-23T20:24:52.540Z"
   },
   {
    "duration": 22,
    "start_time": "2021-11-23T20:24:52.551Z"
   },
   {
    "duration": 22,
    "start_time": "2021-11-23T20:24:52.575Z"
   },
   {
    "duration": 125,
    "start_time": "2021-11-23T20:24:55.116Z"
   },
   {
    "duration": 18,
    "start_time": "2021-11-23T20:24:55.244Z"
   },
   {
    "duration": 10,
    "start_time": "2021-11-23T20:24:55.266Z"
   },
   {
    "duration": 12,
    "start_time": "2021-11-23T20:24:55.278Z"
   },
   {
    "duration": 64,
    "start_time": "2021-11-23T20:24:55.292Z"
   },
   {
    "duration": 27,
    "start_time": "2021-11-23T20:24:55.358Z"
   },
   {
    "duration": 10,
    "start_time": "2021-11-23T20:33:26.474Z"
   },
   {
    "duration": 572,
    "start_time": "2021-11-23T20:33:44.914Z"
   },
   {
    "duration": 6,
    "start_time": "2021-11-23T20:33:51.720Z"
   },
   {
    "duration": 11,
    "start_time": "2021-11-23T20:34:00.025Z"
   },
   {
    "duration": 252,
    "start_time": "2021-11-23T20:34:25.594Z"
   },
   {
    "duration": 6,
    "start_time": "2021-11-23T20:34:27.820Z"
   },
   {
    "duration": 82,
    "start_time": "2021-11-23T20:53:36.697Z"
   },
   {
    "duration": 35,
    "start_time": "2021-11-23T21:11:39.671Z"
   },
   {
    "duration": 9,
    "start_time": "2021-11-23T21:12:18.330Z"
   },
   {
    "duration": 9,
    "start_time": "2021-11-23T21:24:32.622Z"
   },
   {
    "duration": 97,
    "start_time": "2021-11-23T21:24:48.292Z"
   },
   {
    "duration": 11,
    "start_time": "2021-11-23T21:24:54.179Z"
   },
   {
    "duration": 10,
    "start_time": "2021-11-23T21:25:34.370Z"
   },
   {
    "duration": 7,
    "start_time": "2021-11-23T21:26:32.659Z"
   },
   {
    "duration": 20,
    "start_time": "2021-11-23T21:26:42.083Z"
   },
   {
    "duration": 95,
    "start_time": "2021-11-23T21:27:49.493Z"
   },
   {
    "duration": 8,
    "start_time": "2021-11-23T21:28:27.729Z"
   },
   {
    "duration": 9,
    "start_time": "2021-11-23T21:28:31.151Z"
   },
   {
    "duration": 7,
    "start_time": "2021-11-23T21:28:48.398Z"
   },
   {
    "duration": 9,
    "start_time": "2021-11-23T21:29:04.498Z"
   },
   {
    "duration": 265,
    "start_time": "2021-11-23T21:29:56.468Z"
   },
   {
    "duration": 29,
    "start_time": "2021-11-23T21:30:10.126Z"
   },
   {
    "duration": 7,
    "start_time": "2021-11-23T21:30:44.773Z"
   },
   {
    "duration": 28,
    "start_time": "2021-11-23T21:35:20.136Z"
   },
   {
    "duration": 6,
    "start_time": "2021-11-23T21:36:50.676Z"
   },
   {
    "duration": 269,
    "start_time": "2021-11-23T21:40:43.155Z"
   },
   {
    "duration": 85,
    "start_time": "2021-11-23T21:41:57.642Z"
   },
   {
    "duration": 93,
    "start_time": "2021-11-23T21:42:07.672Z"
   },
   {
    "duration": 199,
    "start_time": "2021-11-23T21:42:16.206Z"
   },
   {
    "duration": 252,
    "start_time": "2021-11-23T21:42:49.028Z"
   },
   {
    "duration": 149,
    "start_time": "2021-11-23T21:43:03.619Z"
   },
   {
    "duration": 50,
    "start_time": "2021-11-23T21:43:17.872Z"
   },
   {
    "duration": 79,
    "start_time": "2021-11-23T21:43:30.277Z"
   },
   {
    "duration": 80,
    "start_time": "2021-11-23T21:45:19.966Z"
   },
   {
    "duration": 82,
    "start_time": "2021-11-23T21:45:42.607Z"
   },
   {
    "duration": 58,
    "start_time": "2021-11-23T21:47:53.891Z"
   },
   {
    "duration": 60,
    "start_time": "2021-11-23T21:47:58.840Z"
   },
   {
    "duration": 262,
    "start_time": "2021-11-23T21:50:15.793Z"
   },
   {
    "duration": 6,
    "start_time": "2021-11-23T21:50:20.491Z"
   },
   {
    "duration": 60,
    "start_time": "2021-11-23T21:52:05.347Z"
   },
   {
    "duration": 66,
    "start_time": "2021-11-23T21:52:31.637Z"
   },
   {
    "duration": 64,
    "start_time": "2021-11-23T21:52:49.691Z"
   },
   {
    "duration": 327,
    "start_time": "2021-11-23T21:53:07.948Z"
   },
   {
    "duration": 305,
    "start_time": "2021-11-23T21:53:38.011Z"
   },
   {
    "duration": 72,
    "start_time": "2021-11-23T21:53:50.893Z"
   },
   {
    "duration": 60,
    "start_time": "2021-11-23T21:54:30.309Z"
   },
   {
    "duration": 82,
    "start_time": "2021-11-23T21:55:05.384Z"
   },
   {
    "duration": 82,
    "start_time": "2021-11-23T21:55:13.514Z"
   },
   {
    "duration": 91,
    "start_time": "2021-11-23T21:55:21.037Z"
   },
   {
    "duration": 60,
    "start_time": "2021-11-23T21:55:35.263Z"
   },
   {
    "duration": 24,
    "start_time": "2021-11-23T21:58:08.305Z"
   },
   {
    "duration": 23,
    "start_time": "2021-11-23T21:58:23.321Z"
   },
   {
    "duration": 6,
    "start_time": "2021-11-23T21:58:47.650Z"
   },
   {
    "duration": 30,
    "start_time": "2021-11-23T21:58:58.885Z"
   },
   {
    "duration": 6,
    "start_time": "2021-11-23T21:59:01.896Z"
   },
   {
    "duration": 29,
    "start_time": "2021-11-23T21:59:06.275Z"
   },
   {
    "duration": 27,
    "start_time": "2021-11-23T21:59:10.162Z"
   },
   {
    "duration": 258,
    "start_time": "2021-11-23T22:00:07.043Z"
   },
   {
    "duration": 6,
    "start_time": "2021-11-23T22:00:09.900Z"
   },
   {
    "duration": 1252,
    "start_time": "2021-11-23T22:02:52.713Z"
   },
   {
    "duration": 1215,
    "start_time": "2021-11-23T22:04:08.043Z"
   },
   {
    "duration": 1333,
    "start_time": "2021-11-23T22:05:33.681Z"
   },
   {
    "duration": 1659,
    "start_time": "2021-11-23T22:06:30.517Z"
   },
   {
    "duration": 1432,
    "start_time": "2021-11-23T22:06:40.439Z"
   },
   {
    "duration": 669,
    "start_time": "2021-11-23T22:12:56.791Z"
   },
   {
    "duration": 4,
    "start_time": "2021-11-23T22:13:13.938Z"
   },
   {
    "duration": 8,
    "start_time": "2021-11-23T22:13:21.836Z"
   },
   {
    "duration": 7,
    "start_time": "2021-11-23T22:13:36.756Z"
   },
   {
    "duration": 269,
    "start_time": "2021-11-23T22:14:48.493Z"
   },
   {
    "duration": 7,
    "start_time": "2021-11-23T22:14:53.511Z"
   },
   {
    "duration": 1293,
    "start_time": "2021-11-23T22:15:16.071Z"
   },
   {
    "duration": 346,
    "start_time": "2021-11-23T22:16:44.002Z"
   },
   {
    "duration": 3334,
    "start_time": "2021-11-23T22:16:51.952Z"
   },
   {
    "duration": 3450,
    "start_time": "2021-11-23T22:17:26.199Z"
   },
   {
    "duration": 123,
    "start_time": "2021-11-23T22:17:42.190Z"
   },
   {
    "duration": 18,
    "start_time": "2021-11-23T22:17:42.315Z"
   },
   {
    "duration": 18,
    "start_time": "2021-11-23T22:17:42.336Z"
   },
   {
    "duration": 10,
    "start_time": "2021-11-23T22:17:42.357Z"
   },
   {
    "duration": 36,
    "start_time": "2021-11-23T22:17:42.369Z"
   },
   {
    "duration": 38,
    "start_time": "2021-11-23T22:17:42.407Z"
   },
   {
    "duration": 7,
    "start_time": "2021-11-23T22:17:42.448Z"
   },
   {
    "duration": 43,
    "start_time": "2021-11-23T22:17:42.459Z"
   },
   {
    "duration": 77,
    "start_time": "2021-11-23T22:17:42.505Z"
   },
   {
    "duration": 5,
    "start_time": "2021-11-23T22:17:42.584Z"
   },
   {
    "duration": 65,
    "start_time": "2021-11-23T22:17:42.591Z"
   },
   {
    "duration": 7,
    "start_time": "2021-11-23T22:17:42.659Z"
   },
   {
    "duration": 1582,
    "start_time": "2021-11-23T22:17:42.668Z"
   },
   {
    "duration": 4,
    "start_time": "2021-11-23T22:17:44.253Z"
   },
   {
    "duration": 3861,
    "start_time": "2021-11-23T22:17:44.259Z"
   },
   {
    "duration": 7,
    "start_time": "2021-11-23T22:17:59.046Z"
   },
   {
    "duration": 6,
    "start_time": "2021-11-23T22:19:04.123Z"
   },
   {
    "duration": 999,
    "start_time": "2021-11-23T22:19:13.362Z"
   },
   {
    "duration": 6,
    "start_time": "2021-11-23T22:20:44.355Z"
   },
   {
    "duration": 671,
    "start_time": "2021-11-23T22:20:46.366Z"
   },
   {
    "duration": 80,
    "start_time": "2021-11-23T22:21:13.402Z"
   },
   {
    "duration": 6,
    "start_time": "2021-11-23T22:21:30.038Z"
   },
   {
    "duration": 272,
    "start_time": "2021-11-23T22:21:32.559Z"
   },
   {
    "duration": 7,
    "start_time": "2021-11-23T22:22:13.241Z"
   },
   {
    "duration": 6,
    "start_time": "2021-11-23T22:22:18.689Z"
   },
   {
    "duration": 669,
    "start_time": "2021-11-23T22:22:21.701Z"
   },
   {
    "duration": 9,
    "start_time": "2021-11-23T22:22:35.481Z"
   },
   {
    "duration": 1892,
    "start_time": "2021-11-23T22:36:49.278Z"
   },
   {
    "duration": 1479,
    "start_time": "2021-11-23T22:37:03.026Z"
   },
   {
    "duration": 1513,
    "start_time": "2021-11-23T22:37:16.706Z"
   },
   {
    "duration": 128,
    "start_time": "2021-11-23T22:38:08.254Z"
   },
   {
    "duration": 23,
    "start_time": "2021-11-23T22:38:08.385Z"
   },
   {
    "duration": 15,
    "start_time": "2021-11-23T22:38:08.412Z"
   },
   {
    "duration": 27,
    "start_time": "2021-11-23T22:38:08.431Z"
   },
   {
    "duration": 50,
    "start_time": "2021-11-23T22:38:08.460Z"
   },
   {
    "duration": 25,
    "start_time": "2021-11-23T22:38:08.512Z"
   },
   {
    "duration": 15,
    "start_time": "2021-11-23T22:38:08.540Z"
   },
   {
    "duration": 41,
    "start_time": "2021-11-23T22:38:08.560Z"
   },
   {
    "duration": 73,
    "start_time": "2021-11-23T22:38:08.605Z"
   },
   {
    "duration": 48,
    "start_time": "2021-11-23T22:38:08.681Z"
   },
   {
    "duration": 28,
    "start_time": "2021-11-23T22:38:08.731Z"
   },
   {
    "duration": 5,
    "start_time": "2021-11-23T22:38:08.761Z"
   },
   {
    "duration": 1880,
    "start_time": "2021-11-23T22:38:08.768Z"
   },
   {
    "duration": 5,
    "start_time": "2021-11-23T22:38:10.650Z"
   },
   {
    "duration": 29,
    "start_time": "2021-11-23T22:38:10.657Z"
   },
   {
    "duration": 126,
    "start_time": "2021-11-23T22:38:23.143Z"
   },
   {
    "duration": 8544,
    "start_time": "2021-11-23T22:38:29.561Z"
   },
   {
    "duration": 122,
    "start_time": "2021-11-23T22:38:49.136Z"
   },
   {
    "duration": 127,
    "start_time": "2021-11-23T22:46:50.488Z"
   },
   {
    "duration": 8084,
    "start_time": "2021-11-23T22:47:11.048Z"
   },
   {
    "duration": 126,
    "start_time": "2021-11-23T22:47:28.179Z"
   },
   {
    "duration": 18,
    "start_time": "2021-11-23T22:47:28.307Z"
   },
   {
    "duration": 15,
    "start_time": "2021-11-23T22:47:28.328Z"
   },
   {
    "duration": 23,
    "start_time": "2021-11-23T22:47:28.345Z"
   },
   {
    "duration": 38,
    "start_time": "2021-11-23T22:47:28.370Z"
   },
   {
    "duration": 24,
    "start_time": "2021-11-23T22:47:28.410Z"
   },
   {
    "duration": 7,
    "start_time": "2021-11-23T22:47:28.436Z"
   },
   {
    "duration": 40,
    "start_time": "2021-11-23T22:47:28.447Z"
   },
   {
    "duration": 78,
    "start_time": "2021-11-23T22:47:28.490Z"
   },
   {
    "duration": 5,
    "start_time": "2021-11-23T22:47:28.570Z"
   },
   {
    "duration": 61,
    "start_time": "2021-11-23T22:47:28.577Z"
   },
   {
    "duration": 22,
    "start_time": "2021-11-23T22:47:28.640Z"
   },
   {
    "duration": 1772,
    "start_time": "2021-11-23T22:47:28.665Z"
   },
   {
    "duration": 5,
    "start_time": "2021-11-23T22:47:30.439Z"
   },
   {
    "duration": 19,
    "start_time": "2021-11-23T22:47:30.446Z"
   },
   {
    "duration": 11,
    "start_time": "2021-11-23T22:48:57.574Z"
   },
   {
    "duration": 7,
    "start_time": "2021-11-23T22:49:10.068Z"
   },
   {
    "duration": 6,
    "start_time": "2021-11-23T22:49:18.870Z"
   },
   {
    "duration": 6,
    "start_time": "2021-11-23T22:49:20.396Z"
   },
   {
    "duration": 10,
    "start_time": "2021-11-23T22:49:28.035Z"
   },
   {
    "duration": 5,
    "start_time": "2021-11-23T22:49:29.602Z"
   },
   {
    "duration": 308,
    "start_time": "2021-11-23T22:49:33.828Z"
   },
   {
    "duration": 321,
    "start_time": "2021-11-23T22:51:21.216Z"
   },
   {
    "duration": 502,
    "start_time": "2021-11-23T22:51:46.193Z"
   },
   {
    "duration": 376,
    "start_time": "2021-11-23T22:52:08.731Z"
   },
   {
    "duration": 92,
    "start_time": "2021-11-23T22:54:30.559Z"
   },
   {
    "duration": 30,
    "start_time": "2021-11-23T22:54:34.990Z"
   },
   {
    "duration": 38,
    "start_time": "2021-11-23T22:55:16.989Z"
   },
   {
    "duration": 10,
    "start_time": "2021-11-23T22:55:50.672Z"
   },
   {
    "duration": 8,
    "start_time": "2021-11-23T22:55:55.135Z"
   },
   {
    "duration": 20,
    "start_time": "2021-11-23T22:56:23.718Z"
   },
   {
    "duration": 43,
    "start_time": "2021-11-23T22:56:58.415Z"
   },
   {
    "duration": 30,
    "start_time": "2021-11-23T23:03:04.563Z"
   },
   {
    "duration": 8,
    "start_time": "2021-11-23T23:05:03.301Z"
   },
   {
    "duration": 12,
    "start_time": "2021-11-23T23:05:33.523Z"
   },
   {
    "duration": 7025,
    "start_time": "2021-11-23T23:06:00.831Z"
   },
   {
    "duration": 12,
    "start_time": "2021-11-23T23:06:12.769Z"
   },
   {
    "duration": 15,
    "start_time": "2021-11-23T23:06:34.698Z"
   },
   {
    "duration": 15,
    "start_time": "2021-11-23T23:06:58.776Z"
   },
   {
    "duration": 35,
    "start_time": "2021-11-23T23:09:40.296Z"
   },
   {
    "duration": 16,
    "start_time": "2021-11-23T23:10:14.497Z"
   },
   {
    "duration": 16,
    "start_time": "2021-11-23T23:10:25.764Z"
   },
   {
    "duration": 36,
    "start_time": "2021-11-23T23:18:10.453Z"
   },
   {
    "duration": 11,
    "start_time": "2021-11-23T23:20:50.581Z"
   },
   {
    "duration": 23,
    "start_time": "2021-11-23T23:21:16.889Z"
   },
   {
    "duration": 1772,
    "start_time": "2021-11-23T23:21:33.592Z"
   },
   {
    "duration": 1789,
    "start_time": "2021-11-23T23:21:37.573Z"
   },
   {
    "duration": 1755,
    "start_time": "2021-11-23T23:21:41.561Z"
   },
   {
    "duration": 1839,
    "start_time": "2021-11-23T23:21:45.330Z"
   },
   {
    "duration": 22,
    "start_time": "2021-11-23T23:21:48.445Z"
   },
   {
    "duration": 22,
    "start_time": "2021-11-23T23:22:54.336Z"
   },
   {
    "duration": 21,
    "start_time": "2021-11-23T23:25:49.829Z"
   },
   {
    "duration": 22,
    "start_time": "2021-11-23T23:25:51.919Z"
   },
   {
    "duration": 22,
    "start_time": "2021-11-23T23:25:56.221Z"
   },
   {
    "duration": -2546,
    "start_time": "2021-11-23T23:26:53.285Z"
   },
   {
    "duration": 39,
    "start_time": "2021-11-23T23:26:52.494Z"
   },
   {
    "duration": 6537,
    "start_time": "2021-11-23T23:27:02.017Z"
   },
   {
    "duration": -518,
    "start_time": "2021-11-23T23:27:09.074Z"
   },
   {
    "duration": 7,
    "start_time": "2021-11-23T23:27:15.626Z"
   },
   {
    "duration": 39,
    "start_time": "2021-11-23T23:27:17.673Z"
   },
   {
    "duration": 7,
    "start_time": "2021-11-23T23:27:26.096Z"
   },
   {
    "duration": 9,
    "start_time": "2021-11-23T23:28:18.956Z"
   },
   {
    "duration": 259,
    "start_time": "2021-11-23T23:32:33.058Z"
   },
   {
    "duration": 260,
    "start_time": "2021-11-23T23:32:39.283Z"
   },
   {
    "duration": 265,
    "start_time": "2021-11-23T23:33:32.046Z"
   },
   {
    "duration": 251,
    "start_time": "2021-11-23T23:34:26.632Z"
   },
   {
    "duration": 255,
    "start_time": "2021-11-23T23:34:33.732Z"
   },
   {
    "duration": 273,
    "start_time": "2021-11-23T23:34:49.769Z"
   },
   {
    "duration": 289,
    "start_time": "2021-11-23T23:36:22.750Z"
   },
   {
    "duration": 8,
    "start_time": "2021-11-23T23:36:31.078Z"
   },
   {
    "duration": 23,
    "start_time": "2021-11-23T23:36:39.082Z"
   },
   {
    "duration": 16,
    "start_time": "2021-11-23T23:36:48.313Z"
   },
   {
    "duration": 1273,
    "start_time": "2021-11-23T23:46:18.568Z"
   },
   {
    "duration": 1195,
    "start_time": "2021-11-23T23:46:36.636Z"
   },
   {
    "duration": 259,
    "start_time": "2021-11-23T23:46:57.612Z"
   },
   {
    "duration": 5,
    "start_time": "2021-11-23T23:47:56.679Z"
   },
   {
    "duration": 6067,
    "start_time": "2021-11-23T23:50:52.625Z"
   },
   {
    "duration": 32,
    "start_time": "2021-11-23T23:51:08.273Z"
   },
   {
    "duration": 46,
    "start_time": "2021-11-23T23:51:39.307Z"
   },
   {
    "duration": 44,
    "start_time": "2021-11-23T23:52:09.190Z"
   },
   {
    "duration": 26,
    "start_time": "2021-11-23T23:52:40.453Z"
   },
   {
    "duration": 28,
    "start_time": "2021-11-23T23:52:57.683Z"
   },
   {
    "duration": 17,
    "start_time": "2021-11-23T23:53:13.299Z"
   },
   {
    "duration": 38,
    "start_time": "2021-11-23T23:53:24.450Z"
   },
   {
    "duration": 131,
    "start_time": "2021-11-23T23:53:30.015Z"
   },
   {
    "duration": 21,
    "start_time": "2021-11-23T23:53:30.150Z"
   },
   {
    "duration": 10,
    "start_time": "2021-11-23T23:53:30.174Z"
   },
   {
    "duration": 43,
    "start_time": "2021-11-23T23:53:30.186Z"
   },
   {
    "duration": 22,
    "start_time": "2021-11-23T23:53:30.231Z"
   },
   {
    "duration": 27,
    "start_time": "2021-11-23T23:53:30.256Z"
   },
   {
    "duration": 8,
    "start_time": "2021-11-23T23:53:30.285Z"
   },
   {
    "duration": 61,
    "start_time": "2021-11-23T23:53:30.297Z"
   },
   {
    "duration": 17,
    "start_time": "2021-11-23T23:53:30.362Z"
   },
   {
    "duration": 90,
    "start_time": "2021-11-23T23:53:30.382Z"
   },
   {
    "duration": 5,
    "start_time": "2021-11-23T23:53:30.474Z"
   },
   {
    "duration": 65,
    "start_time": "2021-11-23T23:53:30.481Z"
   },
   {
    "duration": 21,
    "start_time": "2021-11-23T23:53:30.548Z"
   },
   {
    "duration": 1620,
    "start_time": "2021-11-23T23:53:30.572Z"
   },
   {
    "duration": 16,
    "start_time": "2021-11-23T23:53:32.194Z"
   },
   {
    "duration": 1155,
    "start_time": "2021-11-23T23:53:32.213Z"
   },
   {
    "duration": 15,
    "start_time": "2021-11-23T23:53:33.370Z"
   },
   {
    "duration": 59,
    "start_time": "2021-11-23T23:53:33.387Z"
   },
   {
    "duration": 19,
    "start_time": "2021-11-23T23:53:55.931Z"
   },
   {
    "duration": 20,
    "start_time": "2021-11-23T23:54:01.317Z"
   },
   {
    "duration": 21,
    "start_time": "2021-11-23T23:54:13.847Z"
   },
   {
    "duration": 23,
    "start_time": "2021-11-23T23:54:19.357Z"
   },
   {
    "duration": 9,
    "start_time": "2021-11-23T23:54:32.282Z"
   },
   {
    "duration": 6577,
    "start_time": "2021-11-23T23:56:51.238Z"
   },
   {
    "duration": 24,
    "start_time": "2021-11-23T23:57:43.061Z"
   },
   {
    "duration": 10,
    "start_time": "2021-11-23T23:57:50.230Z"
   },
   {
    "duration": 85,
    "start_time": "2021-11-23T23:58:35.313Z"
   },
   {
    "duration": 352,
    "start_time": "2021-11-23T23:58:50.160Z"
   },
   {
    "duration": 258,
    "start_time": "2021-11-24T00:07:30.039Z"
   },
   {
    "duration": 21,
    "start_time": "2021-11-24T00:07:42.132Z"
   },
   {
    "duration": 23,
    "start_time": "2021-11-24T00:07:59.542Z"
   },
   {
    "duration": 276,
    "start_time": "2021-11-24T00:08:29.281Z"
   },
   {
    "duration": 318,
    "start_time": "2021-11-24T00:08:34.180Z"
   },
   {
    "duration": 347,
    "start_time": "2021-11-24T00:09:04.289Z"
   },
   {
    "duration": 314,
    "start_time": "2021-11-24T00:09:25.691Z"
   },
   {
    "duration": 6738,
    "start_time": "2021-11-24T00:09:52.117Z"
   },
   {
    "duration": -1174,
    "start_time": "2021-11-24T00:10:09.085Z"
   },
   {
    "duration": 426,
    "start_time": "2021-11-24T00:10:23.116Z"
   },
   {
    "duration": 316,
    "start_time": "2021-11-24T00:11:13.586Z"
   },
   {
    "duration": 300,
    "start_time": "2021-11-24T00:11:28.873Z"
   },
   {
    "duration": 315,
    "start_time": "2021-11-24T00:11:41.614Z"
   },
   {
    "duration": 124,
    "start_time": "2021-11-24T00:13:38.178Z"
   },
   {
    "duration": 18,
    "start_time": "2021-11-24T00:13:38.304Z"
   },
   {
    "duration": 8,
    "start_time": "2021-11-24T00:13:38.325Z"
   },
   {
    "duration": 10,
    "start_time": "2021-11-24T00:13:38.336Z"
   },
   {
    "duration": 22,
    "start_time": "2021-11-24T00:13:38.348Z"
   },
   {
    "duration": 56,
    "start_time": "2021-11-24T00:13:38.373Z"
   },
   {
    "duration": 9,
    "start_time": "2021-11-24T00:13:38.432Z"
   },
   {
    "duration": 30,
    "start_time": "2021-11-24T00:13:38.448Z"
   },
   {
    "duration": 52,
    "start_time": "2021-11-24T00:13:38.482Z"
   },
   {
    "duration": 67,
    "start_time": "2021-11-24T00:13:38.536Z"
   },
   {
    "duration": 6,
    "start_time": "2021-11-24T00:13:38.629Z"
   },
   {
    "duration": 29,
    "start_time": "2021-11-24T00:13:38.638Z"
   },
   {
    "duration": 6,
    "start_time": "2021-11-24T00:13:38.670Z"
   },
   {
    "duration": 1870,
    "start_time": "2021-11-24T00:13:38.679Z"
   },
   {
    "duration": 16,
    "start_time": "2021-11-24T00:13:40.552Z"
   },
   {
    "duration": 17,
    "start_time": "2021-11-24T00:13:40.570Z"
   },
   {
    "duration": 9,
    "start_time": "2021-11-24T00:13:40.589Z"
   },
   {
    "duration": 37,
    "start_time": "2021-11-24T00:13:40.600Z"
   },
   {
    "duration": 376,
    "start_time": "2021-11-24T00:13:40.639Z"
   },
   {
    "duration": 312,
    "start_time": "2021-11-24T00:13:41.029Z"
   },
   {
    "duration": 44,
    "start_time": "2021-11-24T00:17:22.898Z"
   },
   {
    "duration": 283,
    "start_time": "2021-11-24T00:17:56.831Z"
   },
   {
    "duration": 6,
    "start_time": "2021-11-24T00:18:16.821Z"
   },
   {
    "duration": 266,
    "start_time": "2021-11-24T00:18:23.131Z"
   },
   {
    "duration": 5,
    "start_time": "2021-11-24T00:18:29.508Z"
   },
   {
    "duration": 11,
    "start_time": "2021-11-24T00:19:01.472Z"
   },
   {
    "duration": 97,
    "start_time": "2021-11-24T00:20:34.279Z"
   },
   {
    "duration": 10,
    "start_time": "2021-11-24T00:20:45.072Z"
   },
   {
    "duration": 9,
    "start_time": "2021-11-24T00:20:53.224Z"
   },
   {
    "duration": 10,
    "start_time": "2021-11-24T00:21:03.290Z"
   },
   {
    "duration": 8,
    "start_time": "2021-11-24T00:21:06.608Z"
   },
   {
    "duration": 8,
    "start_time": "2021-11-24T00:21:13.375Z"
   },
   {
    "duration": 9,
    "start_time": "2021-11-24T00:21:19.343Z"
   },
   {
    "duration": 8,
    "start_time": "2021-11-24T00:21:27.032Z"
   },
   {
    "duration": 308,
    "start_time": "2021-11-24T00:22:39.683Z"
   },
   {
    "duration": 6685,
    "start_time": "2021-11-24T00:24:54.834Z"
   },
   {
    "duration": 302,
    "start_time": "2021-11-24T00:25:37.804Z"
   },
   {
    "duration": 455,
    "start_time": "2021-11-24T00:25:56.419Z"
   },
   {
    "duration": 318,
    "start_time": "2021-11-24T00:26:27.418Z"
   },
   {
    "duration": 333,
    "start_time": "2021-11-24T00:26:51.931Z"
   },
   {
    "duration": 316,
    "start_time": "2021-11-24T00:27:28.394Z"
   },
   {
    "duration": 347,
    "start_time": "2021-11-24T00:27:45.802Z"
   },
   {
    "duration": 36,
    "start_time": "2021-11-24T00:30:51.705Z"
   },
   {
    "duration": 97,
    "start_time": "2021-11-24T00:32:05.555Z"
   },
   {
    "duration": 672,
    "start_time": "2021-11-24T00:32:11.749Z"
   },
   {
    "duration": 34,
    "start_time": "2021-11-24T00:32:21.880Z"
   },
   {
    "duration": 1038,
    "start_time": "2021-11-24T00:32:45.731Z"
   },
   {
    "duration": 27,
    "start_time": "2021-11-24T00:33:01.782Z"
   },
   {
    "duration": 32,
    "start_time": "2021-11-24T00:33:13.486Z"
   },
   {
    "duration": 1066,
    "start_time": "2021-11-24T00:33:32.022Z"
   },
   {
    "duration": 32,
    "start_time": "2021-11-24T00:33:41.058Z"
   },
   {
    "duration": 32,
    "start_time": "2021-11-24T00:33:52.120Z"
   },
   {
    "duration": 318,
    "start_time": "2021-11-24T00:37:08.703Z"
   },
   {
    "duration": 309,
    "start_time": "2021-11-24T00:37:18.962Z"
   },
   {
    "duration": 317,
    "start_time": "2021-11-24T00:37:43.079Z"
   },
   {
    "duration": 339,
    "start_time": "2021-11-24T00:38:31.957Z"
   },
   {
    "duration": 326,
    "start_time": "2021-11-24T00:38:44.193Z"
   },
   {
    "duration": 357,
    "start_time": "2021-11-24T00:39:22.017Z"
   },
   {
    "duration": 256,
    "start_time": "2021-11-24T00:41:13.527Z"
   },
   {
    "duration": 322,
    "start_time": "2021-11-24T00:41:32.730Z"
   },
   {
    "duration": 265,
    "start_time": "2021-11-24T00:41:48.941Z"
   },
   {
    "duration": 276,
    "start_time": "2021-11-24T00:42:39.977Z"
   },
   {
    "duration": 255,
    "start_time": "2021-11-24T00:42:58.008Z"
   },
   {
    "duration": 260,
    "start_time": "2021-11-24T00:43:11.269Z"
   },
   {
    "duration": 42,
    "start_time": "2021-11-24T00:43:28.898Z"
   },
   {
    "duration": 6465,
    "start_time": "2021-11-24T00:43:36.380Z"
   },
   {
    "duration": 85806,
    "start_time": "2021-11-24T00:44:13.646Z"
   },
   {
    "duration": 308,
    "start_time": "2021-11-24T00:47:27.006Z"
   },
   {
    "duration": 332,
    "start_time": "2021-11-24T00:47:58.281Z"
   },
   {
    "duration": 587,
    "start_time": "2021-11-24T00:49:45.576Z"
   },
   {
    "duration": 320,
    "start_time": "2021-11-24T00:50:22.586Z"
   },
   {
    "duration": 91,
    "start_time": "2021-11-24T00:59:15.679Z"
   },
   {
    "duration": 605,
    "start_time": "2021-11-24T00:59:36.383Z"
   },
   {
    "duration": 581,
    "start_time": "2021-11-24T01:00:20.145Z"
   },
   {
    "duration": 580,
    "start_time": "2021-11-24T01:00:33.862Z"
   },
   {
    "duration": 1598,
    "start_time": "2021-11-24T01:01:07.772Z"
   },
   {
    "duration": 2076,
    "start_time": "2021-11-24T01:01:28.694Z"
   },
   {
    "duration": 27,
    "start_time": "2021-11-24T01:02:17.222Z"
   },
   {
    "duration": 33,
    "start_time": "2021-11-24T01:02:41.058Z"
   },
   {
    "duration": 35,
    "start_time": "2021-11-24T01:03:00.811Z"
   },
   {
    "duration": 348,
    "start_time": "2021-11-24T01:03:31.646Z"
   },
   {
    "duration": 37,
    "start_time": "2021-11-24T01:03:53.509Z"
   },
   {
    "duration": 35,
    "start_time": "2021-11-24T01:04:19.466Z"
   },
   {
    "duration": 35,
    "start_time": "2021-11-24T01:04:42.738Z"
   },
   {
    "duration": 34,
    "start_time": "2021-11-24T01:04:50.951Z"
   },
   {
    "duration": 40,
    "start_time": "2021-11-24T01:05:00.454Z"
   },
   {
    "duration": 38,
    "start_time": "2021-11-24T01:06:28.346Z"
   },
   {
    "duration": 34,
    "start_time": "2021-11-24T01:06:41.937Z"
   },
   {
    "duration": 301,
    "start_time": "2021-11-24T01:06:46.124Z"
   },
   {
    "duration": 37,
    "start_time": "2021-11-24T01:06:51.635Z"
   },
   {
    "duration": 34,
    "start_time": "2021-11-24T01:06:59.885Z"
   },
   {
    "duration": 1654,
    "start_time": "2021-11-24T01:08:10.742Z"
   },
   {
    "duration": 35,
    "start_time": "2021-11-24T01:08:30.005Z"
   },
   {
    "duration": 35,
    "start_time": "2021-11-24T01:09:19.777Z"
   },
   {
    "duration": 36,
    "start_time": "2021-11-24T01:09:29.859Z"
   },
   {
    "duration": 377,
    "start_time": "2021-11-24T01:09:42.911Z"
   },
   {
    "duration": 38,
    "start_time": "2021-11-24T01:09:53.987Z"
   },
   {
    "duration": 999,
    "start_time": "2021-11-24T01:12:30.799Z"
   },
   {
    "duration": 543,
    "start_time": "2021-11-24T01:12:55.579Z"
   },
   {
    "duration": 307,
    "start_time": "2021-11-24T01:13:08.987Z"
   },
   {
    "duration": 333,
    "start_time": "2021-11-24T01:14:08.743Z"
   },
   {
    "duration": 37,
    "start_time": "2021-11-24T01:14:25.884Z"
   },
   {
    "duration": 456,
    "start_time": "2021-11-24T01:14:54.947Z"
   },
   {
    "duration": 30,
    "start_time": "2021-11-24T01:15:11.856Z"
   },
   {
    "duration": 35,
    "start_time": "2021-11-24T01:15:18.609Z"
   },
   {
    "duration": 287,
    "start_time": "2021-11-24T01:15:34.987Z"
   },
   {
    "duration": 35,
    "start_time": "2021-11-24T01:15:53.310Z"
   },
   {
    "duration": 70,
    "start_time": "2021-11-24T01:18:56.772Z"
   },
   {
    "duration": 68,
    "start_time": "2021-11-24T01:19:20.904Z"
   },
   {
    "duration": 314,
    "start_time": "2021-11-24T01:20:08.216Z"
   },
   {
    "duration": 70,
    "start_time": "2021-11-24T01:20:26.155Z"
   },
   {
    "duration": 43,
    "start_time": "2021-11-24T01:23:36.060Z"
   },
   {
    "duration": 71,
    "start_time": "2021-11-24T01:24:00.530Z"
   },
   {
    "duration": 13,
    "start_time": "2021-11-24T01:24:03.630Z"
   },
   {
    "duration": 6169,
    "start_time": "2021-11-24T01:24:09.169Z"
   },
   {
    "duration": 81,
    "start_time": "2021-11-24T01:24:41.086Z"
   },
   {
    "duration": 6423,
    "start_time": "2021-11-24T01:24:42.603Z"
   },
   {
    "duration": 71,
    "start_time": "2021-11-24T01:24:52.728Z"
   },
   {
    "duration": 28,
    "start_time": "2021-11-24T01:34:31.726Z"
   },
   {
    "duration": 33,
    "start_time": "2021-11-24T01:34:36.045Z"
   },
   {
    "duration": 300,
    "start_time": "2021-11-24T01:34:57.690Z"
   },
   {
    "duration": 450,
    "start_time": "2021-11-24T01:35:09.223Z"
   },
   {
    "duration": 6431,
    "start_time": "2021-11-24T01:35:36.913Z"
   },
   {
    "duration": 333,
    "start_time": "2021-11-24T01:35:54.018Z"
   },
   {
    "duration": 33,
    "start_time": "2021-11-24T01:36:33.807Z"
   },
   {
    "duration": 424,
    "start_time": "2021-11-24T01:38:45.219Z"
   },
   {
    "duration": 266,
    "start_time": "2021-11-24T01:39:07.173Z"
   },
   {
    "duration": 12,
    "start_time": "2021-11-24T01:39:16.412Z"
   },
   {
    "duration": 13,
    "start_time": "2021-11-24T01:39:41.737Z"
   },
   {
    "duration": 27,
    "start_time": "2021-11-24T01:40:02.946Z"
   },
   {
    "duration": 13,
    "start_time": "2021-11-24T01:40:15.166Z"
   },
   {
    "duration": 275,
    "start_time": "2021-11-24T01:40:17.945Z"
   },
   {
    "duration": 323,
    "start_time": "2021-11-24T01:40:26.636Z"
   },
   {
    "duration": 10,
    "start_time": "2021-11-24T01:40:43.832Z"
   },
   {
    "duration": 12,
    "start_time": "2021-11-24T01:40:59.680Z"
   },
   {
    "duration": 49,
    "start_time": "2021-11-24T01:42:03.683Z"
   },
   {
    "duration": 94,
    "start_time": "2021-11-24T01:43:46.979Z"
   },
   {
    "duration": 13,
    "start_time": "2021-11-24T01:43:59.966Z"
   },
   {
    "duration": 13,
    "start_time": "2021-11-24T01:44:23.618Z"
   },
   {
    "duration": 11,
    "start_time": "2021-11-24T01:44:30.029Z"
   },
   {
    "duration": 16,
    "start_time": "2021-11-24T01:44:35.506Z"
   },
   {
    "duration": 28,
    "start_time": "2021-11-24T01:49:04.018Z"
   },
   {
    "duration": 256,
    "start_time": "2021-11-24T01:49:29.723Z"
   },
   {
    "duration": 274,
    "start_time": "2021-11-24T01:49:35.357Z"
   },
   {
    "duration": 267,
    "start_time": "2021-11-24T01:50:03.112Z"
   },
   {
    "duration": 29,
    "start_time": "2021-11-24T01:50:29.578Z"
   },
   {
    "duration": 28,
    "start_time": "2021-11-24T01:51:30.866Z"
   },
   {
    "duration": 27,
    "start_time": "2021-11-24T01:52:24.319Z"
   },
   {
    "duration": 18,
    "start_time": "2021-11-24T01:52:56.908Z"
   },
   {
    "duration": 17,
    "start_time": "2021-11-24T01:53:22.296Z"
   },
   {
    "duration": 26,
    "start_time": "2021-11-24T01:53:26.840Z"
   },
   {
    "duration": 23,
    "start_time": "2021-11-24T01:53:41.412Z"
   },
   {
    "duration": 18,
    "start_time": "2021-11-24T01:53:54.949Z"
   },
   {
    "duration": 18,
    "start_time": "2021-11-24T01:54:00.328Z"
   },
   {
    "duration": 20,
    "start_time": "2021-11-24T01:54:15.063Z"
   },
   {
    "duration": 285,
    "start_time": "2021-11-24T01:54:30.100Z"
   },
   {
    "duration": 23,
    "start_time": "2021-11-24T01:54:40.680Z"
   },
   {
    "duration": 23,
    "start_time": "2021-11-24T01:54:48.614Z"
   },
   {
    "duration": 22,
    "start_time": "2021-11-24T01:54:54.814Z"
   },
   {
    "duration": 280,
    "start_time": "2021-11-24T01:55:18.273Z"
   },
   {
    "duration": 24,
    "start_time": "2021-11-24T01:55:26.818Z"
   },
   {
    "duration": 33,
    "start_time": "2021-11-24T01:55:53.261Z"
   },
   {
    "duration": 98,
    "start_time": "2021-11-24T01:56:24.632Z"
   },
   {
    "duration": 85,
    "start_time": "2021-11-24T01:56:30.600Z"
   },
   {
    "duration": 28,
    "start_time": "2021-11-24T01:57:06.291Z"
   },
   {
    "duration": 28,
    "start_time": "2021-11-24T01:57:20.342Z"
   },
   {
    "duration": 28,
    "start_time": "2021-11-24T01:57:31.547Z"
   },
   {
    "duration": 29,
    "start_time": "2021-11-24T01:57:40.377Z"
   },
   {
    "duration": 279,
    "start_time": "2021-11-24T01:58:35.341Z"
   },
   {
    "duration": 259,
    "start_time": "2021-11-24T01:58:39.234Z"
   },
   {
    "duration": 30,
    "start_time": "2021-11-24T02:00:19.541Z"
   },
   {
    "duration": 20,
    "start_time": "2021-11-24T02:00:27.573Z"
   },
   {
    "duration": 32,
    "start_time": "2021-11-24T02:00:58.921Z"
   },
   {
    "duration": 32,
    "start_time": "2021-11-24T02:01:19.869Z"
   },
   {
    "duration": 31,
    "start_time": "2021-11-24T02:03:25.306Z"
   },
   {
    "duration": 22,
    "start_time": "2021-11-24T02:05:02.931Z"
   },
   {
    "duration": 32,
    "start_time": "2021-11-24T02:07:55.683Z"
   },
   {
    "duration": 21,
    "start_time": "2021-11-24T02:07:57.877Z"
   },
   {
    "duration": -2125,
    "start_time": "2021-11-24T02:08:19.088Z"
   },
   {
    "duration": 7,
    "start_time": "2021-11-24T02:08:36.362Z"
   },
   {
    "duration": 87,
    "start_time": "2021-11-24T02:11:25.319Z"
   },
   {
    "duration": 10,
    "start_time": "2021-11-24T02:11:28.217Z"
   },
   {
    "duration": 257,
    "start_time": "2021-11-24T02:11:45.991Z"
   },
   {
    "duration": 319,
    "start_time": "2021-11-24T02:11:52.188Z"
   },
   {
    "duration": 247,
    "start_time": "2021-11-24T02:12:07.010Z"
   },
   {
    "duration": 524,
    "start_time": "2021-11-24T02:12:11.662Z"
   },
   {
    "duration": 494,
    "start_time": "2021-11-24T02:12:42.107Z"
   },
   {
    "duration": -837,
    "start_time": "2021-11-24T02:13:35.205Z"
   },
   {
    "duration": 13,
    "start_time": "2021-11-24T02:13:37.114Z"
   },
   {
    "duration": 9,
    "start_time": "2021-11-24T02:14:07.061Z"
   },
   {
    "duration": 84,
    "start_time": "2021-11-24T02:16:51.894Z"
   },
   {
    "duration": 8,
    "start_time": "2021-11-24T02:17:09.543Z"
   },
   {
    "duration": 284,
    "start_time": "2021-11-24T02:18:38.622Z"
   },
   {
    "duration": 24,
    "start_time": "2021-11-24T02:19:49.675Z"
   },
   {
    "duration": 273,
    "start_time": "2021-11-24T02:20:04.313Z"
   },
   {
    "duration": 293,
    "start_time": "2021-11-24T02:20:18.767Z"
   },
   {
    "duration": 273,
    "start_time": "2021-11-24T02:20:35.136Z"
   },
   {
    "duration": 123,
    "start_time": "2021-11-24T02:20:39.084Z"
   },
   {
    "duration": 19,
    "start_time": "2021-11-24T02:20:39.210Z"
   },
   {
    "duration": 9,
    "start_time": "2021-11-24T02:20:39.231Z"
   },
   {
    "duration": 10,
    "start_time": "2021-11-24T02:20:39.243Z"
   },
   {
    "duration": 24,
    "start_time": "2021-11-24T02:20:39.255Z"
   },
   {
    "duration": 58,
    "start_time": "2021-11-24T02:20:39.281Z"
   },
   {
    "duration": 7,
    "start_time": "2021-11-24T02:20:39.341Z"
   },
   {
    "duration": 30,
    "start_time": "2021-11-24T02:20:39.351Z"
   },
   {
    "duration": 46,
    "start_time": "2021-11-24T02:20:39.384Z"
   },
   {
    "duration": 63,
    "start_time": "2021-11-24T02:20:39.433Z"
   },
   {
    "duration": 35,
    "start_time": "2021-11-24T02:20:39.498Z"
   },
   {
    "duration": 30,
    "start_time": "2021-11-24T02:20:39.535Z"
   },
   {
    "duration": 6,
    "start_time": "2021-11-24T02:20:39.567Z"
   },
   {
    "duration": 1674,
    "start_time": "2021-11-24T02:20:39.575Z"
   },
   {
    "duration": 10,
    "start_time": "2021-11-24T02:20:41.251Z"
   },
   {
    "duration": 82,
    "start_time": "2021-11-24T02:20:41.263Z"
   },
   {
    "duration": 5,
    "start_time": "2021-11-24T02:20:41.348Z"
   },
   {
    "duration": 21,
    "start_time": "2021-11-24T02:20:41.355Z"
   },
   {
    "duration": 63,
    "start_time": "2021-11-24T02:20:41.378Z"
   },
   {
    "duration": 9,
    "start_time": "2021-11-24T02:20:41.443Z"
   },
   {
    "duration": 11,
    "start_time": "2021-11-24T02:20:41.454Z"
   },
   {
    "duration": 524,
    "start_time": "2021-11-24T02:20:41.467Z"
   },
   {
    "duration": 327,
    "start_time": "2021-11-24T02:20:41.995Z"
   },
   {
    "duration": 347,
    "start_time": "2021-11-24T02:20:42.328Z"
   },
   {
    "duration": 31,
    "start_time": "2021-11-24T02:20:42.677Z"
   },
   {
    "duration": 80,
    "start_time": "2021-11-24T02:20:42.711Z"
   },
   {
    "duration": 47,
    "start_time": "2021-11-24T02:20:42.794Z"
   },
   {
    "duration": 20,
    "start_time": "2021-11-24T02:20:42.843Z"
   },
   {
    "duration": 7,
    "start_time": "2021-11-24T02:20:42.866Z"
   },
   {
    "duration": 5,
    "start_time": "2021-11-24T02:21:43.595Z"
   },
   {
    "duration": 11,
    "start_time": "2021-11-24T02:21:49.252Z"
   },
   {
    "duration": 129,
    "start_time": "2021-11-24T02:22:36.179Z"
   },
   {
    "duration": 18,
    "start_time": "2021-11-24T02:22:36.311Z"
   },
   {
    "duration": 8,
    "start_time": "2021-11-24T02:22:36.332Z"
   },
   {
    "duration": 27,
    "start_time": "2021-11-24T02:22:36.343Z"
   },
   {
    "duration": 32,
    "start_time": "2021-11-24T02:22:36.372Z"
   },
   {
    "duration": 36,
    "start_time": "2021-11-24T02:22:36.406Z"
   },
   {
    "duration": 20,
    "start_time": "2021-11-24T02:22:36.445Z"
   },
   {
    "duration": 33,
    "start_time": "2021-11-24T02:22:36.469Z"
   },
   {
    "duration": 26,
    "start_time": "2021-11-24T02:22:36.505Z"
   },
   {
    "duration": 95,
    "start_time": "2021-11-24T02:22:36.534Z"
   },
   {
    "duration": 7,
    "start_time": "2021-11-24T02:22:36.631Z"
   },
   {
    "duration": 36,
    "start_time": "2021-11-24T02:22:36.640Z"
   },
   {
    "duration": 14,
    "start_time": "2021-11-24T02:22:36.678Z"
   },
   {
    "duration": 1505,
    "start_time": "2021-11-24T02:22:36.694Z"
   },
   {
    "duration": 10,
    "start_time": "2021-11-24T02:22:38.201Z"
   },
   {
    "duration": 21,
    "start_time": "2021-11-24T02:22:42.633Z"
   },
   {
    "duration": 20,
    "start_time": "2021-11-24T02:23:06.403Z"
   },
   {
    "duration": 123,
    "start_time": "2021-11-24T02:23:11.110Z"
   },
   {
    "duration": 19,
    "start_time": "2021-11-24T02:23:11.235Z"
   },
   {
    "duration": 8,
    "start_time": "2021-11-24T02:23:11.257Z"
   },
   {
    "duration": 11,
    "start_time": "2021-11-24T02:23:11.268Z"
   },
   {
    "duration": 54,
    "start_time": "2021-11-24T02:23:11.282Z"
   },
   {
    "duration": 24,
    "start_time": "2021-11-24T02:23:11.338Z"
   },
   {
    "duration": 7,
    "start_time": "2021-11-24T02:23:11.365Z"
   },
   {
    "duration": 60,
    "start_time": "2021-11-24T02:23:11.375Z"
   },
   {
    "duration": 17,
    "start_time": "2021-11-24T02:23:11.438Z"
   },
   {
    "duration": 89,
    "start_time": "2021-11-24T02:23:11.458Z"
   },
   {
    "duration": 5,
    "start_time": "2021-11-24T02:23:11.550Z"
   },
   {
    "duration": 30,
    "start_time": "2021-11-24T02:23:11.557Z"
   },
   {
    "duration": 40,
    "start_time": "2021-11-24T02:23:11.590Z"
   },
   {
    "duration": 1516,
    "start_time": "2021-11-24T02:23:11.633Z"
   },
   {
    "duration": 11,
    "start_time": "2021-11-24T02:23:13.151Z"
   },
   {
    "duration": 81,
    "start_time": "2021-11-24T02:23:36.734Z"
   },
   {
    "duration": 101,
    "start_time": "2021-11-24T02:26:57.142Z"
   },
   {
    "duration": 604,
    "start_time": "2021-11-24T02:31:11.679Z"
   },
   {
    "duration": 286,
    "start_time": "2021-11-24T02:31:28.280Z"
   },
   {
    "duration": 903,
    "start_time": "2021-11-24T02:32:05.839Z"
   },
   {
    "duration": 912,
    "start_time": "2021-11-24T02:32:16.931Z"
   },
   {
    "duration": 541,
    "start_time": "2021-11-24T02:32:34.654Z"
   },
   {
    "duration": 353,
    "start_time": "2021-11-24T02:33:45.254Z"
   },
   {
    "duration": 342,
    "start_time": "2021-11-24T02:33:54.482Z"
   },
   {
    "duration": 349,
    "start_time": "2021-11-24T02:34:05.689Z"
   },
   {
    "duration": 349,
    "start_time": "2021-11-24T02:34:19.476Z"
   },
   {
    "duration": 22,
    "start_time": "2021-11-24T02:34:57.813Z"
   },
   {
    "duration": 42,
    "start_time": "2021-11-24T02:35:35.838Z"
   },
   {
    "duration": 297,
    "start_time": "2021-11-24T02:36:13.099Z"
   },
   {
    "duration": 8,
    "start_time": "2021-11-24T02:36:24.736Z"
   },
   {
    "duration": 39,
    "start_time": "2021-11-24T02:36:45.311Z"
   },
   {
    "duration": 18,
    "start_time": "2021-11-24T02:37:00.981Z"
   },
   {
    "duration": 123,
    "start_time": "2021-11-24T02:37:21.489Z"
   },
   {
    "duration": 18,
    "start_time": "2021-11-24T02:37:21.615Z"
   },
   {
    "duration": 9,
    "start_time": "2021-11-24T02:37:21.636Z"
   },
   {
    "duration": 15,
    "start_time": "2021-11-24T02:37:21.647Z"
   },
   {
    "duration": 21,
    "start_time": "2021-11-24T02:37:21.664Z"
   },
   {
    "duration": 50,
    "start_time": "2021-11-24T02:37:21.688Z"
   },
   {
    "duration": 8,
    "start_time": "2021-11-24T02:37:21.740Z"
   },
   {
    "duration": 35,
    "start_time": "2021-11-24T02:37:21.751Z"
   },
   {
    "duration": 43,
    "start_time": "2021-11-24T02:37:21.789Z"
   },
   {
    "duration": 100,
    "start_time": "2021-11-24T02:37:21.834Z"
   },
   {
    "duration": 5,
    "start_time": "2021-11-24T02:37:21.936Z"
   },
   {
    "duration": 36,
    "start_time": "2021-11-24T02:37:21.943Z"
   },
   {
    "duration": 1541,
    "start_time": "2021-11-24T02:37:21.982Z"
   },
   {
    "duration": 38,
    "start_time": "2021-11-24T02:37:26.047Z"
   },
   {
    "duration": 36,
    "start_time": "2021-11-24T02:37:32.322Z"
   },
   {
    "duration": 128,
    "start_time": "2021-11-24T02:38:41.126Z"
   },
   {
    "duration": 22,
    "start_time": "2021-11-24T02:38:41.258Z"
   },
   {
    "duration": 10,
    "start_time": "2021-11-24T02:38:41.284Z"
   },
   {
    "duration": 11,
    "start_time": "2021-11-24T02:38:41.328Z"
   },
   {
    "duration": 24,
    "start_time": "2021-11-24T02:38:41.342Z"
   },
   {
    "duration": 26,
    "start_time": "2021-11-24T02:38:41.368Z"
   },
   {
    "duration": 36,
    "start_time": "2021-11-24T02:38:41.396Z"
   },
   {
    "duration": 30,
    "start_time": "2021-11-24T02:38:41.436Z"
   },
   {
    "duration": 16,
    "start_time": "2021-11-24T02:38:41.469Z"
   },
   {
    "duration": 95,
    "start_time": "2021-11-24T02:38:41.488Z"
   },
   {
    "duration": 6,
    "start_time": "2021-11-24T02:38:41.585Z"
   },
   {
    "duration": 63,
    "start_time": "2021-11-24T02:38:41.593Z"
   },
   {
    "duration": 1518,
    "start_time": "2021-11-24T02:38:41.659Z"
   },
   {
    "duration": 15,
    "start_time": "2021-11-24T02:38:43.180Z"
   },
   {
    "duration": 14,
    "start_time": "2021-11-24T02:38:43.197Z"
   },
   {
    "duration": 36,
    "start_time": "2021-11-24T02:38:46.643Z"
   },
   {
    "duration": 35,
    "start_time": "2021-11-24T02:38:49.808Z"
   },
   {
    "duration": 27,
    "start_time": "2021-11-24T02:40:04.518Z"
   },
   {
    "duration": 21,
    "start_time": "2021-11-24T02:40:19.555Z"
   },
   {
    "duration": 168,
    "start_time": "2021-11-24T02:44:20.700Z"
   },
   {
    "duration": 27,
    "start_time": "2021-11-24T02:44:20.871Z"
   },
   {
    "duration": 36,
    "start_time": "2021-11-24T02:44:20.901Z"
   },
   {
    "duration": 41,
    "start_time": "2021-11-24T02:44:20.940Z"
   },
   {
    "duration": 50,
    "start_time": "2021-11-24T02:44:20.984Z"
   },
   {
    "duration": 38,
    "start_time": "2021-11-24T02:44:21.037Z"
   },
   {
    "duration": 783,
    "start_time": "2021-11-24T02:44:21.078Z"
   },
   {
    "duration": 67,
    "start_time": "2021-11-24T02:44:21.868Z"
   },
   {
    "duration": 24,
    "start_time": "2021-11-24T02:44:21.938Z"
   },
   {
    "duration": 110,
    "start_time": "2021-11-24T02:44:21.965Z"
   },
   {
    "duration": 6,
    "start_time": "2021-11-24T02:44:22.077Z"
   },
   {
    "duration": 64,
    "start_time": "2021-11-24T02:44:22.086Z"
   },
   {
    "duration": 1555,
    "start_time": "2021-11-24T02:44:22.152Z"
   },
   {
    "duration": 21,
    "start_time": "2021-11-24T02:44:23.710Z"
   },
   {
    "duration": 37,
    "start_time": "2021-11-24T02:44:23.734Z"
   },
   {
    "duration": 57,
    "start_time": "2021-11-24T02:44:23.773Z"
   },
   {
    "duration": 39,
    "start_time": "2021-11-24T02:44:30.879Z"
   },
   {
    "duration": 1207,
    "start_time": "2021-11-24T02:44:33.091Z"
   },
   {
    "duration": 274,
    "start_time": "2021-11-24T02:44:47.960Z"
   },
   {
    "duration": 1199,
    "start_time": "2021-11-24T02:44:54.932Z"
   },
   {
    "duration": 95,
    "start_time": "2021-11-24T02:47:34.761Z"
   },
   {
    "duration": 30,
    "start_time": "2021-11-24T02:47:39.316Z"
   },
   {
    "duration": 127,
    "start_time": "2021-11-24T02:48:21.830Z"
   },
   {
    "duration": 29,
    "start_time": "2021-11-24T02:48:21.960Z"
   },
   {
    "duration": 12,
    "start_time": "2021-11-24T02:48:21.993Z"
   },
   {
    "duration": 18,
    "start_time": "2021-11-24T02:48:22.031Z"
   },
   {
    "duration": 24,
    "start_time": "2021-11-24T02:48:22.052Z"
   },
   {
    "duration": 56,
    "start_time": "2021-11-24T02:48:22.078Z"
   },
   {
    "duration": 8,
    "start_time": "2021-11-24T02:48:22.136Z"
   },
   {
    "duration": 31,
    "start_time": "2021-11-24T02:48:22.148Z"
   },
   {
    "duration": 49,
    "start_time": "2021-11-24T02:48:22.181Z"
   },
   {
    "duration": 99,
    "start_time": "2021-11-24T02:48:22.232Z"
   },
   {
    "duration": 7,
    "start_time": "2021-11-24T02:48:22.333Z"
   },
   {
    "duration": 37,
    "start_time": "2021-11-24T02:48:22.342Z"
   },
   {
    "duration": 1646,
    "start_time": "2021-11-24T02:48:22.381Z"
   },
   {
    "duration": 17,
    "start_time": "2021-11-24T02:48:24.030Z"
   },
   {
    "duration": 12,
    "start_time": "2021-11-24T02:48:24.049Z"
   },
   {
    "duration": 70,
    "start_time": "2021-11-24T02:48:24.063Z"
   },
   {
    "duration": 31,
    "start_time": "2021-11-24T02:48:26.582Z"
   },
   {
    "duration": 120,
    "start_time": "2021-11-24T02:49:42.071Z"
   },
   {
    "duration": 21,
    "start_time": "2021-11-24T02:49:42.193Z"
   },
   {
    "duration": 9,
    "start_time": "2021-11-24T02:49:42.217Z"
   },
   {
    "duration": 18,
    "start_time": "2021-11-24T02:49:42.228Z"
   },
   {
    "duration": 21,
    "start_time": "2021-11-24T02:49:42.249Z"
   },
   {
    "duration": 26,
    "start_time": "2021-11-24T02:49:42.272Z"
   },
   {
    "duration": 33,
    "start_time": "2021-11-24T02:49:42.300Z"
   },
   {
    "duration": 31,
    "start_time": "2021-11-24T02:49:42.336Z"
   },
   {
    "duration": 17,
    "start_time": "2021-11-24T02:49:42.369Z"
   },
   {
    "duration": 94,
    "start_time": "2021-11-24T02:49:42.389Z"
   },
   {
    "duration": 7,
    "start_time": "2021-11-24T02:49:42.486Z"
   },
   {
    "duration": 32,
    "start_time": "2021-11-24T02:49:42.528Z"
   },
   {
    "duration": 1537,
    "start_time": "2021-11-24T02:49:42.562Z"
   },
   {
    "duration": 27,
    "start_time": "2021-11-24T02:49:44.102Z"
   },
   {
    "duration": 9,
    "start_time": "2021-11-24T02:49:44.132Z"
   },
   {
    "duration": 38,
    "start_time": "2021-11-24T02:49:44.145Z"
   },
   {
    "duration": 30,
    "start_time": "2021-11-24T02:49:45.998Z"
   },
   {
    "duration": 24,
    "start_time": "2021-11-24T02:53:14.867Z"
   },
   {
    "duration": 129,
    "start_time": "2021-11-24T02:53:18.897Z"
   },
   {
    "duration": 22,
    "start_time": "2021-11-24T02:53:19.030Z"
   },
   {
    "duration": 10,
    "start_time": "2021-11-24T02:53:19.056Z"
   },
   {
    "duration": 12,
    "start_time": "2021-11-24T02:53:19.070Z"
   },
   {
    "duration": 61,
    "start_time": "2021-11-24T02:53:19.085Z"
   },
   {
    "duration": 28,
    "start_time": "2021-11-24T02:53:19.149Z"
   },
   {
    "duration": 9,
    "start_time": "2021-11-24T02:53:19.180Z"
   },
   {
    "duration": 62,
    "start_time": "2021-11-24T02:53:19.195Z"
   },
   {
    "duration": 22,
    "start_time": "2021-11-24T02:53:19.260Z"
   },
   {
    "duration": 105,
    "start_time": "2021-11-24T02:53:19.284Z"
   },
   {
    "duration": 42,
    "start_time": "2021-11-24T02:53:19.391Z"
   },
   {
    "duration": 33,
    "start_time": "2021-11-24T02:53:19.436Z"
   },
   {
    "duration": 2005,
    "start_time": "2021-11-24T02:53:19.472Z"
   },
   {
    "duration": 17,
    "start_time": "2021-11-24T02:53:21.480Z"
   },
   {
    "duration": 29,
    "start_time": "2021-11-24T02:53:21.499Z"
   },
   {
    "duration": 37,
    "start_time": "2021-11-24T02:53:21.531Z"
   },
   {
    "duration": 30,
    "start_time": "2021-11-24T02:53:58.356Z"
   },
   {
    "duration": 125,
    "start_time": "2021-11-24T02:56:22.072Z"
   },
   {
    "duration": 18,
    "start_time": "2021-11-24T02:56:22.199Z"
   },
   {
    "duration": 9,
    "start_time": "2021-11-24T02:56:22.220Z"
   },
   {
    "duration": 30,
    "start_time": "2021-11-24T02:56:22.232Z"
   },
   {
    "duration": 25,
    "start_time": "2021-11-24T02:56:22.265Z"
   },
   {
    "duration": 25,
    "start_time": "2021-11-24T02:56:22.292Z"
   },
   {
    "duration": 15,
    "start_time": "2021-11-24T02:56:22.319Z"
   },
   {
    "duration": 39,
    "start_time": "2021-11-24T02:56:22.338Z"
   },
   {
    "duration": 16,
    "start_time": "2021-11-24T02:56:22.380Z"
   },
   {
    "duration": 83,
    "start_time": "2021-11-24T02:56:22.398Z"
   },
   {
    "duration": 6,
    "start_time": "2021-11-24T02:56:22.483Z"
   },
   {
    "duration": 61,
    "start_time": "2021-11-24T02:56:22.491Z"
   },
   {
    "duration": 1660,
    "start_time": "2021-11-24T02:56:22.554Z"
   },
   {
    "duration": 19,
    "start_time": "2021-11-24T02:56:24.216Z"
   },
   {
    "duration": 11,
    "start_time": "2021-11-24T02:56:24.237Z"
   },
   {
    "duration": 38,
    "start_time": "2021-11-24T02:56:24.250Z"
   },
   {
    "duration": 1448,
    "start_time": "2021-11-24T02:56:26.773Z"
   },
   {
    "duration": 17,
    "start_time": "2021-11-24T03:02:33.202Z"
   },
   {
    "duration": 18,
    "start_time": "2021-11-24T03:02:38.581Z"
   },
   {
    "duration": 1236,
    "start_time": "2021-11-24T03:04:13.566Z"
   },
   {
    "duration": 1217,
    "start_time": "2021-11-24T03:06:17.973Z"
   },
   {
    "duration": 1209,
    "start_time": "2021-11-24T03:06:43.303Z"
   },
   {
    "duration": 1399,
    "start_time": "2021-11-24T03:06:54.943Z"
   },
   {
    "duration": 6,
    "start_time": "2021-11-24T03:08:18.159Z"
   },
   {
    "duration": 90,
    "start_time": "2021-11-24T03:08:29.898Z"
   },
   {
    "duration": 93,
    "start_time": "2021-11-24T03:08:33.419Z"
   },
   {
    "duration": 79,
    "start_time": "2021-11-24T03:08:37.719Z"
   },
   {
    "duration": 88,
    "start_time": "2021-11-24T03:09:45.796Z"
   },
   {
    "duration": 1179,
    "start_time": "2021-11-24T03:09:51.596Z"
   },
   {
    "duration": 1193,
    "start_time": "2021-11-24T03:10:04.100Z"
   },
   {
    "duration": 1166,
    "start_time": "2021-11-24T03:10:39.769Z"
   },
   {
    "duration": 20,
    "start_time": "2021-11-24T03:10:52.066Z"
   },
   {
    "duration": 2887,
    "start_time": "2021-11-24T03:11:00.656Z"
   },
   {
    "duration": 32,
    "start_time": "2021-11-24T03:11:23.520Z"
   },
   {
    "duration": 33,
    "start_time": "2021-11-24T03:11:51.520Z"
   },
   {
    "duration": 24,
    "start_time": "2021-11-24T03:12:23.147Z"
   },
   {
    "duration": 168,
    "start_time": "2021-11-24T03:12:52.307Z"
   },
   {
    "duration": 27,
    "start_time": "2021-11-24T03:12:52.479Z"
   },
   {
    "duration": 19,
    "start_time": "2021-11-24T03:12:52.510Z"
   },
   {
    "duration": 19,
    "start_time": "2021-11-24T03:12:52.532Z"
   },
   {
    "duration": 27,
    "start_time": "2021-11-24T03:12:52.554Z"
   },
   {
    "duration": 62,
    "start_time": "2021-11-24T03:12:52.584Z"
   },
   {
    "duration": 8,
    "start_time": "2021-11-24T03:12:52.648Z"
   },
   {
    "duration": 36,
    "start_time": "2021-11-24T03:12:52.660Z"
   },
   {
    "duration": 39,
    "start_time": "2021-11-24T03:12:52.699Z"
   },
   {
    "duration": 93,
    "start_time": "2021-11-24T03:12:52.741Z"
   },
   {
    "duration": 5,
    "start_time": "2021-11-24T03:12:52.837Z"
   },
   {
    "duration": 30,
    "start_time": "2021-11-24T03:12:52.845Z"
   },
   {
    "duration": 1621,
    "start_time": "2021-11-24T03:12:52.878Z"
   },
   {
    "duration": 28,
    "start_time": "2021-11-24T03:12:54.502Z"
   },
   {
    "duration": 11,
    "start_time": "2021-11-24T03:12:54.533Z"
   },
   {
    "duration": 38,
    "start_time": "2021-11-24T03:12:54.547Z"
   },
   {
    "duration": 10,
    "start_time": "2021-11-24T03:13:57.689Z"
   },
   {
    "duration": 14,
    "start_time": "2021-11-24T03:14:05.038Z"
   },
   {
    "duration": 83,
    "start_time": "2021-11-24T03:15:57.790Z"
   },
   {
    "duration": 6,
    "start_time": "2021-11-24T03:16:01.239Z"
   },
   {
    "duration": 124,
    "start_time": "2021-11-24T03:16:17.785Z"
   },
   {
    "duration": 19,
    "start_time": "2021-11-24T03:16:17.912Z"
   },
   {
    "duration": 12,
    "start_time": "2021-11-24T03:16:17.934Z"
   },
   {
    "duration": 22,
    "start_time": "2021-11-24T03:16:17.949Z"
   },
   {
    "duration": 48,
    "start_time": "2021-11-24T03:16:17.973Z"
   },
   {
    "duration": 28,
    "start_time": "2021-11-24T03:16:18.023Z"
   },
   {
    "duration": 8,
    "start_time": "2021-11-24T03:16:18.054Z"
   },
   {
    "duration": 59,
    "start_time": "2021-11-24T03:16:18.067Z"
   },
   {
    "duration": 17,
    "start_time": "2021-11-24T03:16:18.130Z"
   },
   {
    "duration": 95,
    "start_time": "2021-11-24T03:16:18.149Z"
   },
   {
    "duration": 7,
    "start_time": "2021-11-24T03:16:18.246Z"
   },
   {
    "duration": 31,
    "start_time": "2021-11-24T03:16:18.255Z"
   },
   {
    "duration": 1641,
    "start_time": "2021-11-24T03:16:18.288Z"
   },
   {
    "duration": 15,
    "start_time": "2021-11-24T03:16:19.932Z"
   },
   {
    "duration": 15,
    "start_time": "2021-11-24T03:16:19.950Z"
   },
   {
    "duration": 103,
    "start_time": "2021-11-24T03:16:53.367Z"
   },
   {
    "duration": 84,
    "start_time": "2021-11-24T03:16:58.568Z"
   },
   {
    "duration": 20,
    "start_time": "2021-11-24T03:17:05.628Z"
   },
   {
    "duration": 32,
    "start_time": "2021-11-24T03:17:31.243Z"
   },
   {
    "duration": 124,
    "start_time": "2021-11-24T03:17:45.724Z"
   },
   {
    "duration": 18,
    "start_time": "2021-11-24T03:17:45.850Z"
   },
   {
    "duration": 13,
    "start_time": "2021-11-24T03:17:45.871Z"
   },
   {
    "duration": 11,
    "start_time": "2021-11-24T03:17:45.887Z"
   },
   {
    "duration": 47,
    "start_time": "2021-11-24T03:17:45.900Z"
   },
   {
    "duration": 26,
    "start_time": "2021-11-24T03:17:45.949Z"
   },
   {
    "duration": 7,
    "start_time": "2021-11-24T03:17:45.977Z"
   },
   {
    "duration": 65,
    "start_time": "2021-11-24T03:17:45.988Z"
   },
   {
    "duration": 17,
    "start_time": "2021-11-24T03:17:46.055Z"
   },
   {
    "duration": 95,
    "start_time": "2021-11-24T03:17:46.074Z"
   },
   {
    "duration": 5,
    "start_time": "2021-11-24T03:17:46.172Z"
   },
   {
    "duration": 73,
    "start_time": "2021-11-24T03:17:46.179Z"
   },
   {
    "duration": 1496,
    "start_time": "2021-11-24T03:17:46.255Z"
   },
   {
    "duration": 16,
    "start_time": "2021-11-24T03:17:47.753Z"
   },
   {
    "duration": 11,
    "start_time": "2021-11-24T03:17:47.771Z"
   },
   {
    "duration": 32,
    "start_time": "2021-11-24T03:17:56.204Z"
   },
   {
    "duration": 13,
    "start_time": "2021-11-24T03:18:12.180Z"
   },
   {
    "duration": 258,
    "start_time": "2021-11-24T03:18:26.391Z"
   },
   {
    "duration": 9,
    "start_time": "2021-11-24T03:18:41.011Z"
   },
   {
    "duration": 122,
    "start_time": "2021-11-24T03:18:59.029Z"
   },
   {
    "duration": 28,
    "start_time": "2021-11-24T03:18:59.154Z"
   },
   {
    "duration": 10,
    "start_time": "2021-11-24T03:18:59.185Z"
   },
   {
    "duration": 45,
    "start_time": "2021-11-24T03:18:59.198Z"
   },
   {
    "duration": 27,
    "start_time": "2021-11-24T03:18:59.246Z"
   },
   {
    "duration": 60,
    "start_time": "2021-11-24T03:18:59.276Z"
   },
   {
    "duration": 10,
    "start_time": "2021-11-24T03:18:59.339Z"
   },
   {
    "duration": 42,
    "start_time": "2021-11-24T03:18:59.353Z"
   },
   {
    "duration": 41,
    "start_time": "2021-11-24T03:18:59.399Z"
   },
   {
    "duration": 106,
    "start_time": "2021-11-24T03:18:59.443Z"
   },
   {
    "duration": 7,
    "start_time": "2021-11-24T03:18:59.552Z"
   },
   {
    "duration": 67,
    "start_time": "2021-11-24T03:18:59.562Z"
   },
   {
    "duration": 1636,
    "start_time": "2021-11-24T03:18:59.632Z"
   },
   {
    "duration": 15,
    "start_time": "2021-11-24T03:19:01.271Z"
   },
   {
    "duration": 41,
    "start_time": "2021-11-24T03:19:01.288Z"
   },
   {
    "duration": 9,
    "start_time": "2021-11-24T03:19:03.933Z"
   },
   {
    "duration": 22,
    "start_time": "2021-11-24T03:19:06.610Z"
   },
   {
    "duration": 286,
    "start_time": "2021-11-24T03:19:11.975Z"
   },
   {
    "duration": 124,
    "start_time": "2021-11-24T03:19:15.671Z"
   },
   {
    "duration": 19,
    "start_time": "2021-11-24T03:19:15.797Z"
   },
   {
    "duration": 10,
    "start_time": "2021-11-24T03:19:15.819Z"
   },
   {
    "duration": 10,
    "start_time": "2021-11-24T03:19:15.832Z"
   },
   {
    "duration": 24,
    "start_time": "2021-11-24T03:19:15.845Z"
   },
   {
    "duration": 25,
    "start_time": "2021-11-24T03:19:15.871Z"
   },
   {
    "duration": 37,
    "start_time": "2021-11-24T03:19:15.898Z"
   },
   {
    "duration": 31,
    "start_time": "2021-11-24T03:19:15.938Z"
   },
   {
    "duration": 16,
    "start_time": "2021-11-24T03:19:15.972Z"
   },
   {
    "duration": 96,
    "start_time": "2021-11-24T03:19:15.991Z"
   },
   {
    "duration": 42,
    "start_time": "2021-11-24T03:19:16.090Z"
   },
   {
    "duration": 30,
    "start_time": "2021-11-24T03:19:16.135Z"
   },
   {
    "duration": 2423,
    "start_time": "2021-11-24T03:19:16.168Z"
   },
   {
    "duration": 15,
    "start_time": "2021-11-24T03:19:18.594Z"
   },
   {
    "duration": 10,
    "start_time": "2021-11-24T03:19:18.630Z"
   },
   {
    "duration": 9,
    "start_time": "2021-11-24T03:19:22.046Z"
   },
   {
    "duration": 22,
    "start_time": "2021-11-24T03:19:23.408Z"
   },
   {
    "duration": 9,
    "start_time": "2021-11-24T03:19:25.118Z"
   },
   {
    "duration": 125,
    "start_time": "2021-11-24T03:21:55.093Z"
   },
   {
    "duration": 22,
    "start_time": "2021-11-24T03:21:55.220Z"
   },
   {
    "duration": 8,
    "start_time": "2021-11-24T03:21:55.246Z"
   },
   {
    "duration": 25,
    "start_time": "2021-11-24T03:21:55.257Z"
   },
   {
    "duration": 38,
    "start_time": "2021-11-24T03:21:55.285Z"
   },
   {
    "duration": 27,
    "start_time": "2021-11-24T03:21:55.330Z"
   },
   {
    "duration": 11,
    "start_time": "2021-11-24T03:21:55.360Z"
   },
   {
    "duration": 64,
    "start_time": "2021-11-24T03:21:55.374Z"
   },
   {
    "duration": 19,
    "start_time": "2021-11-24T03:21:55.441Z"
   },
   {
    "duration": 101,
    "start_time": "2021-11-24T03:21:55.463Z"
   },
   {
    "duration": 5,
    "start_time": "2021-11-24T03:21:55.567Z"
   },
   {
    "duration": 65,
    "start_time": "2021-11-24T03:21:55.575Z"
   },
   {
    "duration": 1639,
    "start_time": "2021-11-24T03:21:55.642Z"
   },
   {
    "duration": 17,
    "start_time": "2021-11-24T03:21:57.284Z"
   },
   {
    "duration": 32,
    "start_time": "2021-11-24T03:21:57.303Z"
   },
   {
    "duration": 10,
    "start_time": "2021-11-24T03:22:03.499Z"
   },
   {
    "duration": 15,
    "start_time": "2021-11-24T03:22:06.464Z"
   },
   {
    "duration": 10,
    "start_time": "2021-11-24T03:22:08.945Z"
   },
   {
    "duration": 1292,
    "start_time": "2021-11-24T03:22:34.477Z"
   },
   {
    "duration": 129,
    "start_time": "2021-11-24T03:22:50.740Z"
   },
   {
    "duration": 21,
    "start_time": "2021-11-24T03:22:50.872Z"
   },
   {
    "duration": 48,
    "start_time": "2021-11-24T03:22:50.896Z"
   },
   {
    "duration": 14,
    "start_time": "2021-11-24T03:22:50.954Z"
   },
   {
    "duration": 45,
    "start_time": "2021-11-24T03:22:50.971Z"
   },
   {
    "duration": 40,
    "start_time": "2021-11-24T03:22:51.018Z"
   },
   {
    "duration": 37,
    "start_time": "2021-11-24T03:22:51.060Z"
   },
   {
    "duration": 34,
    "start_time": "2021-11-24T03:22:51.104Z"
   },
   {
    "duration": 21,
    "start_time": "2021-11-24T03:22:51.142Z"
   },
   {
    "duration": 89,
    "start_time": "2021-11-24T03:22:51.166Z"
   },
   {
    "duration": 6,
    "start_time": "2021-11-24T03:22:51.257Z"
   },
   {
    "duration": 68,
    "start_time": "2021-11-24T03:22:51.265Z"
   },
   {
    "duration": 1615,
    "start_time": "2021-11-24T03:22:51.336Z"
   },
   {
    "duration": 16,
    "start_time": "2021-11-24T03:22:52.953Z"
   },
   {
    "duration": 26,
    "start_time": "2021-11-24T03:22:52.971Z"
   },
   {
    "duration": 30,
    "start_time": "2021-11-24T03:22:52.999Z"
   },
   {
    "duration": 22,
    "start_time": "2021-11-24T03:22:53.032Z"
   },
   {
    "duration": 10,
    "start_time": "2021-11-24T03:22:53.056Z"
   },
   {
    "duration": 402,
    "start_time": "2021-11-24T03:22:53.068Z"
   },
   {
    "duration": 388,
    "start_time": "2021-11-24T03:22:53.473Z"
   },
   {
    "duration": 340,
    "start_time": "2021-11-24T03:22:53.863Z"
   },
   {
    "duration": 357,
    "start_time": "2021-11-24T03:22:54.205Z"
   },
   {
    "duration": 32,
    "start_time": "2021-11-24T03:22:54.566Z"
   },
   {
    "duration": 87,
    "start_time": "2021-11-24T03:22:54.600Z"
   },
   {
    "duration": 48,
    "start_time": "2021-11-24T03:22:54.689Z"
   },
   {
    "duration": 21,
    "start_time": "2021-11-24T03:22:54.739Z"
   },
   {
    "duration": 17,
    "start_time": "2021-11-24T03:22:54.763Z"
   },
   {
    "duration": 289,
    "start_time": "2021-11-24T03:25:08.092Z"
   },
   {
    "duration": 132,
    "start_time": "2021-11-24T03:25:27.171Z"
   },
   {
    "duration": 23,
    "start_time": "2021-11-24T03:25:27.306Z"
   },
   {
    "duration": 8,
    "start_time": "2021-11-24T03:25:27.332Z"
   },
   {
    "duration": 11,
    "start_time": "2021-11-24T03:25:27.342Z"
   },
   {
    "duration": 22,
    "start_time": "2021-11-24T03:25:27.355Z"
   },
   {
    "duration": 56,
    "start_time": "2021-11-24T03:25:27.379Z"
   },
   {
    "duration": 9,
    "start_time": "2021-11-24T03:25:27.438Z"
   },
   {
    "duration": 31,
    "start_time": "2021-11-24T03:25:27.453Z"
   },
   {
    "duration": 51,
    "start_time": "2021-11-24T03:25:27.487Z"
   },
   {
    "duration": 91,
    "start_time": "2021-11-24T03:25:27.541Z"
   },
   {
    "duration": 7,
    "start_time": "2021-11-24T03:25:27.635Z"
   },
   {
    "duration": 48,
    "start_time": "2021-11-24T03:25:27.645Z"
   },
   {
    "duration": 149,
    "start_time": "2021-11-24T03:25:31.756Z"
   },
   {
    "duration": 21,
    "start_time": "2021-11-24T03:25:31.908Z"
   },
   {
    "duration": 8,
    "start_time": "2021-11-24T03:25:31.932Z"
   },
   {
    "duration": 43,
    "start_time": "2021-11-24T03:25:31.943Z"
   },
   {
    "duration": 35,
    "start_time": "2021-11-24T03:25:31.988Z"
   },
   {
    "duration": 27,
    "start_time": "2021-11-24T03:25:32.025Z"
   },
   {
    "duration": 7,
    "start_time": "2021-11-24T03:25:32.055Z"
   },
   {
    "duration": 35,
    "start_time": "2021-11-24T03:25:32.064Z"
   },
   {
    "duration": 39,
    "start_time": "2021-11-24T03:25:32.102Z"
   },
   {
    "duration": 91,
    "start_time": "2021-11-24T03:25:32.143Z"
   },
   {
    "duration": 6,
    "start_time": "2021-11-24T03:25:32.236Z"
   },
   {
    "duration": 33,
    "start_time": "2021-11-24T03:25:32.245Z"
   },
   {
    "duration": 1523,
    "start_time": "2021-11-24T03:25:32.281Z"
   },
   {
    "duration": 25,
    "start_time": "2021-11-24T03:25:33.806Z"
   },
   {
    "duration": 17,
    "start_time": "2021-11-24T03:25:33.833Z"
   },
   {
    "duration": 22,
    "start_time": "2021-11-24T03:25:33.853Z"
   },
   {
    "duration": 20,
    "start_time": "2021-11-24T03:25:33.878Z"
   },
   {
    "duration": 14,
    "start_time": "2021-11-24T03:25:33.930Z"
   },
   {
    "duration": 411,
    "start_time": "2021-11-24T03:25:33.947Z"
   },
   {
    "duration": 387,
    "start_time": "2021-11-24T03:25:34.360Z"
   },
   {
    "duration": 334,
    "start_time": "2021-11-24T03:25:34.750Z"
   },
   {
    "duration": 356,
    "start_time": "2021-11-24T03:25:35.086Z"
   },
   {
    "duration": 34,
    "start_time": "2021-11-24T03:25:35.445Z"
   },
   {
    "duration": 127,
    "start_time": "2021-11-24T03:25:35.482Z"
   },
   {
    "duration": 51,
    "start_time": "2021-11-24T03:25:35.613Z"
   },
   {
    "duration": 26,
    "start_time": "2021-11-24T03:25:35.667Z"
   },
   {
    "duration": 274,
    "start_time": "2021-11-24T03:25:35.696Z"
   },
   {
    "duration": 10,
    "start_time": "2021-11-24T03:25:50.011Z"
   },
   {
    "duration": 23,
    "start_time": "2021-11-24T03:26:03.993Z"
   },
   {
    "duration": 296,
    "start_time": "2021-11-24T03:27:13.973Z"
   },
   {
    "duration": 552,
    "start_time": "2021-11-24T03:27:41.198Z"
   },
   {
    "duration": 281,
    "start_time": "2021-11-24T03:29:04.536Z"
   },
   {
    "duration": 15,
    "start_time": "2021-11-24T03:29:23.803Z"
   },
   {
    "duration": 23,
    "start_time": "2021-11-24T03:29:28.533Z"
   },
   {
    "duration": 1204,
    "start_time": "2021-11-24T03:35:02.246Z"
   },
   {
    "duration": 284,
    "start_time": "2021-11-24T03:37:20.872Z"
   },
   {
    "duration": 46,
    "start_time": "2021-11-24T03:37:25.396Z"
   },
   {
    "duration": 53,
    "start_time": "2021-11-24T03:38:31.805Z"
   },
   {
    "duration": 53,
    "start_time": "2021-11-24T03:38:56.564Z"
   },
   {
    "duration": 1245,
    "start_time": "2021-11-24T03:40:18.139Z"
   },
   {
    "duration": 26,
    "start_time": "2021-11-24T03:42:07.828Z"
   },
   {
    "duration": 24,
    "start_time": "2021-11-24T03:42:26.686Z"
   },
   {
    "duration": 24,
    "start_time": "2021-11-24T03:42:55.406Z"
   },
   {
    "duration": 304,
    "start_time": "2021-11-24T03:43:03.822Z"
   },
   {
    "duration": 274,
    "start_time": "2021-11-24T03:43:13.722Z"
   },
   {
    "duration": 25,
    "start_time": "2021-11-24T03:43:17.008Z"
   },
   {
    "duration": 24,
    "start_time": "2021-11-24T03:43:31.624Z"
   },
   {
    "duration": 23,
    "start_time": "2021-11-24T03:43:42.157Z"
   },
   {
    "duration": 23,
    "start_time": "2021-11-24T03:44:14.631Z"
   },
   {
    "duration": 23,
    "start_time": "2021-11-24T03:44:26.089Z"
   },
   {
    "duration": 23,
    "start_time": "2021-11-24T03:44:46.081Z"
   },
   {
    "duration": 28,
    "start_time": "2021-11-24T03:48:48.150Z"
   },
   {
    "duration": 126,
    "start_time": "2021-11-24T03:49:13.711Z"
   },
   {
    "duration": 27,
    "start_time": "2021-11-24T03:49:13.840Z"
   },
   {
    "duration": 11,
    "start_time": "2021-11-24T03:49:13.871Z"
   },
   {
    "duration": 19,
    "start_time": "2021-11-24T03:49:13.884Z"
   },
   {
    "duration": 47,
    "start_time": "2021-11-24T03:49:13.906Z"
   },
   {
    "duration": 28,
    "start_time": "2021-11-24T03:49:13.956Z"
   },
   {
    "duration": 7,
    "start_time": "2021-11-24T03:49:13.987Z"
   },
   {
    "duration": 51,
    "start_time": "2021-11-24T03:49:13.996Z"
   },
   {
    "duration": 18,
    "start_time": "2021-11-24T03:49:14.051Z"
   },
   {
    "duration": 87,
    "start_time": "2021-11-24T03:49:14.072Z"
   },
   {
    "duration": 6,
    "start_time": "2021-11-24T03:49:14.162Z"
   },
   {
    "duration": 62,
    "start_time": "2021-11-24T03:49:14.170Z"
   },
   {
    "duration": 2804,
    "start_time": "2021-11-24T03:49:14.235Z"
   },
   {
    "duration": 16,
    "start_time": "2021-11-24T03:49:17.043Z"
   },
   {
    "duration": 16,
    "start_time": "2021-11-24T03:49:17.062Z"
   },
   {
    "duration": 26,
    "start_time": "2021-11-24T03:49:17.080Z"
   },
   {
    "duration": 17,
    "start_time": "2021-11-24T03:49:17.129Z"
   },
   {
    "duration": 15,
    "start_time": "2021-11-24T03:49:17.149Z"
   },
   {
    "duration": 385,
    "start_time": "2021-11-24T03:49:17.166Z"
   },
   {
    "duration": 388,
    "start_time": "2021-11-24T03:49:17.554Z"
   },
   {
    "duration": 340,
    "start_time": "2021-11-24T03:49:17.945Z"
   },
   {
    "duration": 362,
    "start_time": "2021-11-24T03:49:18.288Z"
   },
   {
    "duration": 34,
    "start_time": "2021-11-24T03:49:18.653Z"
   },
   {
    "duration": 98,
    "start_time": "2021-11-24T03:49:18.690Z"
   },
   {
    "duration": 56,
    "start_time": "2021-11-24T03:49:18.791Z"
   },
   {
    "duration": 21,
    "start_time": "2021-11-24T03:49:18.850Z"
   },
   {
    "duration": 1280,
    "start_time": "2021-11-24T03:49:18.877Z"
   },
   {
    "duration": 26,
    "start_time": "2021-11-24T03:49:20.160Z"
   },
   {
    "duration": 290,
    "start_time": "2021-11-24T03:56:27.523Z"
   },
   {
    "duration": 33,
    "start_time": "2021-11-24T03:56:41.027Z"
   },
   {
    "duration": 42,
    "start_time": "2021-11-24T03:56:50.835Z"
   },
   {
    "duration": 34,
    "start_time": "2021-11-24T03:56:56.253Z"
   },
   {
    "duration": 274,
    "start_time": "2021-11-24T03:57:08.087Z"
   },
   {
    "duration": 32,
    "start_time": "2021-11-24T03:57:41.942Z"
   },
   {
    "duration": 288,
    "start_time": "2021-11-24T03:58:03.759Z"
   },
   {
    "duration": 32,
    "start_time": "2021-11-24T03:58:15.184Z"
   },
   {
    "duration": 31,
    "start_time": "2021-11-24T03:58:23.421Z"
   },
   {
    "duration": 31,
    "start_time": "2021-11-24T03:58:34.210Z"
   },
   {
    "duration": 21,
    "start_time": "2021-11-24T03:58:59.037Z"
   },
   {
    "duration": 310,
    "start_time": "2021-11-24T03:59:09.729Z"
   },
   {
    "duration": 32,
    "start_time": "2021-11-24T03:59:17.865Z"
   },
   {
    "duration": 32,
    "start_time": "2021-11-24T03:59:30.243Z"
   },
   {
    "duration": 32,
    "start_time": "2021-11-24T03:59:44.906Z"
   },
   {
    "duration": 35,
    "start_time": "2021-11-24T04:00:04.351Z"
   },
   {
    "duration": 33,
    "start_time": "2021-11-24T04:00:20.175Z"
   },
   {
    "duration": 33,
    "start_time": "2021-11-24T04:00:25.588Z"
   },
   {
    "duration": 36,
    "start_time": "2021-11-24T04:00:34.977Z"
   },
   {
    "duration": 34,
    "start_time": "2021-11-24T04:00:43.756Z"
   },
   {
    "duration": 33,
    "start_time": "2021-11-24T04:01:01.506Z"
   },
   {
    "duration": 50,
    "start_time": "2021-11-24T04:01:45.649Z"
   },
   {
    "duration": 291,
    "start_time": "2021-11-24T04:02:32.589Z"
   },
   {
    "duration": 28,
    "start_time": "2021-11-24T04:03:19.235Z"
   },
   {
    "duration": 49,
    "start_time": "2021-11-24T04:04:01.190Z"
   },
   {
    "duration": 57,
    "start_time": "2021-11-24T04:05:01.576Z"
   },
   {
    "duration": 24,
    "start_time": "2021-11-24T04:05:10.274Z"
   },
   {
    "duration": 41,
    "start_time": "2021-11-24T04:05:34.967Z"
   },
   {
    "duration": 44,
    "start_time": "2021-11-24T04:05:46.068Z"
   },
   {
    "duration": 9,
    "start_time": "2021-11-24T04:08:18.357Z"
   },
   {
    "duration": 34,
    "start_time": "2021-11-24T04:08:55.429Z"
   },
   {
    "duration": 32,
    "start_time": "2021-11-24T04:09:07.918Z"
   },
   {
    "duration": 143,
    "start_time": "2021-11-24T04:09:35.243Z"
   },
   {
    "duration": 23,
    "start_time": "2021-11-24T04:09:35.390Z"
   },
   {
    "duration": 14,
    "start_time": "2021-11-24T04:09:35.415Z"
   },
   {
    "duration": 11,
    "start_time": "2021-11-24T04:09:35.432Z"
   },
   {
    "duration": 27,
    "start_time": "2021-11-24T04:09:35.445Z"
   },
   {
    "duration": 26,
    "start_time": "2021-11-24T04:09:35.475Z"
   },
   {
    "duration": 8,
    "start_time": "2021-11-24T04:09:35.528Z"
   },
   {
    "duration": 38,
    "start_time": "2021-11-24T04:09:35.540Z"
   },
   {
    "duration": 19,
    "start_time": "2021-11-24T04:09:35.581Z"
   },
   {
    "duration": 88,
    "start_time": "2021-11-24T04:09:35.603Z"
   },
   {
    "duration": 39,
    "start_time": "2021-11-24T04:09:35.693Z"
   },
   {
    "duration": 36,
    "start_time": "2021-11-24T04:09:35.734Z"
   },
   {
    "duration": 1622,
    "start_time": "2021-11-24T04:09:35.772Z"
   },
   {
    "duration": 15,
    "start_time": "2021-11-24T04:09:37.397Z"
   },
   {
    "duration": 9,
    "start_time": "2021-11-24T04:09:37.430Z"
   },
   {
    "duration": 18,
    "start_time": "2021-11-24T04:09:37.441Z"
   },
   {
    "duration": 16,
    "start_time": "2021-11-24T04:09:37.462Z"
   },
   {
    "duration": 9,
    "start_time": "2021-11-24T04:09:37.480Z"
   },
   {
    "duration": 399,
    "start_time": "2021-11-24T04:09:37.492Z"
   },
   {
    "duration": 385,
    "start_time": "2021-11-24T04:09:37.894Z"
   },
   {
    "duration": 351,
    "start_time": "2021-11-24T04:09:38.281Z"
   },
   {
    "duration": 360,
    "start_time": "2021-11-24T04:09:38.635Z"
   },
   {
    "duration": 48,
    "start_time": "2021-11-24T04:09:39.001Z"
   },
   {
    "duration": 90,
    "start_time": "2021-11-24T04:09:39.052Z"
   },
   {
    "duration": 39,
    "start_time": "2021-11-24T04:09:39.145Z"
   },
   {
    "duration": 56,
    "start_time": "2021-11-24T04:09:39.186Z"
   },
   {
    "duration": 1344,
    "start_time": "2021-11-24T04:09:39.244Z"
   },
   {
    "duration": 38,
    "start_time": "2021-11-24T04:09:40.591Z"
   },
   {
    "duration": 44,
    "start_time": "2021-11-24T04:09:40.631Z"
   },
   {
    "duration": 60,
    "start_time": "2021-11-24T04:09:40.677Z"
   },
   {
    "duration": 7,
    "start_time": "2021-11-24T04:09:45.564Z"
   },
   {
    "duration": 34,
    "start_time": "2021-11-24T04:09:54.849Z"
   },
   {
    "duration": 40,
    "start_time": "2021-11-24T04:10:46.029Z"
   },
   {
    "duration": 137,
    "start_time": "2021-11-24T04:11:02.701Z"
   },
   {
    "duration": 20,
    "start_time": "2021-11-24T04:11:02.841Z"
   },
   {
    "duration": 9,
    "start_time": "2021-11-24T04:11:02.864Z"
   },
   {
    "duration": 16,
    "start_time": "2021-11-24T04:11:02.876Z"
   },
   {
    "duration": 50,
    "start_time": "2021-11-24T04:11:02.895Z"
   },
   {
    "duration": 26,
    "start_time": "2021-11-24T04:11:02.948Z"
   },
   {
    "duration": 8,
    "start_time": "2021-11-24T04:11:02.976Z"
   },
   {
    "duration": 70,
    "start_time": "2021-11-24T04:11:02.988Z"
   },
   {
    "duration": 21,
    "start_time": "2021-11-24T04:11:03.062Z"
   },
   {
    "duration": 91,
    "start_time": "2021-11-24T04:11:03.085Z"
   },
   {
    "duration": 6,
    "start_time": "2021-11-24T04:11:03.178Z"
   },
   {
    "duration": 65,
    "start_time": "2021-11-24T04:11:03.186Z"
   },
   {
    "duration": 1505,
    "start_time": "2021-11-24T04:11:03.254Z"
   },
   {
    "duration": 15,
    "start_time": "2021-11-24T04:11:04.761Z"
   },
   {
    "duration": 15,
    "start_time": "2021-11-24T04:11:04.779Z"
   },
   {
    "duration": 36,
    "start_time": "2021-11-24T04:11:04.796Z"
   },
   {
    "duration": 27,
    "start_time": "2021-11-24T04:11:04.834Z"
   },
   {
    "duration": 14,
    "start_time": "2021-11-24T04:11:04.863Z"
   },
   {
    "duration": 361,
    "start_time": "2021-11-24T04:11:04.880Z"
   },
   {
    "duration": 380,
    "start_time": "2021-11-24T04:11:05.244Z"
   },
   {
    "duration": 343,
    "start_time": "2021-11-24T04:11:05.627Z"
   },
   {
    "duration": 341,
    "start_time": "2021-11-24T04:11:05.972Z"
   },
   {
    "duration": 40,
    "start_time": "2021-11-24T04:11:06.317Z"
   },
   {
    "duration": 88,
    "start_time": "2021-11-24T04:11:06.359Z"
   },
   {
    "duration": 35,
    "start_time": "2021-11-24T04:11:06.449Z"
   },
   {
    "duration": 44,
    "start_time": "2021-11-24T04:11:06.487Z"
   },
   {
    "duration": 1336,
    "start_time": "2021-11-24T04:11:06.534Z"
   },
   {
    "duration": 22,
    "start_time": "2021-11-24T04:11:07.873Z"
   },
   {
    "duration": 61,
    "start_time": "2021-11-24T04:11:07.897Z"
   },
   {
    "duration": 41,
    "start_time": "2021-11-24T04:11:07.960Z"
   },
   {
    "duration": 29,
    "start_time": "2021-11-24T04:11:08.003Z"
   },
   {
    "duration": 43,
    "start_time": "2021-11-24T04:11:11.788Z"
   },
   {
    "duration": 42,
    "start_time": "2021-11-24T04:11:38.013Z"
   },
   {
    "duration": 55,
    "start_time": "2021-11-24T04:19:53.792Z"
   },
   {
    "duration": 47,
    "start_time": "2021-11-24T04:20:28.711Z"
   },
   {
    "duration": 6337,
    "start_time": "2021-11-24T04:33:40.284Z"
   },
   {
    "duration": 126,
    "start_time": "2021-11-24T04:33:49.300Z"
   },
   {
    "duration": 17,
    "start_time": "2021-11-24T04:33:49.428Z"
   },
   {
    "duration": 8,
    "start_time": "2021-11-24T04:33:49.448Z"
   },
   {
    "duration": 10,
    "start_time": "2021-11-24T04:33:49.459Z"
   },
   {
    "duration": 64,
    "start_time": "2021-11-24T04:33:49.471Z"
   },
   {
    "duration": 25,
    "start_time": "2021-11-24T04:33:49.537Z"
   },
   {
    "duration": 8,
    "start_time": "2021-11-24T04:33:49.564Z"
   },
   {
    "duration": 66,
    "start_time": "2021-11-24T04:33:49.574Z"
   },
   {
    "duration": 16,
    "start_time": "2021-11-24T04:33:49.645Z"
   },
   {
    "duration": 98,
    "start_time": "2021-11-24T04:33:49.664Z"
   },
   {
    "duration": 7,
    "start_time": "2021-11-24T04:33:49.764Z"
   },
   {
    "duration": 68,
    "start_time": "2021-11-24T04:33:49.774Z"
   },
   {
    "duration": 1545,
    "start_time": "2021-11-24T04:33:49.845Z"
   },
   {
    "duration": 17,
    "start_time": "2021-11-24T04:33:51.394Z"
   },
   {
    "duration": 23,
    "start_time": "2021-11-24T04:33:51.414Z"
   },
   {
    "duration": 22,
    "start_time": "2021-11-24T04:33:51.440Z"
   },
   {
    "duration": 24,
    "start_time": "2021-11-24T04:33:51.465Z"
   },
   {
    "duration": 10,
    "start_time": "2021-11-24T04:33:51.492Z"
   },
   {
    "duration": 436,
    "start_time": "2021-11-24T04:33:51.530Z"
   },
   {
    "duration": 443,
    "start_time": "2021-11-24T04:33:51.970Z"
   },
   {
    "duration": 403,
    "start_time": "2021-11-24T04:33:52.415Z"
   },
   {
    "duration": 432,
    "start_time": "2021-11-24T04:33:52.821Z"
   },
   {
    "duration": 37,
    "start_time": "2021-11-24T04:33:53.256Z"
   },
   {
    "duration": 96,
    "start_time": "2021-11-24T04:33:53.296Z"
   },
   {
    "duration": 59,
    "start_time": "2021-11-24T04:33:53.395Z"
   },
   {
    "duration": 292,
    "start_time": "2021-11-24T04:33:56.471Z"
   },
   {
    "duration": 14,
    "start_time": "2021-11-24T04:34:09.953Z"
   },
   {
    "duration": 7,
    "start_time": "2021-11-24T04:34:27.521Z"
   },
   {
    "duration": 10,
    "start_time": "2021-11-24T04:35:38.097Z"
   },
   {
    "duration": 1535,
    "start_time": "2021-11-24T04:42:12.108Z"
   },
   {
    "duration": 92,
    "start_time": "2021-11-24T04:42:27.734Z"
   },
   {
    "duration": 26,
    "start_time": "2021-11-24T04:42:30.695Z"
   },
   {
    "duration": 272,
    "start_time": "2021-11-24T04:44:20.993Z"
   },
   {
    "duration": 265,
    "start_time": "2021-11-24T04:44:59.619Z"
   },
   {
    "duration": 97,
    "start_time": "2021-11-24T04:45:31.842Z"
   },
   {
    "duration": 262,
    "start_time": "2021-11-24T04:45:48.304Z"
   },
   {
    "duration": 29,
    "start_time": "2021-11-24T04:46:04.066Z"
   },
   {
    "duration": 7307,
    "start_time": "2021-11-24T04:46:14.737Z"
   },
   {
    "duration": 7886,
    "start_time": "2021-11-24T04:46:36.236Z"
   },
   {
    "duration": 132,
    "start_time": "2021-11-24T04:46:43.996Z"
   },
   {
    "duration": 130,
    "start_time": "2021-11-24T04:46:43.999Z"
   },
   {
    "duration": 125,
    "start_time": "2021-11-24T04:46:44.007Z"
   },
   {
    "duration": 124,
    "start_time": "2021-11-24T04:46:44.010Z"
   },
   {
    "duration": 124,
    "start_time": "2021-11-24T04:46:44.012Z"
   },
   {
    "duration": 123,
    "start_time": "2021-11-24T04:46:44.015Z"
   },
   {
    "duration": 123,
    "start_time": "2021-11-24T04:46:44.017Z"
   },
   {
    "duration": 122,
    "start_time": "2021-11-24T04:46:44.020Z"
   },
   {
    "duration": 122,
    "start_time": "2021-11-24T04:46:44.022Z"
   },
   {
    "duration": 115,
    "start_time": "2021-11-24T04:46:44.031Z"
   },
   {
    "duration": 115,
    "start_time": "2021-11-24T04:46:44.034Z"
   },
   {
    "duration": 115,
    "start_time": "2021-11-24T04:46:44.036Z"
   },
   {
    "duration": 106,
    "start_time": "2021-11-24T04:46:44.047Z"
   },
   {
    "duration": 88,
    "start_time": "2021-11-24T04:46:44.067Z"
   },
   {
    "duration": 65,
    "start_time": "2021-11-24T04:46:44.092Z"
   },
   {
    "duration": 60,
    "start_time": "2021-11-24T04:46:44.099Z"
   },
   {
    "duration": 60,
    "start_time": "2021-11-24T04:46:44.101Z"
   },
   {
    "duration": 59,
    "start_time": "2021-11-24T04:46:44.104Z"
   },
   {
    "duration": 56,
    "start_time": "2021-11-24T04:46:44.109Z"
   },
   {
    "duration": 15,
    "start_time": "2021-11-24T04:46:44.152Z"
   },
   {
    "duration": 15,
    "start_time": "2021-11-24T04:46:44.154Z"
   },
   {
    "duration": 71,
    "start_time": "2021-11-24T04:46:44.157Z"
   },
   {
    "duration": 71,
    "start_time": "2021-11-24T04:46:44.159Z"
   },
   {
    "duration": 72,
    "start_time": "2021-11-24T04:46:44.161Z"
   },
   {
    "duration": 72,
    "start_time": "2021-11-24T04:46:44.163Z"
   },
   {
    "duration": 7715,
    "start_time": "2021-11-24T04:46:48.766Z"
   },
   {
    "duration": 7517,
    "start_time": "2021-11-24T04:47:26.132Z"
   },
   {
    "duration": 140,
    "start_time": "2021-11-24T04:48:05.140Z"
   },
   {
    "duration": 21,
    "start_time": "2021-11-24T04:48:05.283Z"
   },
   {
    "duration": 10,
    "start_time": "2021-11-24T04:48:05.308Z"
   },
   {
    "duration": 13,
    "start_time": "2021-11-24T04:48:05.330Z"
   },
   {
    "duration": 29,
    "start_time": "2021-11-24T04:48:05.345Z"
   },
   {
    "duration": 25,
    "start_time": "2021-11-24T04:48:05.376Z"
   },
   {
    "duration": 8,
    "start_time": "2021-11-24T04:48:05.403Z"
   },
   {
    "duration": 28,
    "start_time": "2021-11-24T04:48:05.430Z"
   },
   {
    "duration": 16,
    "start_time": "2021-11-24T04:48:05.462Z"
   },
   {
    "duration": 96,
    "start_time": "2021-11-24T04:48:05.481Z"
   },
   {
    "duration": 5,
    "start_time": "2021-11-24T04:48:05.580Z"
   },
   {
    "duration": 63,
    "start_time": "2021-11-24T04:48:05.587Z"
   },
   {
    "duration": 1507,
    "start_time": "2021-11-24T04:48:05.653Z"
   },
   {
    "duration": 16,
    "start_time": "2021-11-24T04:48:07.162Z"
   },
   {
    "duration": 13,
    "start_time": "2021-11-24T04:48:07.180Z"
   },
   {
    "duration": 41,
    "start_time": "2021-11-24T04:48:07.195Z"
   },
   {
    "duration": 22,
    "start_time": "2021-11-24T04:48:07.239Z"
   },
   {
    "duration": 9,
    "start_time": "2021-11-24T04:48:07.263Z"
   },
   {
    "duration": 381,
    "start_time": "2021-11-24T04:48:07.275Z"
   },
   {
    "duration": 373,
    "start_time": "2021-11-24T04:48:07.659Z"
   },
   {
    "duration": 345,
    "start_time": "2021-11-24T04:48:08.035Z"
   },
   {
    "duration": 378,
    "start_time": "2021-11-24T04:48:08.383Z"
   },
   {
    "duration": 31,
    "start_time": "2021-11-24T04:48:08.763Z"
   },
   {
    "duration": 736,
    "start_time": "2021-11-24T04:48:08.796Z"
   },
   {
    "duration": 43,
    "start_time": "2021-11-24T04:48:09.534Z"
   },
   {
    "duration": 12,
    "start_time": "2021-11-24T04:48:11.751Z"
   },
   {
    "duration": 19,
    "start_time": "2021-11-24T04:48:16.489Z"
   },
   {
    "duration": 141,
    "start_time": "2021-11-24T04:49:16.040Z"
   },
   {
    "duration": 20,
    "start_time": "2021-11-24T04:49:16.183Z"
   },
   {
    "duration": 9,
    "start_time": "2021-11-24T04:49:16.206Z"
   },
   {
    "duration": 19,
    "start_time": "2021-11-24T04:49:16.218Z"
   },
   {
    "duration": 23,
    "start_time": "2021-11-24T04:49:16.239Z"
   },
   {
    "duration": 30,
    "start_time": "2021-11-24T04:49:16.264Z"
   },
   {
    "duration": 36,
    "start_time": "2021-11-24T04:49:16.297Z"
   },
   {
    "duration": 32,
    "start_time": "2021-11-24T04:49:16.337Z"
   },
   {
    "duration": 18,
    "start_time": "2021-11-24T04:49:16.372Z"
   },
   {
    "duration": 96,
    "start_time": "2021-11-24T04:49:16.393Z"
   },
   {
    "duration": 42,
    "start_time": "2021-11-24T04:49:16.492Z"
   },
   {
    "duration": 31,
    "start_time": "2021-11-24T04:49:16.537Z"
   },
   {
    "duration": 1634,
    "start_time": "2021-11-24T04:49:16.570Z"
   },
   {
    "duration": 23,
    "start_time": "2021-11-24T04:49:18.207Z"
   },
   {
    "duration": 9,
    "start_time": "2021-11-24T04:49:18.232Z"
   },
   {
    "duration": 14,
    "start_time": "2021-11-24T04:49:18.243Z"
   },
   {
    "duration": 14,
    "start_time": "2021-11-24T04:49:18.259Z"
   },
   {
    "duration": 56,
    "start_time": "2021-11-24T04:49:18.275Z"
   },
   {
    "duration": 370,
    "start_time": "2021-11-24T04:49:18.333Z"
   },
   {
    "duration": 378,
    "start_time": "2021-11-24T04:49:18.706Z"
   },
   {
    "duration": 349,
    "start_time": "2021-11-24T04:49:19.087Z"
   },
   {
    "duration": 347,
    "start_time": "2021-11-24T04:49:19.439Z"
   },
   {
    "duration": 45,
    "start_time": "2021-11-24T04:49:19.792Z"
   },
   {
    "duration": 67,
    "start_time": "2021-11-24T04:49:19.839Z"
   },
   {
    "duration": 53,
    "start_time": "2021-11-24T04:49:19.908Z"
   },
   {
    "duration": 11,
    "start_time": "2021-11-24T04:49:19.964Z"
   },
   {
    "duration": 22,
    "start_time": "2021-11-24T04:49:19.977Z"
   },
   {
    "duration": 18,
    "start_time": "2021-11-24T04:49:26.872Z"
   },
   {
    "duration": 279,
    "start_time": "2021-11-24T04:49:29.362Z"
   },
   {
    "duration": 300,
    "start_time": "2021-11-24T04:49:45.350Z"
   },
   {
    "duration": 258,
    "start_time": "2021-11-24T04:50:04.726Z"
   },
   {
    "duration": 257,
    "start_time": "2021-11-24T04:50:46.241Z"
   },
   {
    "duration": 9,
    "start_time": "2021-11-24T04:50:51.053Z"
   },
   {
    "duration": 126,
    "start_time": "2021-11-24T04:50:57.469Z"
   },
   {
    "duration": 20,
    "start_time": "2021-11-24T04:50:57.598Z"
   },
   {
    "duration": 13,
    "start_time": "2021-11-24T04:50:57.621Z"
   },
   {
    "duration": 17,
    "start_time": "2021-11-24T04:50:57.637Z"
   },
   {
    "duration": 21,
    "start_time": "2021-11-24T04:50:57.657Z"
   },
   {
    "duration": 50,
    "start_time": "2021-11-24T04:50:57.681Z"
   },
   {
    "duration": 8,
    "start_time": "2021-11-24T04:50:57.734Z"
   },
   {
    "duration": 32,
    "start_time": "2021-11-24T04:50:57.746Z"
   },
   {
    "duration": 50,
    "start_time": "2021-11-24T04:50:57.782Z"
   },
   {
    "duration": 96,
    "start_time": "2021-11-24T04:50:57.834Z"
   },
   {
    "duration": 7,
    "start_time": "2021-11-24T04:50:57.933Z"
   },
   {
    "duration": 30,
    "start_time": "2021-11-24T04:50:57.943Z"
   },
   {
    "duration": 1569,
    "start_time": "2021-11-24T04:50:57.976Z"
   },
   {
    "duration": 17,
    "start_time": "2021-11-24T04:50:59.548Z"
   },
   {
    "duration": 15,
    "start_time": "2021-11-24T04:50:59.567Z"
   },
   {
    "duration": 26,
    "start_time": "2021-11-24T04:50:59.584Z"
   },
   {
    "duration": 14,
    "start_time": "2021-11-24T04:50:59.630Z"
   },
   {
    "duration": 11,
    "start_time": "2021-11-24T04:50:59.646Z"
   },
   {
    "duration": 396,
    "start_time": "2021-11-24T04:50:59.659Z"
   },
   {
    "duration": 390,
    "start_time": "2021-11-24T04:51:00.057Z"
   },
   {
    "duration": 347,
    "start_time": "2021-11-24T04:51:00.449Z"
   },
   {
    "duration": 373,
    "start_time": "2021-11-24T04:51:00.799Z"
   },
   {
    "duration": 33,
    "start_time": "2021-11-24T04:51:01.176Z"
   },
   {
    "duration": 70,
    "start_time": "2021-11-24T04:51:01.229Z"
   },
   {
    "duration": 57,
    "start_time": "2021-11-24T04:51:01.302Z"
   },
   {
    "duration": 13,
    "start_time": "2021-11-24T04:51:01.361Z"
   },
   {
    "duration": 13,
    "start_time": "2021-11-24T04:51:06.742Z"
   },
   {
    "duration": 17,
    "start_time": "2021-11-24T04:51:08.302Z"
   },
   {
    "duration": 91,
    "start_time": "2021-11-24T04:51:22.351Z"
   },
   {
    "duration": 8,
    "start_time": "2021-11-24T04:51:25.129Z"
   },
   {
    "duration": 13,
    "start_time": "2021-11-24T04:51:31.159Z"
   },
   {
    "duration": 87,
    "start_time": "2021-11-24T04:52:33.294Z"
   },
   {
    "duration": 15,
    "start_time": "2021-11-24T04:52:39.225Z"
   },
   {
    "duration": 10,
    "start_time": "2021-11-24T04:54:08.796Z"
   },
   {
    "duration": 258,
    "start_time": "2021-11-24T04:54:18.334Z"
   },
   {
    "duration": 126,
    "start_time": "2021-11-24T04:54:43.186Z"
   },
   {
    "duration": 22,
    "start_time": "2021-11-24T04:54:43.316Z"
   },
   {
    "duration": 15,
    "start_time": "2021-11-24T04:54:43.342Z"
   },
   {
    "duration": 22,
    "start_time": "2021-11-24T04:54:43.361Z"
   },
   {
    "duration": 27,
    "start_time": "2021-11-24T04:54:43.385Z"
   },
   {
    "duration": 39,
    "start_time": "2021-11-24T04:54:43.415Z"
   },
   {
    "duration": 8,
    "start_time": "2021-11-24T04:54:43.457Z"
   },
   {
    "duration": 57,
    "start_time": "2021-11-24T04:54:43.469Z"
   },
   {
    "duration": 19,
    "start_time": "2021-11-24T04:54:43.530Z"
   },
   {
    "duration": 93,
    "start_time": "2021-11-24T04:54:43.551Z"
   },
   {
    "duration": 6,
    "start_time": "2021-11-24T04:54:43.646Z"
   },
   {
    "duration": 41,
    "start_time": "2021-11-24T04:54:43.654Z"
   },
   {
    "duration": 1533,
    "start_time": "2021-11-24T04:54:43.698Z"
   },
   {
    "duration": 17,
    "start_time": "2021-11-24T04:54:45.234Z"
   },
   {
    "duration": 15,
    "start_time": "2021-11-24T04:54:45.254Z"
   },
   {
    "duration": 18,
    "start_time": "2021-11-24T04:54:45.272Z"
   },
   {
    "duration": 43,
    "start_time": "2021-11-24T04:54:45.292Z"
   },
   {
    "duration": 10,
    "start_time": "2021-11-24T04:54:45.337Z"
   },
   {
    "duration": 384,
    "start_time": "2021-11-24T04:54:45.349Z"
   },
   {
    "duration": 383,
    "start_time": "2021-11-24T04:54:45.735Z"
   },
   {
    "duration": 345,
    "start_time": "2021-11-24T04:54:46.121Z"
   },
   {
    "duration": 345,
    "start_time": "2021-11-24T04:54:46.468Z"
   },
   {
    "duration": 37,
    "start_time": "2021-11-24T04:54:46.817Z"
   },
   {
    "duration": 89,
    "start_time": "2021-11-24T04:54:46.857Z"
   },
   {
    "duration": 34,
    "start_time": "2021-11-24T04:54:46.949Z"
   },
   {
    "duration": 11,
    "start_time": "2021-11-24T04:54:46.986Z"
   },
   {
    "duration": 44,
    "start_time": "2021-11-24T04:54:47.000Z"
   },
   {
    "duration": 8,
    "start_time": "2021-11-24T04:54:47.046Z"
   },
   {
    "duration": 13,
    "start_time": "2021-11-24T04:54:48.623Z"
   },
   {
    "duration": 132,
    "start_time": "2021-11-24T04:55:03.780Z"
   },
   {
    "duration": 19,
    "start_time": "2021-11-24T04:55:03.915Z"
   },
   {
    "duration": 9,
    "start_time": "2021-11-24T04:55:03.937Z"
   },
   {
    "duration": 20,
    "start_time": "2021-11-24T04:55:03.949Z"
   },
   {
    "duration": 33,
    "start_time": "2021-11-24T04:55:03.972Z"
   },
   {
    "duration": 34,
    "start_time": "2021-11-24T04:55:04.008Z"
   },
   {
    "duration": 8,
    "start_time": "2021-11-24T04:55:04.044Z"
   },
   {
    "duration": 34,
    "start_time": "2021-11-24T04:55:04.056Z"
   },
   {
    "duration": 44,
    "start_time": "2021-11-24T04:55:04.093Z"
   },
   {
    "duration": 90,
    "start_time": "2021-11-24T04:55:04.140Z"
   },
   {
    "duration": 6,
    "start_time": "2021-11-24T04:55:04.233Z"
   },
   {
    "duration": 43,
    "start_time": "2021-11-24T04:55:04.241Z"
   },
   {
    "duration": 1536,
    "start_time": "2021-11-24T04:55:04.287Z"
   },
   {
    "duration": 15,
    "start_time": "2021-11-24T04:55:05.829Z"
   },
   {
    "duration": 34,
    "start_time": "2021-11-24T04:55:05.846Z"
   },
   {
    "duration": 32,
    "start_time": "2021-11-24T04:55:05.883Z"
   },
   {
    "duration": 16,
    "start_time": "2021-11-24T04:55:05.918Z"
   },
   {
    "duration": 13,
    "start_time": "2021-11-24T04:55:05.937Z"
   },
   {
    "duration": 370,
    "start_time": "2021-11-24T04:55:05.952Z"
   },
   {
    "duration": 386,
    "start_time": "2021-11-24T04:55:06.324Z"
   },
   {
    "duration": 348,
    "start_time": "2021-11-24T04:55:06.713Z"
   },
   {
    "duration": 348,
    "start_time": "2021-11-24T04:55:07.064Z"
   },
   {
    "duration": 37,
    "start_time": "2021-11-24T04:55:07.417Z"
   },
   {
    "duration": 90,
    "start_time": "2021-11-24T04:55:07.457Z"
   },
   {
    "duration": 35,
    "start_time": "2021-11-24T04:55:07.549Z"
   },
   {
    "duration": 26,
    "start_time": "2021-11-24T04:55:07.586Z"
   },
   {
    "duration": 49,
    "start_time": "2021-11-24T04:55:07.615Z"
   },
   {
    "duration": 9,
    "start_time": "2021-11-24T04:55:07.666Z"
   },
   {
    "duration": 15,
    "start_time": "2021-11-24T04:55:09.539Z"
   },
   {
    "duration": 269,
    "start_time": "2021-11-24T04:56:01.504Z"
   },
   {
    "duration": 125,
    "start_time": "2021-11-24T04:56:04.788Z"
   },
   {
    "duration": 19,
    "start_time": "2021-11-24T04:56:04.915Z"
   },
   {
    "duration": 9,
    "start_time": "2021-11-24T04:56:04.937Z"
   },
   {
    "duration": 11,
    "start_time": "2021-11-24T04:56:04.948Z"
   },
   {
    "duration": 26,
    "start_time": "2021-11-24T04:56:04.961Z"
   },
   {
    "duration": 51,
    "start_time": "2021-11-24T04:56:04.989Z"
   },
   {
    "duration": 8,
    "start_time": "2021-11-24T04:56:05.043Z"
   },
   {
    "duration": 31,
    "start_time": "2021-11-24T04:56:05.055Z"
   },
   {
    "duration": 51,
    "start_time": "2021-11-24T04:56:05.090Z"
   },
   {
    "duration": 93,
    "start_time": "2021-11-24T04:56:05.144Z"
   },
   {
    "duration": 6,
    "start_time": "2021-11-24T04:56:05.239Z"
   },
   {
    "duration": 32,
    "start_time": "2021-11-24T04:56:05.248Z"
   },
   {
    "duration": 1543,
    "start_time": "2021-11-24T04:56:05.282Z"
   },
   {
    "duration": 15,
    "start_time": "2021-11-24T04:56:06.827Z"
   },
   {
    "duration": 15,
    "start_time": "2021-11-24T04:56:06.845Z"
   },
   {
    "duration": 14,
    "start_time": "2021-11-24T04:56:06.863Z"
   },
   {
    "duration": 17,
    "start_time": "2021-11-24T04:56:06.880Z"
   },
   {
    "duration": 34,
    "start_time": "2021-11-24T04:56:06.899Z"
   },
   {
    "duration": 376,
    "start_time": "2021-11-24T04:56:06.936Z"
   },
   {
    "duration": 481,
    "start_time": "2021-11-24T04:56:07.315Z"
   },
   {
    "duration": 331,
    "start_time": "2021-11-24T04:56:07.798Z"
   },
   {
    "duration": 366,
    "start_time": "2021-11-24T04:56:08.131Z"
   },
   {
    "duration": 46,
    "start_time": "2021-11-24T04:56:08.500Z"
   },
   {
    "duration": 81,
    "start_time": "2021-11-24T04:56:08.548Z"
   },
   {
    "duration": 36,
    "start_time": "2021-11-24T04:56:08.631Z"
   },
   {
    "duration": 13,
    "start_time": "2021-11-24T04:56:08.669Z"
   },
   {
    "duration": 48,
    "start_time": "2021-11-24T04:56:08.687Z"
   },
   {
    "duration": 18,
    "start_time": "2021-11-24T04:56:08.738Z"
   },
   {
    "duration": 18,
    "start_time": "2021-11-24T04:56:11.294Z"
   },
   {
    "duration": 129,
    "start_time": "2021-11-24T04:57:36.506Z"
   },
   {
    "duration": 19,
    "start_time": "2021-11-24T04:57:36.638Z"
   },
   {
    "duration": 9,
    "start_time": "2021-11-24T04:57:36.660Z"
   },
   {
    "duration": 10,
    "start_time": "2021-11-24T04:57:36.672Z"
   },
   {
    "duration": 56,
    "start_time": "2021-11-24T04:57:36.684Z"
   },
   {
    "duration": 26,
    "start_time": "2021-11-24T04:57:36.742Z"
   },
   {
    "duration": 7,
    "start_time": "2021-11-24T04:57:36.770Z"
   },
   {
    "duration": 58,
    "start_time": "2021-11-24T04:57:36.780Z"
   },
   {
    "duration": 18,
    "start_time": "2021-11-24T04:57:36.841Z"
   },
   {
    "duration": 94,
    "start_time": "2021-11-24T04:57:36.862Z"
   },
   {
    "duration": 6,
    "start_time": "2021-11-24T04:57:36.958Z"
   },
   {
    "duration": 63,
    "start_time": "2021-11-24T04:57:36.966Z"
   },
   {
    "duration": 1637,
    "start_time": "2021-11-24T04:57:37.031Z"
   },
   {
    "duration": 17,
    "start_time": "2021-11-24T04:57:38.671Z"
   },
   {
    "duration": 14,
    "start_time": "2021-11-24T04:57:38.690Z"
   },
   {
    "duration": 15,
    "start_time": "2021-11-24T04:57:38.729Z"
   },
   {
    "duration": 31,
    "start_time": "2021-11-24T04:57:38.746Z"
   },
   {
    "duration": 10,
    "start_time": "2021-11-24T04:57:38.780Z"
   },
   {
    "duration": 372,
    "start_time": "2021-11-24T04:57:38.792Z"
   },
   {
    "duration": 1181,
    "start_time": "2021-11-24T04:57:39.167Z"
   },
   {
    "duration": 345,
    "start_time": "2021-11-24T04:57:40.351Z"
   },
   {
    "duration": 351,
    "start_time": "2021-11-24T04:57:40.698Z"
   },
   {
    "duration": 33,
    "start_time": "2021-11-24T04:57:41.051Z"
   },
   {
    "duration": 94,
    "start_time": "2021-11-24T04:57:41.086Z"
   },
   {
    "duration": 49,
    "start_time": "2021-11-24T04:57:41.182Z"
   },
   {
    "duration": 29,
    "start_time": "2021-11-24T04:57:44.326Z"
   },
   {
    "duration": 110,
    "start_time": "2021-11-24T04:59:27.190Z"
   },
   {
    "duration": 124,
    "start_time": "2021-11-24T05:03:10.114Z"
   },
   {
    "duration": 22,
    "start_time": "2021-11-24T05:03:10.241Z"
   },
   {
    "duration": 10,
    "start_time": "2021-11-24T05:03:10.268Z"
   },
   {
    "duration": 48,
    "start_time": "2021-11-24T05:03:10.281Z"
   },
   {
    "duration": 21,
    "start_time": "2021-11-24T05:03:10.331Z"
   },
   {
    "duration": 24,
    "start_time": "2021-11-24T05:03:10.354Z"
   },
   {
    "duration": 6,
    "start_time": "2021-11-24T05:03:10.381Z"
   },
   {
    "duration": 61,
    "start_time": "2021-11-24T05:03:10.391Z"
   },
   {
    "duration": 18,
    "start_time": "2021-11-24T05:03:10.455Z"
   },
   {
    "duration": 92,
    "start_time": "2021-11-24T05:03:10.475Z"
   },
   {
    "duration": 5,
    "start_time": "2021-11-24T05:03:10.569Z"
   },
   {
    "duration": 67,
    "start_time": "2021-11-24T05:03:10.577Z"
   },
   {
    "duration": 1512,
    "start_time": "2021-11-24T05:03:10.646Z"
   },
   {
    "duration": 16,
    "start_time": "2021-11-24T05:03:12.160Z"
   },
   {
    "duration": 54,
    "start_time": "2021-11-24T05:03:12.179Z"
   },
   {
    "duration": 16,
    "start_time": "2021-11-24T05:03:12.236Z"
   },
   {
    "duration": 20,
    "start_time": "2021-11-24T05:03:12.254Z"
   },
   {
    "duration": 8,
    "start_time": "2021-11-24T05:03:12.277Z"
   },
   {
    "duration": 357,
    "start_time": "2021-11-24T05:03:12.288Z"
   },
   {
    "duration": 382,
    "start_time": "2021-11-24T05:03:12.647Z"
   },
   {
    "duration": 449,
    "start_time": "2021-11-24T05:03:13.031Z"
   },
   {
    "duration": 449,
    "start_time": "2021-11-24T05:03:13.482Z"
   },
   {
    "duration": 32,
    "start_time": "2021-11-24T05:03:13.936Z"
   },
   {
    "duration": 92,
    "start_time": "2021-11-24T05:03:13.970Z"
   },
   {
    "duration": 35,
    "start_time": "2021-11-24T05:03:14.065Z"
   },
   {
    "duration": 43,
    "start_time": "2021-11-24T05:03:14.103Z"
   },
   {
    "duration": 29,
    "start_time": "2021-11-24T05:03:14.149Z"
   },
   {
    "duration": 1274,
    "start_time": "2021-11-24T05:03:14.180Z"
   },
   {
    "duration": 22,
    "start_time": "2021-11-24T05:03:15.457Z"
   },
   {
    "duration": 72,
    "start_time": "2021-11-24T05:03:15.481Z"
   },
   {
    "duration": 46,
    "start_time": "2021-11-24T05:03:15.555Z"
   },
   {
    "duration": 146,
    "start_time": "2021-11-24T05:10:12.432Z"
   },
   {
    "duration": 20,
    "start_time": "2021-11-24T05:10:12.581Z"
   },
   {
    "duration": 17,
    "start_time": "2021-11-24T05:10:12.604Z"
   },
   {
    "duration": 25,
    "start_time": "2021-11-24T05:10:12.623Z"
   },
   {
    "duration": 34,
    "start_time": "2021-11-24T05:10:12.650Z"
   },
   {
    "duration": 31,
    "start_time": "2021-11-24T05:10:12.687Z"
   },
   {
    "duration": 8,
    "start_time": "2021-11-24T05:10:12.721Z"
   },
   {
    "duration": 40,
    "start_time": "2021-11-24T05:10:12.731Z"
   },
   {
    "duration": 19,
    "start_time": "2021-11-24T05:10:12.774Z"
   },
   {
    "duration": 89,
    "start_time": "2021-11-24T05:10:12.797Z"
   },
   {
    "duration": 6,
    "start_time": "2021-11-24T05:10:12.888Z"
   },
   {
    "duration": 62,
    "start_time": "2021-11-24T05:10:12.896Z"
   },
   {
    "duration": 1558,
    "start_time": "2021-11-24T05:10:12.960Z"
   },
   {
    "duration": 24,
    "start_time": "2021-11-24T05:10:14.521Z"
   },
   {
    "duration": 23,
    "start_time": "2021-11-24T05:10:14.547Z"
   },
   {
    "duration": 22,
    "start_time": "2021-11-24T05:10:14.572Z"
   },
   {
    "duration": 13,
    "start_time": "2021-11-24T05:10:14.596Z"
   },
   {
    "duration": 9,
    "start_time": "2021-11-24T05:10:14.629Z"
   },
   {
    "duration": 489,
    "start_time": "2021-11-24T05:10:14.640Z"
   },
   {
    "duration": 390,
    "start_time": "2021-11-24T05:10:15.132Z"
   },
   {
    "duration": 340,
    "start_time": "2021-11-24T05:10:15.528Z"
   },
   {
    "duration": 352,
    "start_time": "2021-11-24T05:10:15.870Z"
   },
   {
    "duration": 32,
    "start_time": "2021-11-24T05:10:16.228Z"
   },
   {
    "duration": 86,
    "start_time": "2021-11-24T05:10:16.262Z"
   },
   {
    "duration": 35,
    "start_time": "2021-11-24T05:10:16.351Z"
   },
   {
    "duration": 46,
    "start_time": "2021-11-24T05:10:16.388Z"
   },
   {
    "duration": 46,
    "start_time": "2021-11-24T05:10:16.439Z"
   },
   {
    "duration": 1260,
    "start_time": "2021-11-24T05:10:16.488Z"
   },
   {
    "duration": 23,
    "start_time": "2021-11-24T05:10:17.751Z"
   },
   {
    "duration": 70,
    "start_time": "2021-11-24T05:10:17.776Z"
   },
   {
    "duration": 45,
    "start_time": "2021-11-24T05:10:17.848Z"
   },
   {
    "duration": 1795,
    "start_time": "2021-11-24T18:51:43.128Z"
   },
   {
    "duration": 33,
    "start_time": "2021-11-24T18:51:44.926Z"
   },
   {
    "duration": 11,
    "start_time": "2021-11-24T18:51:44.963Z"
   },
   {
    "duration": 12,
    "start_time": "2021-11-24T18:51:44.977Z"
   },
   {
    "duration": 26,
    "start_time": "2021-11-24T18:51:44.991Z"
   },
   {
    "duration": 48,
    "start_time": "2021-11-24T18:51:45.020Z"
   },
   {
    "duration": 8,
    "start_time": "2021-11-24T18:51:45.071Z"
   },
   {
    "duration": 30,
    "start_time": "2021-11-24T18:51:45.082Z"
   },
   {
    "duration": 17,
    "start_time": "2021-11-24T18:51:45.115Z"
   },
   {
    "duration": 64,
    "start_time": "2021-11-24T18:51:45.166Z"
   },
   {
    "duration": 7,
    "start_time": "2021-11-24T18:51:45.267Z"
   },
   {
    "duration": 31,
    "start_time": "2021-11-24T18:51:45.276Z"
   },
   {
    "duration": 1569,
    "start_time": "2021-11-24T18:51:45.309Z"
   },
   {
    "duration": 16,
    "start_time": "2021-11-24T18:51:46.880Z"
   },
   {
    "duration": 13,
    "start_time": "2021-11-24T18:51:46.899Z"
   },
   {
    "duration": 15,
    "start_time": "2021-11-24T18:51:46.914Z"
   },
   {
    "duration": 16,
    "start_time": "2021-11-24T18:51:46.968Z"
   },
   {
    "duration": 10,
    "start_time": "2021-11-24T18:51:46.986Z"
   },
   {
    "duration": 416,
    "start_time": "2021-11-24T18:51:46.999Z"
   },
   {
    "duration": 412,
    "start_time": "2021-11-24T18:51:47.417Z"
   },
   {
    "duration": 364,
    "start_time": "2021-11-24T18:51:47.832Z"
   },
   {
    "duration": 477,
    "start_time": "2021-11-24T18:51:48.199Z"
   },
   {
    "duration": 35,
    "start_time": "2021-11-24T18:51:48.681Z"
   },
   {
    "duration": 105,
    "start_time": "2021-11-24T18:51:48.719Z"
   },
   {
    "duration": 57,
    "start_time": "2021-11-24T18:51:48.827Z"
   },
   {
    "duration": 28,
    "start_time": "2021-11-24T18:51:48.886Z"
   },
   {
    "duration": 59,
    "start_time": "2021-11-24T18:51:48.916Z"
   },
   {
    "duration": 1318,
    "start_time": "2021-11-24T18:51:48.977Z"
   },
   {
    "duration": 25,
    "start_time": "2021-11-24T18:51:50.297Z"
   },
   {
    "duration": 71,
    "start_time": "2021-11-24T18:51:50.324Z"
   },
   {
    "duration": 46,
    "start_time": "2021-11-24T18:51:50.397Z"
   },
   {
    "duration": 138,
    "start_time": "2021-11-24T18:57:57.563Z"
   },
   {
    "duration": 154,
    "start_time": "2021-11-24T18:58:09.415Z"
   },
   {
    "duration": 92,
    "start_time": "2021-11-24T18:58:19.701Z"
   },
   {
    "duration": 7273,
    "start_time": "2021-11-24T18:58:39.668Z"
   },
   {
    "duration": 342,
    "start_time": "2021-11-24T18:59:41.409Z"
   },
   {
    "duration": 5,
    "start_time": "2021-11-24T19:05:30.721Z"
   },
   {
    "duration": 7,
    "start_time": "2021-11-24T19:06:31.627Z"
   },
   {
    "duration": 6,
    "start_time": "2021-11-24T19:07:14.997Z"
   },
   {
    "duration": 162,
    "start_time": "2021-11-24T19:14:45.642Z"
   },
   {
    "duration": 31,
    "start_time": "2021-11-24T19:14:45.807Z"
   },
   {
    "duration": 10,
    "start_time": "2021-11-24T19:14:45.866Z"
   },
   {
    "duration": 14,
    "start_time": "2021-11-24T19:14:45.880Z"
   },
   {
    "duration": 23,
    "start_time": "2021-11-24T19:14:45.897Z"
   },
   {
    "duration": 65,
    "start_time": "2021-11-24T19:14:45.924Z"
   },
   {
    "duration": 8,
    "start_time": "2021-11-24T19:14:45.992Z"
   },
   {
    "duration": 36,
    "start_time": "2021-11-24T19:14:46.003Z"
   },
   {
    "duration": 38,
    "start_time": "2021-11-24T19:14:46.042Z"
   },
   {
    "duration": 105,
    "start_time": "2021-11-24T19:14:46.083Z"
   },
   {
    "duration": 6,
    "start_time": "2021-11-24T19:14:46.191Z"
   },
   {
    "duration": 79,
    "start_time": "2021-11-24T19:14:46.200Z"
   },
   {
    "duration": 2159,
    "start_time": "2021-11-24T19:14:46.282Z"
   },
   {
    "duration": 28,
    "start_time": "2021-11-24T19:14:48.444Z"
   },
   {
    "duration": 12,
    "start_time": "2021-11-24T19:14:48.475Z"
   },
   {
    "duration": 14,
    "start_time": "2021-11-24T19:14:48.490Z"
   },
   {
    "duration": 19,
    "start_time": "2021-11-24T19:14:48.507Z"
   },
   {
    "duration": 46,
    "start_time": "2021-11-24T19:14:48.529Z"
   },
   {
    "duration": 397,
    "start_time": "2021-11-24T19:14:48.578Z"
   },
   {
    "duration": 412,
    "start_time": "2021-11-24T19:14:48.977Z"
   },
   {
    "duration": 461,
    "start_time": "2021-11-24T19:14:49.392Z"
   },
   {
    "duration": 462,
    "start_time": "2021-11-24T19:14:49.856Z"
   },
   {
    "duration": 374,
    "start_time": "2021-11-24T19:14:50.325Z"
   },
   {
    "duration": 36,
    "start_time": "2021-11-24T19:14:50.703Z"
   },
   {
    "duration": 98,
    "start_time": "2021-11-24T19:14:50.743Z"
   },
   {
    "duration": 62,
    "start_time": "2021-11-24T19:14:50.844Z"
   },
   {
    "duration": 59,
    "start_time": "2021-11-24T19:14:50.909Z"
   },
   {
    "duration": 42,
    "start_time": "2021-11-24T19:14:50.972Z"
   },
   {
    "duration": 1917,
    "start_time": "2021-11-24T19:14:51.017Z"
   },
   {
    "duration": 44,
    "start_time": "2021-11-24T19:14:52.937Z"
   },
   {
    "duration": 67,
    "start_time": "2021-11-24T19:14:52.984Z"
   },
   {
    "duration": 50,
    "start_time": "2021-11-24T19:14:53.067Z"
   },
   {
    "duration": 1297,
    "start_time": "2021-11-24T19:16:27.573Z"
   },
   {
    "duration": 88,
    "start_time": "2021-11-24T19:20:53.237Z"
   },
   {
    "duration": 365,
    "start_time": "2021-11-24T19:20:58.046Z"
   },
   {
    "duration": 71,
    "start_time": "2021-11-24T19:21:13.071Z"
   },
   {
    "duration": 1318,
    "start_time": "2021-11-24T19:22:34.915Z"
   },
   {
    "duration": 1583,
    "start_time": "2021-11-24T19:23:20.221Z"
   },
   {
    "duration": 1519,
    "start_time": "2021-11-24T19:23:39.160Z"
   },
   {
    "duration": 1539,
    "start_time": "2021-11-24T19:23:45.940Z"
   },
   {
    "duration": 1575,
    "start_time": "2021-11-24T19:25:00.805Z"
   },
   {
    "duration": 148,
    "start_time": "2021-11-24T19:28:06.422Z"
   },
   {
    "duration": 21,
    "start_time": "2021-11-24T19:28:06.573Z"
   },
   {
    "duration": 11,
    "start_time": "2021-11-24T19:28:06.598Z"
   },
   {
    "duration": 57,
    "start_time": "2021-11-24T19:28:06.613Z"
   },
   {
    "duration": 22,
    "start_time": "2021-11-24T19:28:06.672Z"
   },
   {
    "duration": 27,
    "start_time": "2021-11-24T19:28:06.696Z"
   },
   {
    "duration": 43,
    "start_time": "2021-11-24T19:28:06.726Z"
   },
   {
    "duration": 32,
    "start_time": "2021-11-24T19:28:06.773Z"
   },
   {
    "duration": 17,
    "start_time": "2021-11-24T19:28:06.808Z"
   },
   {
    "duration": 96,
    "start_time": "2021-11-24T19:28:06.828Z"
   },
   {
    "duration": 42,
    "start_time": "2021-11-24T19:28:06.927Z"
   },
   {
    "duration": 30,
    "start_time": "2021-11-24T19:28:06.972Z"
   },
   {
    "duration": 1590,
    "start_time": "2021-11-24T19:28:07.005Z"
   },
   {
    "duration": 17,
    "start_time": "2021-11-24T19:28:08.598Z"
   },
   {
    "duration": 14,
    "start_time": "2021-11-24T19:28:08.618Z"
   },
   {
    "duration": 46,
    "start_time": "2021-11-24T19:28:08.635Z"
   },
   {
    "duration": 19,
    "start_time": "2021-11-24T19:28:08.684Z"
   },
   {
    "duration": 10,
    "start_time": "2021-11-24T19:28:08.706Z"
   },
   {
    "duration": 401,
    "start_time": "2021-11-24T19:28:08.719Z"
   },
   {
    "duration": 397,
    "start_time": "2021-11-24T19:28:09.122Z"
   },
   {
    "duration": 341,
    "start_time": "2021-11-24T19:28:09.522Z"
   },
   {
    "duration": 369,
    "start_time": "2021-11-24T19:28:09.868Z"
   },
   {
    "duration": 356,
    "start_time": "2021-11-24T19:28:10.241Z"
   },
   {
    "duration": 32,
    "start_time": "2021-11-24T19:28:10.599Z"
   },
   {
    "duration": 1579,
    "start_time": "2021-11-24T19:28:10.634Z"
   },
   {
    "duration": 55,
    "start_time": "2021-11-24T19:28:12.215Z"
   },
   {
    "duration": 29,
    "start_time": "2021-11-24T19:28:12.273Z"
   },
   {
    "duration": 32,
    "start_time": "2021-11-24T19:28:12.304Z"
   },
   {
    "duration": 1769,
    "start_time": "2021-11-24T19:28:12.338Z"
   },
   {
    "duration": 25,
    "start_time": "2021-11-24T19:28:14.109Z"
   },
   {
    "duration": 71,
    "start_time": "2021-11-24T19:28:14.136Z"
   },
   {
    "duration": 67,
    "start_time": "2021-11-24T19:28:14.210Z"
   },
   {
    "duration": 364,
    "start_time": "2021-11-24T19:29:08.023Z"
   },
   {
    "duration": 1143,
    "start_time": "2021-11-24T19:29:22.624Z"
   },
   {
    "duration": 19,
    "start_time": "2021-11-24T19:29:23.769Z"
   },
   {
    "duration": 8,
    "start_time": "2021-11-24T19:29:23.791Z"
   },
   {
    "duration": 12,
    "start_time": "2021-11-24T19:29:23.801Z"
   },
   {
    "duration": 52,
    "start_time": "2021-11-24T19:29:23.815Z"
   },
   {
    "duration": 25,
    "start_time": "2021-11-24T19:29:23.870Z"
   },
   {
    "duration": 8,
    "start_time": "2021-11-24T19:29:23.898Z"
   },
   {
    "duration": 64,
    "start_time": "2021-11-24T19:29:23.910Z"
   },
   {
    "duration": 18,
    "start_time": "2021-11-24T19:29:23.977Z"
   },
   {
    "duration": 100,
    "start_time": "2021-11-24T19:29:23.998Z"
   },
   {
    "duration": 6,
    "start_time": "2021-11-24T19:29:24.101Z"
   },
   {
    "duration": 59,
    "start_time": "2021-11-24T19:29:24.110Z"
   },
   {
    "duration": 130,
    "start_time": "2021-11-24T19:29:29.351Z"
   },
   {
    "duration": 21,
    "start_time": "2021-11-24T19:29:29.485Z"
   },
   {
    "duration": 11,
    "start_time": "2021-11-24T19:29:29.508Z"
   },
   {
    "duration": 11,
    "start_time": "2021-11-24T19:29:29.522Z"
   },
   {
    "duration": 20,
    "start_time": "2021-11-24T19:29:29.576Z"
   },
   {
    "duration": 99,
    "start_time": "2021-11-24T19:29:29.599Z"
   },
   {
    "duration": 11,
    "start_time": "2021-11-24T19:29:29.701Z"
   },
   {
    "duration": 160,
    "start_time": "2021-11-24T19:29:29.715Z"
   },
   {
    "duration": 16,
    "start_time": "2021-11-24T19:29:29.877Z"
   },
   {
    "duration": 100,
    "start_time": "2021-11-24T19:29:29.896Z"
   },
   {
    "duration": 8,
    "start_time": "2021-11-24T19:29:29.999Z"
   },
   {
    "duration": 66,
    "start_time": "2021-11-24T19:29:30.010Z"
   },
   {
    "duration": 1573,
    "start_time": "2021-11-24T19:29:30.078Z"
   },
   {
    "duration": 22,
    "start_time": "2021-11-24T19:29:31.653Z"
   },
   {
    "duration": 20,
    "start_time": "2021-11-24T19:29:31.678Z"
   },
   {
    "duration": 21,
    "start_time": "2021-11-24T19:29:31.700Z"
   },
   {
    "duration": 21,
    "start_time": "2021-11-24T19:29:31.724Z"
   },
   {
    "duration": 26,
    "start_time": "2021-11-24T19:29:31.748Z"
   },
   {
    "duration": 403,
    "start_time": "2021-11-24T19:29:31.776Z"
   },
   {
    "duration": 399,
    "start_time": "2021-11-24T19:29:32.182Z"
   },
   {
    "duration": 349,
    "start_time": "2021-11-24T19:29:32.585Z"
   },
   {
    "duration": 359,
    "start_time": "2021-11-24T19:29:32.937Z"
   },
   {
    "duration": 370,
    "start_time": "2021-11-24T19:29:33.298Z"
   },
   {
    "duration": 33,
    "start_time": "2021-11-24T19:29:33.671Z"
   },
   {
    "duration": 1899,
    "start_time": "2021-11-24T19:29:33.707Z"
   },
   {
    "duration": 81,
    "start_time": "2021-11-24T19:29:35.609Z"
   },
   {
    "duration": 38,
    "start_time": "2021-11-24T19:29:35.693Z"
   },
   {
    "duration": 51,
    "start_time": "2021-11-24T19:29:35.733Z"
   },
   {
    "duration": 34,
    "start_time": "2021-11-24T19:29:35.788Z"
   },
   {
    "duration": 1421,
    "start_time": "2021-11-24T19:29:35.824Z"
   },
   {
    "duration": 32,
    "start_time": "2021-11-24T19:29:37.248Z"
   },
   {
    "duration": 47,
    "start_time": "2021-11-24T19:29:37.282Z"
   },
   {
    "duration": 73,
    "start_time": "2021-11-24T19:29:37.332Z"
   },
   {
    "duration": 1504,
    "start_time": "2021-11-24T19:30:39.818Z"
   },
   {
    "duration": 77,
    "start_time": "2021-11-24T19:31:47.324Z"
   },
   {
    "duration": 31,
    "start_time": "2021-11-24T19:35:53.887Z"
   },
   {
    "duration": 98,
    "start_time": "2021-11-24T19:37:24.558Z"
   },
   {
    "duration": 29,
    "start_time": "2021-11-24T19:37:32.714Z"
   },
   {
    "duration": 35,
    "start_time": "2021-11-24T19:37:44.280Z"
   },
   {
    "duration": 33,
    "start_time": "2021-11-24T19:38:58.908Z"
   },
   {
    "duration": 46,
    "start_time": "2021-11-24T19:39:18.544Z"
   },
   {
    "duration": 1885,
    "start_time": "2021-11-24T19:40:51.457Z"
   },
   {
    "duration": 1731,
    "start_time": "2021-11-24T19:44:48.824Z"
   },
   {
    "duration": 1779,
    "start_time": "2021-11-24T19:45:33.563Z"
   },
   {
    "duration": 1801,
    "start_time": "2021-11-24T19:45:46.730Z"
   },
   {
    "duration": 126,
    "start_time": "2021-11-24T19:46:07.702Z"
   },
   {
    "duration": 19,
    "start_time": "2021-11-24T19:46:07.830Z"
   },
   {
    "duration": 15,
    "start_time": "2021-11-24T19:46:07.854Z"
   },
   {
    "duration": 11,
    "start_time": "2021-11-24T19:46:07.871Z"
   },
   {
    "duration": 24,
    "start_time": "2021-11-24T19:46:07.885Z"
   },
   {
    "duration": 65,
    "start_time": "2021-11-24T19:46:07.911Z"
   },
   {
    "duration": 8,
    "start_time": "2021-11-24T19:46:07.979Z"
   },
   {
    "duration": 38,
    "start_time": "2021-11-24T19:46:07.990Z"
   },
   {
    "duration": 41,
    "start_time": "2021-11-24T19:46:08.033Z"
   },
   {
    "duration": 95,
    "start_time": "2021-11-24T19:46:08.078Z"
   },
   {
    "duration": 5,
    "start_time": "2021-11-24T19:46:08.176Z"
   },
   {
    "duration": 31,
    "start_time": "2021-11-24T19:46:08.184Z"
   },
   {
    "duration": 1606,
    "start_time": "2021-11-24T19:46:08.217Z"
   },
   {
    "duration": 15,
    "start_time": "2021-11-24T19:46:09.826Z"
   },
   {
    "duration": 30,
    "start_time": "2021-11-24T19:46:09.843Z"
   },
   {
    "duration": 25,
    "start_time": "2021-11-24T19:46:09.875Z"
   },
   {
    "duration": 23,
    "start_time": "2021-11-24T19:46:09.903Z"
   },
   {
    "duration": 9,
    "start_time": "2021-11-24T19:46:09.929Z"
   },
   {
    "duration": 385,
    "start_time": "2021-11-24T19:46:09.940Z"
   },
   {
    "duration": 391,
    "start_time": "2021-11-24T19:46:10.329Z"
   },
   {
    "duration": 498,
    "start_time": "2021-11-24T19:46:10.723Z"
   },
   {
    "duration": 375,
    "start_time": "2021-11-24T19:46:11.224Z"
   },
   {
    "duration": 360,
    "start_time": "2021-11-24T19:46:11.602Z"
   },
   {
    "duration": 33,
    "start_time": "2021-11-24T19:46:11.967Z"
   },
   {
    "duration": 1772,
    "start_time": "2021-11-24T19:46:12.003Z"
   },
   {
    "duration": 34,
    "start_time": "2021-11-24T19:46:13.778Z"
   },
   {
    "duration": 69,
    "start_time": "2021-11-24T19:46:13.819Z"
   },
   {
    "duration": 30,
    "start_time": "2021-11-24T19:46:13.891Z"
   },
   {
    "duration": 60,
    "start_time": "2021-11-24T19:46:13.923Z"
   },
   {
    "duration": 1285,
    "start_time": "2021-11-24T19:46:13.985Z"
   },
   {
    "duration": 24,
    "start_time": "2021-11-24T19:46:15.273Z"
   },
   {
    "duration": 72,
    "start_time": "2021-11-24T19:46:15.299Z"
   },
   {
    "duration": 47,
    "start_time": "2021-11-24T19:46:15.374Z"
   }
  ],
  "colab": {
   "name": "DA+. Сборный проект 1. Шаблон (1).ipynb",
   "provenance": []
  },
  "kernelspec": {
   "display_name": "Python 3 (ipykernel)",
   "language": "python",
   "name": "python3"
  },
  "language_info": {
   "codemirror_mode": {
    "name": "ipython",
    "version": 3
   },
   "file_extension": ".py",
   "mimetype": "text/x-python",
   "name": "python",
   "nbconvert_exporter": "python",
   "pygments_lexer": "ipython3",
   "version": "3.9.5"
  },
  "toc": {
   "base_numbering": 1,
   "nav_menu": {},
   "number_sections": true,
   "sideBar": true,
   "skip_h1_title": true,
   "title_cell": "Содержание",
   "title_sidebar": "Contents",
   "toc_cell": true,
   "toc_position": {
    "height": "calc(100% - 180px)",
    "left": "10px",
    "top": "150px",
    "width": "344px"
   },
   "toc_section_display": true,
   "toc_window_display": false
  }
 },
 "nbformat": 4,
 "nbformat_minor": 1
}
